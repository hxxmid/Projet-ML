{
 "cells": [
  {
   "cell_type": "code",
   "execution_count": 369,
   "id": "17314d74-f0f5-4060-ade2-0c37e25dce37",
   "metadata": {
    "ExecuteTime": {
     "end_time": "2024-03-29T14:46:48.663135Z",
     "start_time": "2024-03-29T14:46:48.655397Z"
    }
   },
   "outputs": [],
   "source": [
    "import pandas as pd\n",
    "import numpy as np\n",
    "\n",
    "from sklearn.model_selection import train_test_split\n",
    "from sklearn.linear_model import LinearRegression"
   ]
  },
  {
   "cell_type": "code",
   "execution_count": 370,
   "id": "ae833e6d-41fb-46bf-9929-f30d593be776",
   "metadata": {
    "ExecuteTime": {
     "end_time": "2024-03-29T14:46:49.593237Z",
     "start_time": "2024-03-29T14:46:49.557048Z"
    }
   },
   "outputs": [],
   "source": [
    "#On charge les données \n",
    "df = pd.read_csv('Cardetails.csv')"
   ]
  },
  {
   "cell_type": "code",
   "execution_count": 371,
   "id": "b187fbd1-b9ad-4a4b-b19b-8cd077163268",
   "metadata": {
    "ExecuteTime": {
     "end_time": "2024-03-29T14:46:50.345159Z",
     "start_time": "2024-03-29T14:46:50.324532Z"
    }
   },
   "outputs": [
    {
     "data": {
      "text/plain": "                                   name  year  selling_price  km_driven  \\\n0                Maruti Swift Dzire VDI  2014         450000     145500   \n1          Skoda Rapid 1.5 TDI Ambition  2014         370000     120000   \n2              Honda City 2017-2020 EXi  2006         158000     140000   \n3             Hyundai i20 Sportz Diesel  2010         225000     127000   \n4                Maruti Swift VXI BSIII  2007         130000     120000   \n5         Hyundai Xcent 1.2 VTVT E Plus  2017         440000      45000   \n6          Maruti Wagon R LXI DUO BSIII  2007          96000     175000   \n7                    Maruti 800 DX BSII  2001          45000       5000   \n8                      Toyota Etios VXD  2011         350000      90000   \n9  Ford Figo Diesel Celebration Edition  2013         200000     169000   \n\n     fuel seller_type transmission         owner     mileage   engine  \\\n0  Diesel  Individual       Manual   First Owner   23.4 kmpl  1248 CC   \n1  Diesel  Individual       Manual  Second Owner  21.14 kmpl  1498 CC   \n2  Petrol  Individual       Manual   Third Owner   17.7 kmpl  1497 CC   \n3  Diesel  Individual       Manual   First Owner   23.0 kmpl  1396 CC   \n4  Petrol  Individual       Manual   First Owner   16.1 kmpl  1298 CC   \n5  Petrol  Individual       Manual   First Owner  20.14 kmpl  1197 CC   \n6     LPG  Individual       Manual   First Owner  17.3 km/kg  1061 CC   \n7  Petrol  Individual       Manual  Second Owner   16.1 kmpl   796 CC   \n8  Diesel  Individual       Manual   First Owner  23.59 kmpl  1364 CC   \n9  Diesel  Individual       Manual   First Owner   20.0 kmpl  1399 CC   \n\n    max_power                    torque  seats  \n0      74 bhp            190Nm@ 2000rpm    5.0  \n1  103.52 bhp       250Nm@ 1500-2500rpm    5.0  \n2      78 bhp     12.7@ 2,700(kgm@ rpm)    5.0  \n3      90 bhp  22.4 kgm at 1750-2750rpm    5.0  \n4    88.2 bhp     11.5@ 4,500(kgm@ rpm)    5.0  \n5   81.86 bhp         113.75nm@ 4000rpm    5.0  \n6    57.5 bhp      7.8@ 4,500(kgm@ rpm)    5.0  \n7      37 bhp             59Nm@ 2500rpm    4.0  \n8    67.1 bhp       170Nm@ 1800-2400rpm    5.0  \n9    68.1 bhp            160Nm@ 2000rpm    5.0  ",
      "text/html": "<div>\n<style scoped>\n    .dataframe tbody tr th:only-of-type {\n        vertical-align: middle;\n    }\n\n    .dataframe tbody tr th {\n        vertical-align: top;\n    }\n\n    .dataframe thead th {\n        text-align: right;\n    }\n</style>\n<table border=\"1\" class=\"dataframe\">\n  <thead>\n    <tr style=\"text-align: right;\">\n      <th></th>\n      <th>name</th>\n      <th>year</th>\n      <th>selling_price</th>\n      <th>km_driven</th>\n      <th>fuel</th>\n      <th>seller_type</th>\n      <th>transmission</th>\n      <th>owner</th>\n      <th>mileage</th>\n      <th>engine</th>\n      <th>max_power</th>\n      <th>torque</th>\n      <th>seats</th>\n    </tr>\n  </thead>\n  <tbody>\n    <tr>\n      <th>0</th>\n      <td>Maruti Swift Dzire VDI</td>\n      <td>2014</td>\n      <td>450000</td>\n      <td>145500</td>\n      <td>Diesel</td>\n      <td>Individual</td>\n      <td>Manual</td>\n      <td>First Owner</td>\n      <td>23.4 kmpl</td>\n      <td>1248 CC</td>\n      <td>74 bhp</td>\n      <td>190Nm@ 2000rpm</td>\n      <td>5.0</td>\n    </tr>\n    <tr>\n      <th>1</th>\n      <td>Skoda Rapid 1.5 TDI Ambition</td>\n      <td>2014</td>\n      <td>370000</td>\n      <td>120000</td>\n      <td>Diesel</td>\n      <td>Individual</td>\n      <td>Manual</td>\n      <td>Second Owner</td>\n      <td>21.14 kmpl</td>\n      <td>1498 CC</td>\n      <td>103.52 bhp</td>\n      <td>250Nm@ 1500-2500rpm</td>\n      <td>5.0</td>\n    </tr>\n    <tr>\n      <th>2</th>\n      <td>Honda City 2017-2020 EXi</td>\n      <td>2006</td>\n      <td>158000</td>\n      <td>140000</td>\n      <td>Petrol</td>\n      <td>Individual</td>\n      <td>Manual</td>\n      <td>Third Owner</td>\n      <td>17.7 kmpl</td>\n      <td>1497 CC</td>\n      <td>78 bhp</td>\n      <td>12.7@ 2,700(kgm@ rpm)</td>\n      <td>5.0</td>\n    </tr>\n    <tr>\n      <th>3</th>\n      <td>Hyundai i20 Sportz Diesel</td>\n      <td>2010</td>\n      <td>225000</td>\n      <td>127000</td>\n      <td>Diesel</td>\n      <td>Individual</td>\n      <td>Manual</td>\n      <td>First Owner</td>\n      <td>23.0 kmpl</td>\n      <td>1396 CC</td>\n      <td>90 bhp</td>\n      <td>22.4 kgm at 1750-2750rpm</td>\n      <td>5.0</td>\n    </tr>\n    <tr>\n      <th>4</th>\n      <td>Maruti Swift VXI BSIII</td>\n      <td>2007</td>\n      <td>130000</td>\n      <td>120000</td>\n      <td>Petrol</td>\n      <td>Individual</td>\n      <td>Manual</td>\n      <td>First Owner</td>\n      <td>16.1 kmpl</td>\n      <td>1298 CC</td>\n      <td>88.2 bhp</td>\n      <td>11.5@ 4,500(kgm@ rpm)</td>\n      <td>5.0</td>\n    </tr>\n    <tr>\n      <th>5</th>\n      <td>Hyundai Xcent 1.2 VTVT E Plus</td>\n      <td>2017</td>\n      <td>440000</td>\n      <td>45000</td>\n      <td>Petrol</td>\n      <td>Individual</td>\n      <td>Manual</td>\n      <td>First Owner</td>\n      <td>20.14 kmpl</td>\n      <td>1197 CC</td>\n      <td>81.86 bhp</td>\n      <td>113.75nm@ 4000rpm</td>\n      <td>5.0</td>\n    </tr>\n    <tr>\n      <th>6</th>\n      <td>Maruti Wagon R LXI DUO BSIII</td>\n      <td>2007</td>\n      <td>96000</td>\n      <td>175000</td>\n      <td>LPG</td>\n      <td>Individual</td>\n      <td>Manual</td>\n      <td>First Owner</td>\n      <td>17.3 km/kg</td>\n      <td>1061 CC</td>\n      <td>57.5 bhp</td>\n      <td>7.8@ 4,500(kgm@ rpm)</td>\n      <td>5.0</td>\n    </tr>\n    <tr>\n      <th>7</th>\n      <td>Maruti 800 DX BSII</td>\n      <td>2001</td>\n      <td>45000</td>\n      <td>5000</td>\n      <td>Petrol</td>\n      <td>Individual</td>\n      <td>Manual</td>\n      <td>Second Owner</td>\n      <td>16.1 kmpl</td>\n      <td>796 CC</td>\n      <td>37 bhp</td>\n      <td>59Nm@ 2500rpm</td>\n      <td>4.0</td>\n    </tr>\n    <tr>\n      <th>8</th>\n      <td>Toyota Etios VXD</td>\n      <td>2011</td>\n      <td>350000</td>\n      <td>90000</td>\n      <td>Diesel</td>\n      <td>Individual</td>\n      <td>Manual</td>\n      <td>First Owner</td>\n      <td>23.59 kmpl</td>\n      <td>1364 CC</td>\n      <td>67.1 bhp</td>\n      <td>170Nm@ 1800-2400rpm</td>\n      <td>5.0</td>\n    </tr>\n    <tr>\n      <th>9</th>\n      <td>Ford Figo Diesel Celebration Edition</td>\n      <td>2013</td>\n      <td>200000</td>\n      <td>169000</td>\n      <td>Diesel</td>\n      <td>Individual</td>\n      <td>Manual</td>\n      <td>First Owner</td>\n      <td>20.0 kmpl</td>\n      <td>1399 CC</td>\n      <td>68.1 bhp</td>\n      <td>160Nm@ 2000rpm</td>\n      <td>5.0</td>\n    </tr>\n  </tbody>\n</table>\n</div>"
     },
     "execution_count": 371,
     "metadata": {},
     "output_type": "execute_result"
    }
   ],
   "source": [
    "#Apppercu des 10 premières lignes\n",
    "df.head(10)"
   ]
  },
  {
   "cell_type": "code",
   "execution_count": 372,
   "id": "b8ac1dc0-b1f8-4035-a05f-522177b85cf8",
   "metadata": {
    "ExecuteTime": {
     "end_time": "2024-03-29T14:46:51.556822Z",
     "start_time": "2024-03-29T14:46:51.549717Z"
    }
   },
   "outputs": [],
   "source": [
    "#On supprime la colonne 'torque' car elle ne nous sera pas utile\n",
    "df.drop(columns=['torque'], inplace=True)"
   ]
  },
  {
   "cell_type": "code",
   "execution_count": 373,
   "id": "45f085de-8e8e-4374-8392-53aff633268f",
   "metadata": {
    "ExecuteTime": {
     "end_time": "2024-03-29T14:46:52.726284Z",
     "start_time": "2024-03-29T14:46:52.706294Z"
    }
   },
   "outputs": [
    {
     "data": {
      "text/plain": "                           name  year  selling_price  km_driven    fuel  \\\n0        Maruti Swift Dzire VDI  2014         450000     145500  Diesel   \n1  Skoda Rapid 1.5 TDI Ambition  2014         370000     120000  Diesel   \n2      Honda City 2017-2020 EXi  2006         158000     140000  Petrol   \n3     Hyundai i20 Sportz Diesel  2010         225000     127000  Diesel   \n4        Maruti Swift VXI BSIII  2007         130000     120000  Petrol   \n\n  seller_type transmission         owner     mileage   engine   max_power  \\\n0  Individual       Manual   First Owner   23.4 kmpl  1248 CC      74 bhp   \n1  Individual       Manual  Second Owner  21.14 kmpl  1498 CC  103.52 bhp   \n2  Individual       Manual   Third Owner   17.7 kmpl  1497 CC      78 bhp   \n3  Individual       Manual   First Owner   23.0 kmpl  1396 CC      90 bhp   \n4  Individual       Manual   First Owner   16.1 kmpl  1298 CC    88.2 bhp   \n\n   seats  \n0    5.0  \n1    5.0  \n2    5.0  \n3    5.0  \n4    5.0  ",
      "text/html": "<div>\n<style scoped>\n    .dataframe tbody tr th:only-of-type {\n        vertical-align: middle;\n    }\n\n    .dataframe tbody tr th {\n        vertical-align: top;\n    }\n\n    .dataframe thead th {\n        text-align: right;\n    }\n</style>\n<table border=\"1\" class=\"dataframe\">\n  <thead>\n    <tr style=\"text-align: right;\">\n      <th></th>\n      <th>name</th>\n      <th>year</th>\n      <th>selling_price</th>\n      <th>km_driven</th>\n      <th>fuel</th>\n      <th>seller_type</th>\n      <th>transmission</th>\n      <th>owner</th>\n      <th>mileage</th>\n      <th>engine</th>\n      <th>max_power</th>\n      <th>seats</th>\n    </tr>\n  </thead>\n  <tbody>\n    <tr>\n      <th>0</th>\n      <td>Maruti Swift Dzire VDI</td>\n      <td>2014</td>\n      <td>450000</td>\n      <td>145500</td>\n      <td>Diesel</td>\n      <td>Individual</td>\n      <td>Manual</td>\n      <td>First Owner</td>\n      <td>23.4 kmpl</td>\n      <td>1248 CC</td>\n      <td>74 bhp</td>\n      <td>5.0</td>\n    </tr>\n    <tr>\n      <th>1</th>\n      <td>Skoda Rapid 1.5 TDI Ambition</td>\n      <td>2014</td>\n      <td>370000</td>\n      <td>120000</td>\n      <td>Diesel</td>\n      <td>Individual</td>\n      <td>Manual</td>\n      <td>Second Owner</td>\n      <td>21.14 kmpl</td>\n      <td>1498 CC</td>\n      <td>103.52 bhp</td>\n      <td>5.0</td>\n    </tr>\n    <tr>\n      <th>2</th>\n      <td>Honda City 2017-2020 EXi</td>\n      <td>2006</td>\n      <td>158000</td>\n      <td>140000</td>\n      <td>Petrol</td>\n      <td>Individual</td>\n      <td>Manual</td>\n      <td>Third Owner</td>\n      <td>17.7 kmpl</td>\n      <td>1497 CC</td>\n      <td>78 bhp</td>\n      <td>5.0</td>\n    </tr>\n    <tr>\n      <th>3</th>\n      <td>Hyundai i20 Sportz Diesel</td>\n      <td>2010</td>\n      <td>225000</td>\n      <td>127000</td>\n      <td>Diesel</td>\n      <td>Individual</td>\n      <td>Manual</td>\n      <td>First Owner</td>\n      <td>23.0 kmpl</td>\n      <td>1396 CC</td>\n      <td>90 bhp</td>\n      <td>5.0</td>\n    </tr>\n    <tr>\n      <th>4</th>\n      <td>Maruti Swift VXI BSIII</td>\n      <td>2007</td>\n      <td>130000</td>\n      <td>120000</td>\n      <td>Petrol</td>\n      <td>Individual</td>\n      <td>Manual</td>\n      <td>First Owner</td>\n      <td>16.1 kmpl</td>\n      <td>1298 CC</td>\n      <td>88.2 bhp</td>\n      <td>5.0</td>\n    </tr>\n  </tbody>\n</table>\n</div>"
     },
     "execution_count": 373,
     "metadata": {},
     "output_type": "execute_result"
    }
   ],
   "source": [
    "#Nouveau apperçu \n",
    "df.head()"
   ]
  },
  {
   "cell_type": "code",
   "execution_count": 374,
   "id": "bc46a63f-6685-47e2-9d47-118fb2803bc4",
   "metadata": {
    "ExecuteTime": {
     "end_time": "2024-03-29T14:46:53.960274Z",
     "start_time": "2024-03-29T14:46:53.952884Z"
    }
   },
   "outputs": [
    {
     "data": {
      "text/plain": "(8128, 12)"
     },
     "execution_count": 374,
     "metadata": {},
     "output_type": "execute_result"
    }
   ],
   "source": [
    "#Nombre lignes, colonnes de notre df\n",
    "df.shape"
   ]
  },
  {
   "cell_type": "code",
   "execution_count": 375,
   "id": "28dbfd1f-67a6-46c5-8027-372fff05e7fd",
   "metadata": {
    "ExecuteTime": {
     "end_time": "2024-03-29T14:46:55.231733Z",
     "start_time": "2024-03-29T14:46:55.217032Z"
    }
   },
   "outputs": [
    {
     "data": {
      "text/plain": "name               0\nyear               0\nselling_price      0\nkm_driven          0\nfuel               0\nseller_type        0\ntransmission       0\nowner              0\nmileage          221\nengine           221\nmax_power        215\nseats            221\ndtype: int64"
     },
     "execution_count": 375,
     "metadata": {},
     "output_type": "execute_result"
    }
   ],
   "source": [
    "#Nombre de valeures manquantes par colonnes \n",
    "df.isnull().sum()"
   ]
  },
  {
   "cell_type": "code",
   "execution_count": 376,
   "id": "26406601-cb1e-4bf7-9942-daef1f17a1ff",
   "metadata": {
    "ExecuteTime": {
     "end_time": "2024-03-29T14:46:56.584289Z",
     "start_time": "2024-03-29T14:46:56.574037Z"
    }
   },
   "outputs": [],
   "source": [
    "#On supprime les valeures manquantes \n",
    "df.dropna(inplace=True)"
   ]
  },
  {
   "cell_type": "code",
   "execution_count": 377,
   "id": "0debecdd-f18f-4713-b6d4-2082fab466dd",
   "metadata": {
    "ExecuteTime": {
     "end_time": "2024-03-29T14:46:57.462556Z",
     "start_time": "2024-03-29T14:46:57.453125Z"
    }
   },
   "outputs": [
    {
     "data": {
      "text/plain": "(7907, 12)"
     },
     "execution_count": 377,
     "metadata": {},
     "output_type": "execute_result"
    }
   ],
   "source": [
    "#Nombre de lignes, colonnes après suppression des valeures manquantes\n",
    "df.shape"
   ]
  },
  {
   "cell_type": "code",
   "execution_count": 378,
   "id": "b1460765-a24e-4663-b6f6-9a7443510900",
   "metadata": {
    "ExecuteTime": {
     "end_time": "2024-03-29T14:46:58.403577Z",
     "start_time": "2024-03-29T14:46:58.381601Z"
    }
   },
   "outputs": [
    {
     "data": {
      "text/plain": "1189"
     },
     "execution_count": 378,
     "metadata": {},
     "output_type": "execute_result"
    }
   ],
   "source": [
    "#On compte les valeures double \n",
    "df.duplicated().sum()"
   ]
  },
  {
   "cell_type": "code",
   "execution_count": 379,
   "id": "0aff2594-ed72-474b-bcf0-3d2642c56544",
   "metadata": {
    "ExecuteTime": {
     "end_time": "2024-03-29T14:47:00.594984Z",
     "start_time": "2024-03-29T14:47:00.574171Z"
    }
   },
   "outputs": [],
   "source": [
    "#On supprime les valeures double\n",
    "df.drop_duplicates(inplace=True)"
   ]
  },
  {
   "cell_type": "code",
   "execution_count": 380,
   "id": "d25928f2-c89f-4b16-ac83-7be729ad3ca8",
   "metadata": {
    "ExecuteTime": {
     "end_time": "2024-03-29T14:47:01.324282Z",
     "start_time": "2024-03-29T14:47:01.316864Z"
    }
   },
   "outputs": [
    {
     "data": {
      "text/plain": "(6718, 12)"
     },
     "execution_count": 380,
     "metadata": {},
     "output_type": "execute_result"
    }
   ],
   "source": [
    "#Nombre de lignes, colonnes après suppression des valeures double\n",
    "df.shape"
   ]
  },
  {
   "cell_type": "code",
   "execution_count": 381,
   "id": "a2cded35-1619-4ce4-acc9-402e2aee6ccd",
   "metadata": {
    "ExecuteTime": {
     "end_time": "2024-03-29T14:47:01.803515Z",
     "start_time": "2024-03-29T14:47:01.780225Z"
    }
   },
   "outputs": [
    {
     "data": {
      "text/plain": "                                   name  year  selling_price  km_driven  \\\n0                Maruti Swift Dzire VDI  2014         450000     145500   \n1          Skoda Rapid 1.5 TDI Ambition  2014         370000     120000   \n2              Honda City 2017-2020 EXi  2006         158000     140000   \n3             Hyundai i20 Sportz Diesel  2010         225000     127000   \n4                Maruti Swift VXI BSIII  2007         130000     120000   \n...                                 ...   ...            ...        ...   \n8121  Maruti Wagon R VXI BS IV with ABS  2013         260000      50000   \n8122         Hyundai i20 Magna 1.4 CRDi  2014         475000      80000   \n8123                  Hyundai i20 Magna  2013         320000     110000   \n8124              Hyundai Verna CRDi SX  2007         135000     119000   \n8125             Maruti Swift Dzire ZDi  2009         382000     120000   \n\n        fuel seller_type transmission                 owner     mileage  \\\n0     Diesel  Individual       Manual           First Owner   23.4 kmpl   \n1     Diesel  Individual       Manual          Second Owner  21.14 kmpl   \n2     Petrol  Individual       Manual           Third Owner   17.7 kmpl   \n3     Diesel  Individual       Manual           First Owner   23.0 kmpl   \n4     Petrol  Individual       Manual           First Owner   16.1 kmpl   \n...      ...         ...          ...                   ...         ...   \n8121  Petrol  Individual       Manual          Second Owner   18.9 kmpl   \n8122  Diesel  Individual       Manual          Second Owner  22.54 kmpl   \n8123  Petrol  Individual       Manual           First Owner   18.5 kmpl   \n8124  Diesel  Individual       Manual  Fourth & Above Owner   16.8 kmpl   \n8125  Diesel  Individual       Manual           First Owner   19.3 kmpl   \n\n       engine   max_power  seats  \n0     1248 CC      74 bhp    5.0  \n1     1498 CC  103.52 bhp    5.0  \n2     1497 CC      78 bhp    5.0  \n3     1396 CC      90 bhp    5.0  \n4     1298 CC    88.2 bhp    5.0  \n...       ...         ...    ...  \n8121   998 CC    67.1 bhp    5.0  \n8122  1396 CC   88.73 bhp    5.0  \n8123  1197 CC   82.85 bhp    5.0  \n8124  1493 CC     110 bhp    5.0  \n8125  1248 CC    73.9 bhp    5.0  \n\n[6718 rows x 12 columns]",
      "text/html": "<div>\n<style scoped>\n    .dataframe tbody tr th:only-of-type {\n        vertical-align: middle;\n    }\n\n    .dataframe tbody tr th {\n        vertical-align: top;\n    }\n\n    .dataframe thead th {\n        text-align: right;\n    }\n</style>\n<table border=\"1\" class=\"dataframe\">\n  <thead>\n    <tr style=\"text-align: right;\">\n      <th></th>\n      <th>name</th>\n      <th>year</th>\n      <th>selling_price</th>\n      <th>km_driven</th>\n      <th>fuel</th>\n      <th>seller_type</th>\n      <th>transmission</th>\n      <th>owner</th>\n      <th>mileage</th>\n      <th>engine</th>\n      <th>max_power</th>\n      <th>seats</th>\n    </tr>\n  </thead>\n  <tbody>\n    <tr>\n      <th>0</th>\n      <td>Maruti Swift Dzire VDI</td>\n      <td>2014</td>\n      <td>450000</td>\n      <td>145500</td>\n      <td>Diesel</td>\n      <td>Individual</td>\n      <td>Manual</td>\n      <td>First Owner</td>\n      <td>23.4 kmpl</td>\n      <td>1248 CC</td>\n      <td>74 bhp</td>\n      <td>5.0</td>\n    </tr>\n    <tr>\n      <th>1</th>\n      <td>Skoda Rapid 1.5 TDI Ambition</td>\n      <td>2014</td>\n      <td>370000</td>\n      <td>120000</td>\n      <td>Diesel</td>\n      <td>Individual</td>\n      <td>Manual</td>\n      <td>Second Owner</td>\n      <td>21.14 kmpl</td>\n      <td>1498 CC</td>\n      <td>103.52 bhp</td>\n      <td>5.0</td>\n    </tr>\n    <tr>\n      <th>2</th>\n      <td>Honda City 2017-2020 EXi</td>\n      <td>2006</td>\n      <td>158000</td>\n      <td>140000</td>\n      <td>Petrol</td>\n      <td>Individual</td>\n      <td>Manual</td>\n      <td>Third Owner</td>\n      <td>17.7 kmpl</td>\n      <td>1497 CC</td>\n      <td>78 bhp</td>\n      <td>5.0</td>\n    </tr>\n    <tr>\n      <th>3</th>\n      <td>Hyundai i20 Sportz Diesel</td>\n      <td>2010</td>\n      <td>225000</td>\n      <td>127000</td>\n      <td>Diesel</td>\n      <td>Individual</td>\n      <td>Manual</td>\n      <td>First Owner</td>\n      <td>23.0 kmpl</td>\n      <td>1396 CC</td>\n      <td>90 bhp</td>\n      <td>5.0</td>\n    </tr>\n    <tr>\n      <th>4</th>\n      <td>Maruti Swift VXI BSIII</td>\n      <td>2007</td>\n      <td>130000</td>\n      <td>120000</td>\n      <td>Petrol</td>\n      <td>Individual</td>\n      <td>Manual</td>\n      <td>First Owner</td>\n      <td>16.1 kmpl</td>\n      <td>1298 CC</td>\n      <td>88.2 bhp</td>\n      <td>5.0</td>\n    </tr>\n    <tr>\n      <th>...</th>\n      <td>...</td>\n      <td>...</td>\n      <td>...</td>\n      <td>...</td>\n      <td>...</td>\n      <td>...</td>\n      <td>...</td>\n      <td>...</td>\n      <td>...</td>\n      <td>...</td>\n      <td>...</td>\n      <td>...</td>\n    </tr>\n    <tr>\n      <th>8121</th>\n      <td>Maruti Wagon R VXI BS IV with ABS</td>\n      <td>2013</td>\n      <td>260000</td>\n      <td>50000</td>\n      <td>Petrol</td>\n      <td>Individual</td>\n      <td>Manual</td>\n      <td>Second Owner</td>\n      <td>18.9 kmpl</td>\n      <td>998 CC</td>\n      <td>67.1 bhp</td>\n      <td>5.0</td>\n    </tr>\n    <tr>\n      <th>8122</th>\n      <td>Hyundai i20 Magna 1.4 CRDi</td>\n      <td>2014</td>\n      <td>475000</td>\n      <td>80000</td>\n      <td>Diesel</td>\n      <td>Individual</td>\n      <td>Manual</td>\n      <td>Second Owner</td>\n      <td>22.54 kmpl</td>\n      <td>1396 CC</td>\n      <td>88.73 bhp</td>\n      <td>5.0</td>\n    </tr>\n    <tr>\n      <th>8123</th>\n      <td>Hyundai i20 Magna</td>\n      <td>2013</td>\n      <td>320000</td>\n      <td>110000</td>\n      <td>Petrol</td>\n      <td>Individual</td>\n      <td>Manual</td>\n      <td>First Owner</td>\n      <td>18.5 kmpl</td>\n      <td>1197 CC</td>\n      <td>82.85 bhp</td>\n      <td>5.0</td>\n    </tr>\n    <tr>\n      <th>8124</th>\n      <td>Hyundai Verna CRDi SX</td>\n      <td>2007</td>\n      <td>135000</td>\n      <td>119000</td>\n      <td>Diesel</td>\n      <td>Individual</td>\n      <td>Manual</td>\n      <td>Fourth &amp; Above Owner</td>\n      <td>16.8 kmpl</td>\n      <td>1493 CC</td>\n      <td>110 bhp</td>\n      <td>5.0</td>\n    </tr>\n    <tr>\n      <th>8125</th>\n      <td>Maruti Swift Dzire ZDi</td>\n      <td>2009</td>\n      <td>382000</td>\n      <td>120000</td>\n      <td>Diesel</td>\n      <td>Individual</td>\n      <td>Manual</td>\n      <td>First Owner</td>\n      <td>19.3 kmpl</td>\n      <td>1248 CC</td>\n      <td>73.9 bhp</td>\n      <td>5.0</td>\n    </tr>\n  </tbody>\n</table>\n<p>6718 rows × 12 columns</p>\n</div>"
     },
     "execution_count": 381,
     "metadata": {},
     "output_type": "execute_result"
    }
   ],
   "source": [
    "#Afficher notre df après suppression des valeures double et valeures manquantes \n",
    "df"
   ]
  },
  {
   "cell_type": "code",
   "outputs": [
    {
     "data": {
      "text/plain": "(6718, 12)"
     },
     "execution_count": 382,
     "metadata": {},
     "output_type": "execute_result"
    }
   ],
   "source": [
    "df.shape"
   ],
   "metadata": {
    "collapsed": false,
    "ExecuteTime": {
     "end_time": "2024-03-29T14:47:02.271766Z",
     "start_time": "2024-03-29T14:47:02.264610Z"
    }
   },
   "id": "377ad69fc34c1a9b",
   "execution_count": 382
  },
  {
   "cell_type": "code",
   "execution_count": 383,
   "id": "91b83195-36cc-483d-818a-4adb9a9e0f67",
   "metadata": {
    "ExecuteTime": {
     "end_time": "2024-03-29T14:47:02.753671Z",
     "start_time": "2024-03-29T14:47:02.735874Z"
    }
   },
   "outputs": [
    {
     "name": "stdout",
     "output_type": "stream",
     "text": [
      "<class 'pandas.core.frame.DataFrame'>\n",
      "Index: 6718 entries, 0 to 8125\n",
      "Data columns (total 12 columns):\n",
      " #   Column         Non-Null Count  Dtype  \n",
      "---  ------         --------------  -----  \n",
      " 0   name           6718 non-null   object \n",
      " 1   year           6718 non-null   int64  \n",
      " 2   selling_price  6718 non-null   int64  \n",
      " 3   km_driven      6718 non-null   int64  \n",
      " 4   fuel           6718 non-null   object \n",
      " 5   seller_type    6718 non-null   object \n",
      " 6   transmission   6718 non-null   object \n",
      " 7   owner          6718 non-null   object \n",
      " 8   mileage        6718 non-null   object \n",
      " 9   engine         6718 non-null   object \n",
      " 10  max_power      6718 non-null   object \n",
      " 11  seats          6718 non-null   float64\n",
      "dtypes: float64(1), int64(3), object(8)\n",
      "memory usage: 682.3+ KB\n"
     ]
    }
   ],
   "source": [
    "df.info()"
   ]
  },
  {
   "cell_type": "code",
   "execution_count": 384,
   "id": "4be8dd2c-5e83-47e1-a1ac-3646bdb6e15b",
   "metadata": {
    "ExecuteTime": {
     "end_time": "2024-03-29T14:47:03.181281Z",
     "start_time": "2024-03-29T14:47:03.156897Z"
    }
   },
   "outputs": [
    {
     "name": "stdout",
     "output_type": "stream",
     "text": [
      "Les valeures uniques de la colonne : name\n",
      "['Maruti Swift Dzire VDI' 'Skoda Rapid 1.5 TDI Ambition'\n",
      " 'Honda City 2017-2020 EXi' ... 'Tata Nexon 1.5 Revotorq XT'\n",
      " 'Ford Freestyle Titanium Plus Diesel BSIV'\n",
      " 'Toyota Innova 2.5 GX (Diesel) 8 Seater BS IV']\n",
      "-------------------------\n",
      "Les valeures uniques de la colonne : year\n",
      "[2014 2006 2010 2007 2017 2001 2011 2013 2005 2009 2016 2012 2002 2015\n",
      " 2018 2019 2008 2020 1999 2000 2003 2004 1994 1998 1997 1995 1996]\n",
      "-------------------------\n",
      "Les valeures uniques de la colonne : selling_price\n",
      "[  450000   370000   158000   225000   130000   440000    96000    45000\n",
      "   350000   200000   500000    92000   280000   180000   400000   778000\n",
      "   150000   680000   174000   950000   525000   600000   575000   275000\n",
      "   300000   220000   254999   670000   730000   650000   330000   366000\n",
      "  1149000   425000  2100000   925000   675000   819999   390000  1500000\n",
      "   700000  1450000  1090000   850000  1650000  1750000  1590000  1689999\n",
      "  1425000   265000   190000   630000   540000   448000   745000  1025000\n",
      "   235000  1700000  1200000   610000  2500000   484999   315000   290000\n",
      "   455000   351000   535000   175000   565000   120000   725000   185000\n",
      "   615000   270000   625000   866000   375000   522000   451999   475000\n",
      "   780000   595000  1140000   360000   105000   135000   690000  3975000\n",
      "  5150000  3200000  4100000  4500000  6000000  3790000  5800000  1864999\n",
      "  2700000   795000  3400000  2650000  5850000   975000   805000  2625000\n",
      "   811000   550000   645000  2550000   599000   875000   894999   340000\n",
      "  1525000  2150000  1900000  2900000 10000000   160000   515000    40000\n",
      "   480000   487000   386000   100000   490000   345000    85000   215000\n",
      "   320000   459999    65000   720000   800000   520000   580000   420000\n",
      "  1250000   830000   335000   329000   775000   524000   245000   910000\n",
      "   900000   250000  1100000   640000   409999   165000    80000  1000000\n",
      "   110000   170000  1380000  1300000   530000   310000  1150000   380000\n",
      "   404000   114999   465000   210000  4600000   509999    90000   409000\n",
      "   395000    81000   555000   229999  1210000   325000    60000    89000\n",
      "   434999  3000000   570000  1550000    64000   140000   503000  3800000\n",
      "  2000000   740000   750000  5400000  5500000   779000  2475000   240000\n",
      "  1085000    95000  1290000   219000   260000   840000   292000   385000\n",
      "  1050000   735000   560000   585000   760000   430000   643000   285000\n",
      "   660000   268000    88000   561000   755000   125000  1600000   801000\n",
      "   317000   495000   236000  1800000   415000   217000   466000   605000\n",
      "  1350000   337000   655000   196000   299000   634000  1225000   238000\n",
      "   590000   195000   715000   168000   531000  1625000   145000   441000\n",
      "    67500   321000   298000  1075000   681000   810000   573000   101000\n",
      "  1019999   244000  1165000   241000   327000   620000   204999   576000\n",
      "   695000   231000   261000   371000   421000   710000  1040000   199000\n",
      "   305000  1745000   611000    75000    55000  1325000   885000   108000\n",
      "   272000  1125000   388000   757000   626000   793000  3750000  1400000\n",
      "  1925000   844999  2940000  1825000   890000   770000   467000   711000\n",
      "   511000   166000   392000   833000    35000   880000  1030000   521000\n",
      "   451000   472000   649000   429000  1576000   825000   470000  1560000\n",
      "  1950000   786000   731000   191000   651000   445000    93150   403000\n",
      "   144000    52000   302000   869999   155000   246000   405000    70000\n",
      "  3250000  1143000   635000  1575000   318000   152000   248000  1465000\n",
      "  1080000   678000  1460000   756000   665000  2950000   377000  1675000\n",
      "   169000   685000   749000   899000   259000   416000   773000   889000\n",
      "   118000   256000  1888000    99000  2280000    31504   295000   444000\n",
      "   860000  2450000   198000  2825000  2125000  3350000   365000   919999\n",
      "  2600000   839000  1594000   161000   423000   551000    50000   411000\n",
      "  1530000   376000  1850000    86000   822000    30000   252000   131000\n",
      "   128000   790000   604000  1175000   141000   151000   577000    83000\n",
      "   946000   356000   955000   978999   348000   399000   362000   499000\n",
      "   358000   278000   426000   211000  1270000   426999   960000  1031000\n",
      "    72000   479000   764000  2199000  3600000   184000   119000   267000\n",
      "   328000   112999    39000  2850000  2800000  3900000   221000   631000\n",
      "   308000   940000   361000   355000  7200000   930000  1670000   980000\n",
      "   486000   242000   654000   835000   408000    94500  1110000   438999\n",
      "   911999   693000   449000  1390000   698000   539000   765000   562000\n",
      "   571000   589000   227999  1151000  1295000  4090000   347000   493000\n",
      "   545000  1475000   287000  1630000   501000   181000  2711000  1035000\n",
      "   316000   813000  1190000   378000   156000   194000   754000    55599\n",
      "  1511000    78000   250999   312000    66000   369000   149000   752000\n",
      "   142000   111000   206000   567000   699000   632000   905000  1145000\n",
      "    58000   179000  1515000   178000   222000   387000  1405000   282000\n",
      "   458000   157000   497000  1227000   574000   121000  3100000    68000\n",
      "  1920000   808000   512000   671000   799000  1365000  1490000    80500\n",
      "   189000   892000    93000  1680000   667000   204000    42000   694000\n",
      "   861999   476999  5200000  2375000  2750000  1385000   785000  1275000\n",
      "  1748999   132000    33351  2064000   469000   906000   797000  6223000\n",
      "  5923000  6523000   122000   891000   346000   532000   974000   483000\n",
      "   138000   432000  1757000   412000   126000   736000   579000   187000\n",
      "  4000000  1898999   482000   401000   737000   291000   999000   957000\n",
      "   834000   297000   669000   616000   129000   115999   861000  3251000\n",
      "   911000   148000   433000   488000    67000   516000   136000    29999\n",
      "   124000  1938000   172000    59000  3500000   537000   849000   851000\n",
      "   597000   741000   556000   549000   679000   969999  1237000    31000\n",
      "   666000    54000   374000   455999   453000   258000   428000   262000\n",
      "   389000   339000   277000   578000   684000   949000   227000  5830000\n",
      "   721000   751000  2400000   990000  1282000  1147000   558000   722000\n",
      "   563000  2300000  2200000   488999   276000   434000   372000  1520000\n",
      "   202999   541000   254000   528000   102000   311000   977000  1251000\n",
      "  1445000    98000    59259   153000  1051000   591000   319000   454000\n",
      "  1160000  3300000   791000   802999  1789999  1044999   279000   944999\n",
      "  1859000  2175000   430999   803999   934000   357000   965000   341000\n",
      "    75527  1132000   352000   252999   313000   391000  2051000   212000\n",
      "  2575000  1516000   359000   209000  1220000  1180000    45957  1265000\n",
      "   382000   526000    90177    46000   307000   746000]\n",
      "-------------------------\n",
      "Les valeures uniques de la colonne : km_driven\n",
      "[ 145500  120000  140000  127000   45000  175000    5000   90000  169000\n",
      "   68000  100000   40000   70000   53000   80000   50000   72000   35000\n",
      "   28000   25000    2388   16200   10000   15000   42000   60000   76000\n",
      "   28900   86300   23300   32600   10300   77000   99000   27800   49800\n",
      "  151000   54700   64000   63000  127700   33900   59000  110000  147000\n",
      "   30000  135000    9850   78000  170000   49000   32000   38000   44000\n",
      "   12000   55500   61500  150000   37800  114000   48000   69000   13000\n",
      "   76139   65000    1303   31800   20000   17000   21000   37000   29500\n",
      "    7500   19000   41000   39000   22000   47000   72200   49900    9000\n",
      "   11000   95000   18000   46100   16000    9654   24300   42163    8000\n",
      "   71000    9500   36600   14000  120600   86000    7800   31377   75000\n",
      "   93000  125000   13500  162500   92500  158000    2000  181000  193000\n",
      "  122358   95200   33033   63063  207890    7976   16500   99361   33000\n",
      "   80100  160000   26000   29000   58000   36000  185000  162000   67000\n",
      "   52000   68089   58343   38817   56494   79328    5621   25538   69779\n",
      "   56290    8500    7032  106000  240000  214000    1000  265000  134000\n",
      "    2136  250000  130000   99500  119000   44665  123000   34000  146000\n",
      "   85000  201850   46000  190000   43000   14200   19100   54000  101500\n",
      "   55735    1500  181491   53319   40906   31711   43755   66693   59549\n",
      "   94385   73730  221889  116104  150546  148120  142000  126000   24000\n",
      "  101000  168000  165000   98500   98000   77800   51492  136000   91000\n",
      "  167000  180000    6000   91500  132478   51000  105000  137500   88000\n",
      "  156060  107000   57000  300000  200000   18945  144000  107825    1620\n",
      "  141000  108000   55000   37944   90400   96000  193623   63186  219000\n",
      "   23000   94000  140500  143000  195000  360003    8079  114368   79990\n",
      "   81632  155201  101504   90165   86017   85036  125531  206000   49700\n",
      "   74000    6550   56000   41779   31000   13534    7000   28156   63309\n",
      "  155000   11500    3000  157000   27000   26300   89100  104000  210000\n",
      "  216000   84000  161000   72113  113000   96443   51500  104500   49102\n",
      "   81000  227000  117000    8576   19723   21446   52289   52236   54470\n",
      "   25471   33928   59736   54290    2118   61379   58544   74381   63982\n",
      "   56429   19500   56832   30528   65285   20102   52380   74250   57247\n",
      "  178000   42323   42462   54723   42545   20375   43978   40200   27233\n",
      "   28832  103000  142500  115000   35500   17500   92000    4500   83000\n",
      "    6750   18500   50478    9200    2300    4295    5229    4701    6757\n",
      "   28182   11533   11688   57728   23712   70670   43381   79011   58500\n",
      "   43500   12700   49455   46815  334000  100875  118000  128000  144030\n",
      "  176000   89000   97000   12800   65100   15200   82000  116500  145000\n",
      "   73000  113226  160500  132000  217000  139000    3500   62000 1500000\n",
      "  120005   16830   93468   16589   53201   25272   53619    6001  202000\n",
      "   71717   84321  177000  205000   41800   88700  188000  225000    5500\n",
      "    4875    2700   58511   26235   26766    1600   24522   13663   58945\n",
      "  375000  156975   27620  143200  138000  189000  156000   10800   67500\n",
      "  255000   71850  112000  159000   76131   51777   64788   46951   74537\n",
      "   23500   68600   13887   66000   24400   27500   67840  380000  112880\n",
      "   61915  184000    6200   16700    7967    9656   68609   33360   14317\n",
      "   87237   62960   26634  163720   67998   20706  100581   67303   79139\n",
      "   84784  130376   33500   22053   78432  270000    7200  117500   78500\n",
      "  115717    4000   26432   46702   46706   53523   56365   49563   56432\n",
      "   52365   53512   46533   58632   65300   39395  230000   32500   64800\n",
      "  248000   66444  218463  153000   87185  137000    3564   48756   80322\n",
      "  173000  148000    6500  220000  108957   22200  260000   42108   79000\n",
      "   17100   43001  100600   92385  116000   72500   82500   50600  121000\n",
      "  101903   85568    3100  186000   59300   89322   48300   23511   22512\n",
      "   62900   52442   34156   34152   62841   38600   27654   48698   32995\n",
      "   90150   85700   25339   41232   68240   92651   88754   23700   69500\n",
      "   28050   22947    7672   36659   44500    9900  124316    6544   49600\n",
      "  198000  103994   35008   31100   42312   54891   18890   75010    4337\n",
      "   14495   83585   48406   56239   33243   15858   87847   87000  112072\n",
      "   52269   15780 2360457  108800   12500  577414  121941  152186   82246\n",
      "   89580    2789   35278    2860   78562   36088  129000  500000  133000\n",
      "   64500   24500   45500   71500   93500   60300   44391   56315   15151\n",
      "  114321   37333  330000  291000   21500  197000   40300   30030   29029\n",
      "   72072   82082   80600   58609   33003  165500    5800   68700  102996\n",
      "   96500   52412   85472   87452   66530   32331  172000   23456  136500\n",
      "  111000   42500   47200  246000    5200   10500   93331  109000    5400\n",
      "  102000   29700    7600   29340   80800   24265   56900   88200   40800\n",
      "    8588  305000  212000  101200  179150   84487  264000   51146  298000\n",
      "  149000  291977   36800   52200  248200    7720   57882  242000   55380\n",
      "   18816   33019   47747   45900   68697  147279   24700   43526   55885\n",
      "   16034  156040   93415  122000   68519   22966    2350   59872   91182\n",
      "   59500   75500  152500   69123   77524   40523   23600  290000   24177\n",
      "  121779   15381   74800  109322  475000   61000   80500   65755    2600\n",
      "   15500   50700  440000  152000  200400    7300    9750  157138  285000\n",
      "  127991   13120   87500   62200   87540  231438  239451  154000  426000\n",
      "  182000  215000   77300   61260   17601    4773   57900    8600   78010\n",
      "   83844   23999   91400  178500   66953  166000  131000  100750   48676\n",
      "   79500  200185   49025   76460   47370   45217  222300   44600   28080\n",
      "   28800   21900   28100    7673   96272   22500    7400  370000  150360\n",
      "   42130  147500   56194   54188   54043   66657   35582   54327    7949\n",
      "   59734   49185   56389   58245   36422   42535   40736   56246   55403\n",
      "  105358   49200   81500    3177   39414   30078   44588   49907   67082\n",
      "  112879   10200    1300  175802  192000   73840  320000   24857   26442\n",
      "   50800   40142    9400   12584    4300   14548   44772   48500   28782\n",
      "   28451   36500   44885  131111   58400   23400    3010  163000   77088\n",
      "  136511   36710   28180   44077   55768  123278   26500   18484    2560\n",
      "  103655   56975  187000  218000   73257   26320   38426  116700  176062\n",
      "   77500   39500   55896   30400  164000  271000   75262   91863   47552\n",
      "   14700   19700  145241   95500   53473   75958   31596   85710  129627\n",
      "   55130   22522   51856   29434   34500    6825  112011   53534  248119\n",
      "   24019   19600  376412  183000  108916   59865   68140   53190   70100\n",
      "   47725   70195   77395   74321   80235   77150   61100   82300   82050\n",
      "   29899   59235  201000   77215   48228   58559   50856   18300   59292\n",
      "   21147   61173   91567   33400   92686   67600   49500  112048   30646\n",
      "   43011  104300   73500  280000   35700   22700   21871   55425   37659\n",
      "   37500   19800   45629   68850   45775   68203   97343   82507   59400\n",
      "  125876   56800   65204    2286   15732   49523   36521   64481   49060\n",
      "   37161   60175   49957   43235   50699       1   50074   30154   26263\n",
      "   84925   46357   46737  110048  186388   20171   37151   58161   50171\n",
      "   55161    9599   16151   28161   80868  194000  191000]\n",
      "-------------------------\n",
      "Les valeures uniques de la colonne : fuel\n",
      "['Diesel' 'Petrol' 'LPG' 'CNG']\n",
      "-------------------------\n",
      "Les valeures uniques de la colonne : seller_type\n",
      "['Individual' 'Dealer' 'Trustmark Dealer']\n",
      "-------------------------\n",
      "Les valeures uniques de la colonne : transmission\n",
      "['Manual' 'Automatic']\n",
      "-------------------------\n",
      "Les valeures uniques de la colonne : owner\n",
      "['First Owner' 'Second Owner' 'Third Owner' 'Fourth & Above Owner'\n",
      " 'Test Drive Car']\n",
      "-------------------------\n",
      "Les valeures uniques de la colonne : mileage\n",
      "['23.4 kmpl' '21.14 kmpl' '17.7 kmpl' '23.0 kmpl' '16.1 kmpl' '20.14 kmpl'\n",
      " '17.3 km/kg' '23.59 kmpl' '20.0 kmpl' '19.01 kmpl' '17.3 kmpl'\n",
      " '19.3 kmpl' '18.9 kmpl' '18.15 kmpl' '24.52 kmpl' '19.7 kmpl'\n",
      " '22.54 kmpl' '21.0 kmpl' '25.5 kmpl' '26.59 kmpl' '21.5 kmpl' '20.3 kmpl'\n",
      " '21.4 kmpl' '24.7 kmpl' '18.2 kmpl' '16.8 kmpl' '24.3 kmpl' '14.0 kmpl'\n",
      " '18.6 kmpl' '33.44 km/kg' '23.95 kmpl' '17.0 kmpl' '20.63 kmpl'\n",
      " '13.93 kmpl' '16.0 kmpl' '17.8 kmpl' '18.5 kmpl' '12.55 kmpl'\n",
      " '12.99 kmpl' '14.8 kmpl' '13.5 kmpl' '26.0 kmpl' '20.65 kmpl' '27.3 kmpl'\n",
      " '11.36 kmpl' '17.68 kmpl' '14.28 kmpl' '18.53 kmpl' '14.84 kmpl'\n",
      " '21.12 kmpl' '20.36 kmpl' '21.27 kmpl' '18.16 kmpl' '22.0 kmpl'\n",
      " '25.1 kmpl' '20.51 kmpl' '21.66 kmpl' '25.2 kmpl' '22.9 kmpl'\n",
      " '16.02 kmpl' '20.54 kmpl' '22.77 kmpl' '15.71 kmpl' '23.1 kmpl'\n",
      " '19.02 kmpl' '19.81 kmpl' '26.2 km/kg' '16.47 kmpl' '15.04 kmpl'\n",
      " '19.1 kmpl' '21.79 kmpl' '18.8 kmpl' '21.21 kmpl' '15.37 kmpl'\n",
      " '11.79 kmpl' '19.0 kmpl' '14.3 kmpl' '15.8 kmpl' '15.1 kmpl' '19.09 kmpl'\n",
      " '22.32 kmpl' '21.9 kmpl' '14.53 kmpl' '21.63 kmpl' '20.85 kmpl'\n",
      " '20.45 kmpl' '19.67 kmpl' '23.01 kmpl' '20.77 kmpl' '17.92 kmpl'\n",
      " '17.01 kmpl' '22.37 kmpl' '19.33 kmpl' '9.5 kmpl' '12.83 kmpl'\n",
      " '22.48 kmpl' '16.78 kmpl' '14.67 kmpl' '15.0 kmpl' '13.96 kmpl'\n",
      " '18.0 kmpl' '12.07 kmpl' '26.21 kmpl' '10.8 kmpl' '16.3 kmpl' '13.6 kmpl'\n",
      " '14.74 kmpl' '15.6 kmpl' '19.56 kmpl' '22.69 kmpl' '19.16 kmpl'\n",
      " '18.12 kmpl' '12.1 kmpl' '17.5 kmpl' '42.0 kmpl' '20.4 kmpl' '21.1 kmpl'\n",
      " '19.44 kmpl' '13.0 kmpl' '21.43 kmpl' '22.95 kmpl' '16.2 kmpl'\n",
      " '15.3 kmpl' '28.09 kmpl' '17.4 kmpl' '19.4 kmpl' '26.6 km/kg' '17.6 kmpl'\n",
      " '28.4 kmpl' '14.1 kmpl' '25.17 kmpl' '22.74 kmpl' '17.57 kmpl'\n",
      " '16.95 kmpl' '19.49 kmpl' '17.21 kmpl' '13.2 kmpl' '14.2 kmpl'\n",
      " '26.8 kmpl' '25.4 kmpl' '11.5 kmpl' '27.28 kmpl' '17.97 kmpl' '12.8 kmpl'\n",
      " '16.55 kmpl' '12.05 kmpl' '14.07 kmpl' '21.02 kmpl' '11.57 kmpl'\n",
      " '17.9 kmpl' '15.96 kmpl' '17.1 kmpl' '17.19 kmpl' '21.01 kmpl'\n",
      " '24.0 kmpl' '25.6 kmpl' '21.38 kmpl' '23.84 kmpl' '23.08 kmpl'\n",
      " '14.24 kmpl' '20.71 kmpl' '15.64 kmpl' '14.5 kmpl' '16.34 kmpl'\n",
      " '27.39 kmpl' '11.1 kmpl' '13.9 kmpl' '20.88 km/kg' '20.92 kmpl'\n",
      " '23.8 kmpl' '24.4 kmpl' '15.29 kmpl' '21.19 kmpl' '22.5 kmpl' '19.6 kmpl'\n",
      " '23.65 kmpl' '25.32 kmpl' '23.5 kmpl' '16.6 kmpl' '23.9 kmpl' '20.8 kmpl'\n",
      " '27.62 kmpl' '12.9 kmpl' '25.44 kmpl' '17.88 kmpl' '22.7 kmpl'\n",
      " '17.2 kmpl' '15.42 kmpl' '19.68 kmpl' '18.7 kmpl' '15.4 kmpl'\n",
      " '19.34 kmpl' '22.71 kmpl' '25.8 kmpl' '13.7 kmpl' '12.2 kmpl'\n",
      " '18.49 kmpl' '9.0 kmpl' '0.0 kmpl' '13.58 kmpl' '10.1 kmpl' '20.5 kmpl'\n",
      " '25.0 kmpl' '10.5 kmpl' '22.07 kmpl' '22.3 kmpl' '15.26 kmpl'\n",
      " '20.62 kmpl' '27.4 kmpl' '23.2 kmpl' '14.4 kmpl' '18.4 kmpl'\n",
      " '30.46 km/kg' '14.02 kmpl' '11.0 kmpl' '20.6 kmpl' '22.05 kmpl'\n",
      " '20.2 kmpl' '18.1 kmpl' '22.1 kmpl' '19.87 kmpl' '13.01 kmpl'\n",
      " '18.06 kmpl' '26.1 kmpl' '16.52 kmpl' '13.55 kmpl' '24.2 kmpl'\n",
      " '25.83 kmpl' '11.2 kmpl' '17.09 kmpl' '21.03 kmpl' '17.45 kmpl'\n",
      " '21.64 kmpl' '21.94 km/kg' '13.87 kmpl' '19.98 kmpl' '20.52 kmpl'\n",
      " '23.57 kmpl' '11.7 kmpl' '17.43 kmpl' '18.88 kmpl' '13.68 kmpl'\n",
      " '11.18 kmpl' '20.89 kmpl' '11.8 kmpl' '19.62 kmpl' '21.7 kmpl'\n",
      " '14.9 kmpl' '19.5 kmpl' '10.91 kmpl' '15.7 kmpl' '20.73 kmpl'\n",
      " '15.85 kmpl' '20.7 kmpl' '14.23 kmpl' '16.5 kmpl' '17.36 kmpl'\n",
      " '12.6 kmpl' '16.36 kmpl' '14.95 kmpl' '16.9 kmpl' '19.2 kmpl'\n",
      " '16.96 kmpl' '22.15 kmpl' '18.78 kmpl' '19.61 kmpl' '17.71 kmpl'\n",
      " '18.3 kmpl' '19.12 kmpl' '19.72 kmpl' '12.0 kmpl' '11.4 kmpl'\n",
      " '23.03 kmpl' '11.07 kmpl' '15.9 kmpl' '17.67 kmpl' '20.46 kmpl'\n",
      " '13.1 kmpl' '13.45 km/kg' '24.8 kmpl' '15.73 kmpl' '15.11 kmpl'\n",
      " '12.7 kmpl' '21.2 kmpl' '20.38 kmpl' '21.56 kmpl' '13.22 kmpl'\n",
      " '14.49 kmpl' '15.05 kmpl' '23.26 kmpl' '15.41 kmpl' '13.8 kmpl'\n",
      " '22.27 kmpl' '32.52 km/kg' '14.66 kmpl' '12.12 kmpl' '16.84 kmpl'\n",
      " '14.09 kmpl' '14.7 kmpl' '13.4 kmpl' '15.5 kmpl' '13.49 kmpl'\n",
      " '11.88 km/kg' '14.6 kmpl' '10.75 kmpl' '24.5 kmpl' '11.74 kmpl'\n",
      " '16.07 kmpl' '15.63 kmpl' '26.3 km/kg' '23.7 km/kg' '25.47 kmpl'\n",
      " '17.05 kmpl' '23.3 kmpl' '11.9 kmpl' '13.38 kmpl' '20.86 kmpl'\n",
      " '19.2 km/kg' '10.9 kmpl' '18.25 kmpl' '15.2 kmpl' '20.37 kmpl'\n",
      " '17.8 km/kg' '21.8 kmpl' '11.96 kmpl' '24.04 kmpl' '19.69 kmpl'\n",
      " '13.73 kmpl' '21.04 kmpl' '25.01 kmpl' '10.93 kmpl' '10.9 km/kg'\n",
      " '24.29 kmpl' '13.44 kmpl' '20.07 kmpl' '21.1 km/kg' '19.08 kmpl'\n",
      " '20.34 kmpl' '11.68 kmpl' '12.5 kmpl' '12.3 kmpl' '23.87 kmpl'\n",
      " '16.38 kmpl' '17.42 kmpl' '10.0 kmpl' '18.24 kmpl' '10.71 kmpl'\n",
      " '19.59 kmpl' '16.7 kmpl' '19.83 kmpl' '21.76 kmpl' '16.05 kmpl'\n",
      " '20.28 kmpl' '16.25 kmpl' '16.73 kmpl' '18.48 kmpl' '13.2 km/kg'\n",
      " '21.4 km/kg' '14.99 kmpl' '18.76 kmpl' '16.4 kmpl' '19.64 kmpl'\n",
      " '14.94 kmpl' '16.6 km/kg' '16.0 km/kg' '17.11 kmpl' '22.8 km/kg'\n",
      " '32.26 km/kg' '33.0 km/kg' '12.4 kmpl' '18.44 kmpl' '16.09 kmpl'\n",
      " '19.0 km/kg' '12.62 kmpl' '21.13 kmpl' '15.17 kmpl' '21.73 kmpl'\n",
      " '21.72 kmpl' '12.85 kmpl' '14.81 kmpl' '13.24 kmpl' '14.4 km/kg'\n",
      " '21.49 kmpl' '14.62 kmpl' '26.83 km/kg' '11.45 kmpl' '12.08 kmpl'\n",
      " '15.74 kmpl' '11.3 kmpl' '15.1 km/kg' '14.21 kmpl' '11.72 kmpl'\n",
      " '16.51 kmpl']\n",
      "-------------------------\n",
      "Les valeures uniques de la colonne : engine\n",
      "['1248 CC' '1498 CC' '1497 CC' '1396 CC' '1298 CC' '1197 CC' '1061 CC'\n",
      " '796 CC' '1364 CC' '1399 CC' '1461 CC' '993 CC' '1198 CC' '1199 CC'\n",
      " '998 CC' '1591 CC' '2179 CC' '1368 CC' '2982 CC' '2494 CC' '2143 CC'\n",
      " '2477 CC' '1462 CC' '2755 CC' '1968 CC' '1798 CC' '1196 CC' '1373 CC'\n",
      " '1598 CC' '1998 CC' '1086 CC' '1194 CC' '1172 CC' '1405 CC' '1582 CC'\n",
      " '999 CC' '2487 CC' '1999 CC' '3604 CC' '2987 CC' '1995 CC' '1451 CC'\n",
      " '1969 CC' '2967 CC' '2497 CC' '1797 CC' '1991 CC' '2362 CC' '1493 CC'\n",
      " '1599 CC' '1341 CC' '1794 CC' '799 CC' '1193 CC' '2696 CC' '1495 CC'\n",
      " '1186 CC' '1047 CC' '2498 CC' '2956 CC' '2523 CC' '1120 CC' '624 CC'\n",
      " '1496 CC' '1984 CC' '2354 CC' '814 CC' '793 CC' '1799 CC' '936 CC'\n",
      " '1956 CC' '1997 CC' '1499 CC' '1948 CC' '2997 CC' '2489 CC' '2499 CC'\n",
      " '2609 CC' '2953 CC' '1150 CC' '1994 CC' '1388 CC' '1527 CC' '2199 CC'\n",
      " '995 CC' '2993 CC' '1586 CC' '1390 CC' '909 CC' '2393 CC' '3198 CC'\n",
      " '1339 CC' '2835 CC' '2092 CC' '1595 CC' '2496 CC' '1596 CC' '1597 CC'\n",
      " '2596 CC' '2148 CC' '1299 CC' '1590 CC' '2231 CC' '2694 CC' '2200 CC'\n",
      " '1795 CC' '1896 CC' '1796 CC' '1422 CC' '1489 CC' '2359 CC' '2197 CC'\n",
      " '2999 CC' '1781 CC' '2650 CC' '1343 CC' '2446 CC' '3498 CC' '2198 CC'\n",
      " '2776 CC' '1950 CC']\n",
      "-------------------------\n",
      "Les valeures uniques de la colonne : max_power\n",
      "['74 bhp' '103.52 bhp' '78 bhp' '90 bhp' '88.2 bhp' '81.86 bhp' '57.5 bhp'\n",
      " '37 bhp' '67.1 bhp' '68.1 bhp' '108.45 bhp' '60 bhp' '73.9 bhp' '67 bhp'\n",
      " '82 bhp' '88.5 bhp' '46.3 bhp' '88.73 bhp' '64.1 bhp' '98.6 bhp'\n",
      " '88.8 bhp' '83.81 bhp' '83.1 bhp' '47.3 bhp' '73.8 bhp' '34.2 bhp'\n",
      " '35 bhp' '81.83 bhp' '40.3 bhp' '121.3 bhp' '138.03 bhp' '160.77 bhp'\n",
      " '117.3 bhp' '116.3 bhp' '83.14 bhp' '67.05 bhp' '168.5 bhp' '100 bhp'\n",
      " '120.7 bhp' '98.63 bhp' '175.56 bhp' '103.25 bhp' '171.5 bhp' '100.6 bhp'\n",
      " '174.33 bhp' '187.74 bhp' '170 bhp' '78.9 bhp' '88.76 bhp' '86.8 bhp'\n",
      " '108.495 bhp' '108.62 bhp' '93.7 bhp' '103.6 bhp' '98.59 bhp' '189 bhp'\n",
      " '67.04 bhp' '68.05 bhp' '58.2 bhp' '82.85 bhp' '81.80 bhp' '73 bhp'\n",
      " '120 bhp' '94.68 bhp' '160 bhp' '65 bhp' '155 bhp' '69.01 bhp'\n",
      " '126.32 bhp' '138.1 bhp' '83.8 bhp' '126.2 bhp' '98.96 bhp' '62.1 bhp'\n",
      " '86.7 bhp' '188 bhp' '214.56 bhp' '177 bhp' '280 bhp' '148.31 bhp'\n",
      " '254.79 bhp' '190 bhp' '177.46 bhp' '204 bhp' '141 bhp' '117.6 bhp'\n",
      " '241.4 bhp' '282 bhp' '150 bhp' '147.5 bhp' '108.5 bhp' '103.5 bhp'\n",
      " '183 bhp' '181.04 bhp' '157.7 bhp' '164.7 bhp' '91.1 bhp' '400 bhp'\n",
      " '68 bhp' '75 bhp' '85.8 bhp' '87.2 bhp' '53 bhp' '118 bhp' '103.2 bhp'\n",
      " '83 bhp' '84 bhp' '58.16 bhp' '147.94 bhp' '74.02 bhp' '53.3 bhp'\n",
      " '80 bhp' '88.7 bhp' '97.7 bhp' '121.36 bhp' '162 bhp' '140 bhp' '94 bhp'\n",
      " '100.57 bhp' '82.9 bhp' '83.11 bhp' '70 bhp' '153.86 bhp' '121 bhp'\n",
      " '126.3 bhp' '73.97 bhp' '171 bhp' '69 bhp' '99.6 bhp' '102 bhp' '105 bhp'\n",
      " '63 bhp' '79.4 bhp' '97.9 bhp' '63.1 bhp' '66.1 bhp' '110 bhp'\n",
      " '174.5 bhp' '53.26 bhp' '73.75 bhp' '67.06 bhp' '64.08 bhp' '37.5 bhp'\n",
      " '189.3 bhp' '158.8 bhp' '61.7 bhp' '55.2 bhp' '71.01 bhp' '73.74 bhp'\n",
      " '147.9 bhp' '71 bhp' '77 bhp' '121.4 bhp' '113.4 bhp' '47 bhp' '130 bhp'\n",
      " '57.6 bhp' '138 bhp' '52.8 bhp' '53.64 bhp' '53.5 bhp' '76.8 bhp'\n",
      " '82.4 bhp' '113.42 bhp' '76 bhp' '84.8 bhp' '56.3 bhp' '218 bhp'\n",
      " '112 bhp' '92 bhp' '105.5 bhp' '169 bhp' '95 bhp' '72.4 bhp' '115 bhp'\n",
      " '152 bhp' '91.2 bhp' '156 bhp' '74.9 bhp' '62 bhp' '105.3 bhp'\n",
      " '73.94 bhp' '85.80 bhp' '85 bhp' '118.3 bhp' '72 bhp' '147.51 bhp'\n",
      " '58 bhp' '64 bhp' '126.24 bhp' '76.9 bhp' '194.3 bhp' '99.23 bhp'\n",
      " '89.84 bhp' '123.7 bhp' '118.35 bhp' '99 bhp' '241 bhp' '136 bhp'\n",
      " '261.4 bhp' '104.68 bhp' '37.48 bhp' '104 bhp' '88.50 bhp' '63.12 bhp'\n",
      " '91.7 bhp' '102.5 bhp' '177.6 bhp' '45 bhp' '123.37 bhp' '147.8 bhp'\n",
      " '184 bhp' '84.48 bhp' '68.07 bhp' '74.96 bhp' '167.6 bhp' '152.87 bhp'\n",
      " '112.2 bhp' '83.83 bhp' '197 bhp' '110.4 bhp' '104.55 bhp' '103 bhp'\n",
      " '103.3 bhp' '66 bhp' '108.6 bhp' '165 bhp' '163.7 bhp' '116.9 bhp'\n",
      " '94.93 bhp' '127 bhp' '198.5 bhp' '179.5 bhp' '120.69 bhp' '121.31 bhp'\n",
      " '138.08 bhp' '187.7 bhp' '80.8 bhp' '86.79 bhp' '93.87 bhp' '116.6 bhp'\n",
      " '143 bhp' '92.7 bhp' '88 bhp' '58.33 bhp' '78.8 bhp' '64.4 bhp' '125 bhp'\n",
      " '139.01 bhp' '254.8 bhp' '181 bhp' '258 bhp' '55.23 bhp' '270.9 bhp'\n",
      " '265 bhp' '157.75 bhp' '101 bhp' '186 bhp' '187.4 bhp' '224 bhp'\n",
      " '64.9 bhp' '148 bhp' '35.5 bhp' '89.75 bhp' '32.8 bhp' '91.72 bhp'\n",
      " '106 bhp' '98.97 bhp' '66.6 bhp' '86 bhp' '65.3 bhp' '98.82 bhp'\n",
      " '198.25 bhp' '38 bhp' '142 bhp' '132 bhp' '174.57 bhp' '178 bhp'\n",
      " '163.2 bhp' '203.2 bhp' '177.5 bhp' '175 bhp' '57 bhp' '80.84 bhp'\n",
      " '68.4 bhp' '167.67 bhp' '170.63 bhp' '52 bhp' '149.5 bhp' '48.21 bhp'\n",
      " ' bhp' '201.1 bhp' '100.5 bhp' '144 bhp' '194.4 bhp' '168.7 bhp'\n",
      " '104.5 bhp' '103.26 bhp' '116.4 bhp' '98.79 bhp' '80.9 bhp' '58.3 bhp'\n",
      " '272 bhp' '235 bhp' '167.62 bhp' '170.30 bhp' '139.46 bhp' '158 bhp'\n",
      " '110.5 bhp' '82.5 bhp' '141.1 bhp' '38.4 bhp' '197.2 bhp' '161 bhp'\n",
      " '194 bhp' '122.4 bhp' '134.10 bhp' '60.2 bhp' '134 bhp' '203 bhp'\n",
      " '135.1 bhp']\n",
      "-------------------------\n",
      "Les valeures uniques de la colonne : seats\n",
      "[ 5.  4.  7.  8.  6.  9. 10. 14.  2.]\n",
      "-------------------------\n"
     ]
    }
   ],
   "source": [
    "for col in df.columns:\n",
    "    print('Les valeures uniques de la colonne : ' + col)\n",
    "    print(df[col].unique())\n",
    "    print(\"-------------------------\")"
   ]
  },
  {
   "cell_type": "code",
   "execution_count": 385,
   "id": "4ef65d39-9c94-461c-8c71-04f022388561",
   "metadata": {
    "ExecuteTime": {
     "end_time": "2024-03-29T14:47:03.308122Z",
     "start_time": "2024-03-29T14:47:03.301859Z"
    }
   },
   "outputs": [],
   "source": [
    "#Fonction qui nous donne que le nom de la marque (premier mot\n",
    "def get_brand_name(car_name):\n",
    "    car_name = car_name.split(' ')[0]\n",
    "    return car_name.strip()"
   ]
  },
  {
   "cell_type": "code",
   "execution_count": 386,
   "id": "d3ace190-5f31-45e6-9cad-13767e00bc21",
   "metadata": {
    "ExecuteTime": {
     "end_time": "2024-03-29T14:47:04.026166Z",
     "start_time": "2024-03-29T14:47:04.018876Z"
    }
   },
   "outputs": [],
   "source": [
    "#Fonction qui nous permet de prendre la valeure d'une colonne sans l'unité de mesure\n",
    "def clean_data(value):\n",
    "    value = value.split(' ')[0]\n",
    "    value = value.strip()\n",
    "    if value == '':\n",
    "        value = 0\n",
    "    return float(value)"
   ]
  },
  {
   "cell_type": "code",
   "outputs": [
    {
     "data": {
      "text/plain": "1.0"
     },
     "execution_count": 387,
     "metadata": {},
     "output_type": "execute_result"
    }
   ],
   "source": [
    "#test fonction\n",
    "clean_data('1 2 12')"
   ],
   "metadata": {
    "collapsed": false,
    "ExecuteTime": {
     "end_time": "2024-03-29T14:47:04.874946Z",
     "start_time": "2024-03-29T14:47:04.866869Z"
    }
   },
   "id": "48717289217286ae",
   "execution_count": 387
  },
  {
   "cell_type": "code",
   "execution_count": 388,
   "id": "ed991972-68c0-43a9-9688-ba85bf662839",
   "metadata": {
    "ExecuteTime": {
     "end_time": "2024-03-29T14:47:05.702023Z",
     "start_time": "2024-03-29T14:47:05.692847Z"
    }
   },
   "outputs": [
    {
     "data": {
      "text/plain": "'Maruti'"
     },
     "execution_count": 388,
     "metadata": {},
     "output_type": "execute_result"
    }
   ],
   "source": [
    "get_brand_name('Maruti  Swift Dzire VDI')"
   ]
  },
  {
   "cell_type": "code",
   "execution_count": 389,
   "id": "0644093c-faad-4407-974e-02cfe9353b9c",
   "metadata": {
    "ExecuteTime": {
     "end_time": "2024-03-29T14:47:06.299349Z",
     "start_time": "2024-03-29T14:47:06.284660Z"
    }
   },
   "outputs": [],
   "source": [
    "#Appliquer la fonction get_brand_name à la colonne 'name'\n",
    "df['name'] = df['name'].apply(get_brand_name)"
   ]
  },
  {
   "cell_type": "code",
   "outputs": [
    {
     "data": {
      "text/plain": "         name  year  selling_price  km_driven    fuel seller_type  \\\n0      Maruti  2014         450000     145500  Diesel  Individual   \n1       Skoda  2014         370000     120000  Diesel  Individual   \n2       Honda  2006         158000     140000  Petrol  Individual   \n3     Hyundai  2010         225000     127000  Diesel  Individual   \n4      Maruti  2007         130000     120000  Petrol  Individual   \n...       ...   ...            ...        ...     ...         ...   \n8121   Maruti  2013         260000      50000  Petrol  Individual   \n8122  Hyundai  2014         475000      80000  Diesel  Individual   \n8123  Hyundai  2013         320000     110000  Petrol  Individual   \n8124  Hyundai  2007         135000     119000  Diesel  Individual   \n8125   Maruti  2009         382000     120000  Diesel  Individual   \n\n     transmission                 owner     mileage   engine   max_power  \\\n0          Manual           First Owner   23.4 kmpl  1248 CC      74 bhp   \n1          Manual          Second Owner  21.14 kmpl  1498 CC  103.52 bhp   \n2          Manual           Third Owner   17.7 kmpl  1497 CC      78 bhp   \n3          Manual           First Owner   23.0 kmpl  1396 CC      90 bhp   \n4          Manual           First Owner   16.1 kmpl  1298 CC    88.2 bhp   \n...           ...                   ...         ...      ...         ...   \n8121       Manual          Second Owner   18.9 kmpl   998 CC    67.1 bhp   \n8122       Manual          Second Owner  22.54 kmpl  1396 CC   88.73 bhp   \n8123       Manual           First Owner   18.5 kmpl  1197 CC   82.85 bhp   \n8124       Manual  Fourth & Above Owner   16.8 kmpl  1493 CC     110 bhp   \n8125       Manual           First Owner   19.3 kmpl  1248 CC    73.9 bhp   \n\n      seats  \n0       5.0  \n1       5.0  \n2       5.0  \n3       5.0  \n4       5.0  \n...     ...  \n8121    5.0  \n8122    5.0  \n8123    5.0  \n8124    5.0  \n8125    5.0  \n\n[6718 rows x 12 columns]",
      "text/html": "<div>\n<style scoped>\n    .dataframe tbody tr th:only-of-type {\n        vertical-align: middle;\n    }\n\n    .dataframe tbody tr th {\n        vertical-align: top;\n    }\n\n    .dataframe thead th {\n        text-align: right;\n    }\n</style>\n<table border=\"1\" class=\"dataframe\">\n  <thead>\n    <tr style=\"text-align: right;\">\n      <th></th>\n      <th>name</th>\n      <th>year</th>\n      <th>selling_price</th>\n      <th>km_driven</th>\n      <th>fuel</th>\n      <th>seller_type</th>\n      <th>transmission</th>\n      <th>owner</th>\n      <th>mileage</th>\n      <th>engine</th>\n      <th>max_power</th>\n      <th>seats</th>\n    </tr>\n  </thead>\n  <tbody>\n    <tr>\n      <th>0</th>\n      <td>Maruti</td>\n      <td>2014</td>\n      <td>450000</td>\n      <td>145500</td>\n      <td>Diesel</td>\n      <td>Individual</td>\n      <td>Manual</td>\n      <td>First Owner</td>\n      <td>23.4 kmpl</td>\n      <td>1248 CC</td>\n      <td>74 bhp</td>\n      <td>5.0</td>\n    </tr>\n    <tr>\n      <th>1</th>\n      <td>Skoda</td>\n      <td>2014</td>\n      <td>370000</td>\n      <td>120000</td>\n      <td>Diesel</td>\n      <td>Individual</td>\n      <td>Manual</td>\n      <td>Second Owner</td>\n      <td>21.14 kmpl</td>\n      <td>1498 CC</td>\n      <td>103.52 bhp</td>\n      <td>5.0</td>\n    </tr>\n    <tr>\n      <th>2</th>\n      <td>Honda</td>\n      <td>2006</td>\n      <td>158000</td>\n      <td>140000</td>\n      <td>Petrol</td>\n      <td>Individual</td>\n      <td>Manual</td>\n      <td>Third Owner</td>\n      <td>17.7 kmpl</td>\n      <td>1497 CC</td>\n      <td>78 bhp</td>\n      <td>5.0</td>\n    </tr>\n    <tr>\n      <th>3</th>\n      <td>Hyundai</td>\n      <td>2010</td>\n      <td>225000</td>\n      <td>127000</td>\n      <td>Diesel</td>\n      <td>Individual</td>\n      <td>Manual</td>\n      <td>First Owner</td>\n      <td>23.0 kmpl</td>\n      <td>1396 CC</td>\n      <td>90 bhp</td>\n      <td>5.0</td>\n    </tr>\n    <tr>\n      <th>4</th>\n      <td>Maruti</td>\n      <td>2007</td>\n      <td>130000</td>\n      <td>120000</td>\n      <td>Petrol</td>\n      <td>Individual</td>\n      <td>Manual</td>\n      <td>First Owner</td>\n      <td>16.1 kmpl</td>\n      <td>1298 CC</td>\n      <td>88.2 bhp</td>\n      <td>5.0</td>\n    </tr>\n    <tr>\n      <th>...</th>\n      <td>...</td>\n      <td>...</td>\n      <td>...</td>\n      <td>...</td>\n      <td>...</td>\n      <td>...</td>\n      <td>...</td>\n      <td>...</td>\n      <td>...</td>\n      <td>...</td>\n      <td>...</td>\n      <td>...</td>\n    </tr>\n    <tr>\n      <th>8121</th>\n      <td>Maruti</td>\n      <td>2013</td>\n      <td>260000</td>\n      <td>50000</td>\n      <td>Petrol</td>\n      <td>Individual</td>\n      <td>Manual</td>\n      <td>Second Owner</td>\n      <td>18.9 kmpl</td>\n      <td>998 CC</td>\n      <td>67.1 bhp</td>\n      <td>5.0</td>\n    </tr>\n    <tr>\n      <th>8122</th>\n      <td>Hyundai</td>\n      <td>2014</td>\n      <td>475000</td>\n      <td>80000</td>\n      <td>Diesel</td>\n      <td>Individual</td>\n      <td>Manual</td>\n      <td>Second Owner</td>\n      <td>22.54 kmpl</td>\n      <td>1396 CC</td>\n      <td>88.73 bhp</td>\n      <td>5.0</td>\n    </tr>\n    <tr>\n      <th>8123</th>\n      <td>Hyundai</td>\n      <td>2013</td>\n      <td>320000</td>\n      <td>110000</td>\n      <td>Petrol</td>\n      <td>Individual</td>\n      <td>Manual</td>\n      <td>First Owner</td>\n      <td>18.5 kmpl</td>\n      <td>1197 CC</td>\n      <td>82.85 bhp</td>\n      <td>5.0</td>\n    </tr>\n    <tr>\n      <th>8124</th>\n      <td>Hyundai</td>\n      <td>2007</td>\n      <td>135000</td>\n      <td>119000</td>\n      <td>Diesel</td>\n      <td>Individual</td>\n      <td>Manual</td>\n      <td>Fourth &amp; Above Owner</td>\n      <td>16.8 kmpl</td>\n      <td>1493 CC</td>\n      <td>110 bhp</td>\n      <td>5.0</td>\n    </tr>\n    <tr>\n      <th>8125</th>\n      <td>Maruti</td>\n      <td>2009</td>\n      <td>382000</td>\n      <td>120000</td>\n      <td>Diesel</td>\n      <td>Individual</td>\n      <td>Manual</td>\n      <td>First Owner</td>\n      <td>19.3 kmpl</td>\n      <td>1248 CC</td>\n      <td>73.9 bhp</td>\n      <td>5.0</td>\n    </tr>\n  </tbody>\n</table>\n<p>6718 rows × 12 columns</p>\n</div>"
     },
     "execution_count": 390,
     "metadata": {},
     "output_type": "execute_result"
    }
   ],
   "source": [
    "df"
   ],
   "metadata": {
    "collapsed": false,
    "ExecuteTime": {
     "end_time": "2024-03-29T14:47:07.071940Z",
     "start_time": "2024-03-29T14:47:07.044638Z"
    }
   },
   "id": "e06aa88904054641",
   "execution_count": 390
  },
  {
   "cell_type": "code",
   "execution_count": 391,
   "id": "621b42d0-eb5b-45b3-a88a-614f5f213e98",
   "metadata": {
    "ExecuteTime": {
     "end_time": "2024-03-29T14:47:09.217297Z",
     "start_time": "2024-03-29T14:47:09.207652Z"
    }
   },
   "outputs": [
    {
     "data": {
      "text/plain": "array(['Maruti', 'Skoda', 'Honda', 'Hyundai', 'Toyota', 'Ford', 'Renault',\n       'Mahindra', 'Tata', 'Chevrolet', 'Datsun', 'Jeep', 'Mercedes-Benz',\n       'Mitsubishi', 'Audi', 'Volkswagen', 'BMW', 'Nissan', 'Lexus',\n       'Jaguar', 'Land', 'MG', 'Volvo', 'Daewoo', 'Kia', 'Fiat', 'Force',\n       'Ambassador', 'Ashok', 'Isuzu', 'Opel'], dtype=object)"
     },
     "execution_count": 391,
     "metadata": {},
     "output_type": "execute_result"
    }
   ],
   "source": [
    "#les valeures de la colonne name \n",
    "df['name'].unique()"
   ]
  },
  {
   "cell_type": "code",
   "outputs": [
    {
     "ename": "AttributeError",
     "evalue": "'function' object has no attribute 'pyplot'",
     "output_type": "error",
     "traceback": [
      "\u001B[1;31m---------------------------------------------------------------------------\u001B[0m",
      "\u001B[1;31mAttributeError\u001B[0m                            Traceback (most recent call last)",
      "Cell \u001B[1;32mIn[392], line 10\u001B[0m\n\u001B[0;32m      8\u001B[0m plt\u001B[38;5;241m.\u001B[39mxlabel(\u001B[38;5;124m'\u001B[39m\u001B[38;5;124mMarque\u001B[39m\u001B[38;5;124m'\u001B[39m)\n\u001B[0;32m      9\u001B[0m plt\u001B[38;5;241m.\u001B[39mylabel(\u001B[38;5;124m'\u001B[39m\u001B[38;5;124mPrix moyen\u001B[39m\u001B[38;5;124m'\u001B[39m)\n\u001B[1;32m---> 10\u001B[0m \u001B[43mst\u001B[49m\u001B[38;5;241;43m.\u001B[39;49m\u001B[43mpyplot\u001B[49m()\n",
      "\u001B[1;31mAttributeError\u001B[0m: 'function' object has no attribute 'pyplot'"
     ]
    }
   ],
   "source": [
    "from turtle import st  # Afficher les graphiques\n",
    "import matplotlib.pyplot as plt\n",
    "import seaborn as sns\n",
    "#st.subheader(\"Prix moyen par marque\")\n",
    "avg_price_by_brand = df.groupby('name')['selling_price'].mean().sort_values(ascending=False)\n",
    "plt.figure(figsize=(12, 8))\n",
    "avg_price_by_brand.plot(kind='bar')\n",
    "plt.xlabel('Marque')\n",
    "plt.ylabel('Prix moyen')\n",
    "st.pyplot()"
   ],
   "metadata": {
    "collapsed": false,
    "ExecuteTime": {
     "end_time": "2024-03-29T14:47:10.055289Z",
     "start_time": "2024-03-29T14:47:09.905428Z"
    }
   },
   "id": "ce8746260b7bc9cb",
   "execution_count": 392
  },
  {
   "cell_type": "code",
   "outputs": [
    {
     "data": {
      "application/vnd.plotly.v1+json": {
       "data": [
        {
         "marker": {
          "color": "blue"
         },
         "orientation": "h",
         "x": [
          5150000.0,
          4036111.111111111,
          2826222.222222222,
          2748250.0,
          2716666.6666666665,
          2422363.5454545454,
          2253347.8260869565,
          1789227.2272727273,
          1783333.3333333333,
          1752500.0
         ],
         "y": [
          "Lexus",
          "Volvo",
          "BMW",
          "Jaguar",
          "Land",
          "Audi",
          "Mercedes-Benz",
          "Jeep",
          "MG",
          "Isuzu"
         ],
         "type": "bar"
        }
       ],
       "layout": {
        "template": {
         "data": {
          "candlestick": [
           {
            "decreasing": {
             "line": {
              "color": "#000033"
             }
            },
            "increasing": {
             "line": {
              "color": "#000032"
             }
            },
            "type": "candlestick"
           }
          ],
          "contourcarpet": [
           {
            "colorscale": [
             [
              0.0,
              "#000011"
             ],
             [
              0.1111111111111111,
              "#000012"
             ],
             [
              0.2222222222222222,
              "#000013"
             ],
             [
              0.3333333333333333,
              "#000014"
             ],
             [
              0.4444444444444444,
              "#000015"
             ],
             [
              0.5555555555555556,
              "#000016"
             ],
             [
              0.6666666666666666,
              "#000017"
             ],
             [
              0.7777777777777778,
              "#000018"
             ],
             [
              0.8888888888888888,
              "#000019"
             ],
             [
              1.0,
              "#000020"
             ]
            ],
            "type": "contourcarpet"
           }
          ],
          "contour": [
           {
            "colorscale": [
             [
              0.0,
              "#000011"
             ],
             [
              0.1111111111111111,
              "#000012"
             ],
             [
              0.2222222222222222,
              "#000013"
             ],
             [
              0.3333333333333333,
              "#000014"
             ],
             [
              0.4444444444444444,
              "#000015"
             ],
             [
              0.5555555555555556,
              "#000016"
             ],
             [
              0.6666666666666666,
              "#000017"
             ],
             [
              0.7777777777777778,
              "#000018"
             ],
             [
              0.8888888888888888,
              "#000019"
             ],
             [
              1.0,
              "#000020"
             ]
            ],
            "type": "contour"
           }
          ],
          "heatmap": [
           {
            "colorscale": [
             [
              0.0,
              "#000011"
             ],
             [
              0.1111111111111111,
              "#000012"
             ],
             [
              0.2222222222222222,
              "#000013"
             ],
             [
              0.3333333333333333,
              "#000014"
             ],
             [
              0.4444444444444444,
              "#000015"
             ],
             [
              0.5555555555555556,
              "#000016"
             ],
             [
              0.6666666666666666,
              "#000017"
             ],
             [
              0.7777777777777778,
              "#000018"
             ],
             [
              0.8888888888888888,
              "#000019"
             ],
             [
              1.0,
              "#000020"
             ]
            ],
            "type": "heatmap"
           }
          ],
          "histogram2d": [
           {
            "colorscale": [
             [
              0.0,
              "#000011"
             ],
             [
              0.1111111111111111,
              "#000012"
             ],
             [
              0.2222222222222222,
              "#000013"
             ],
             [
              0.3333333333333333,
              "#000014"
             ],
             [
              0.4444444444444444,
              "#000015"
             ],
             [
              0.5555555555555556,
              "#000016"
             ],
             [
              0.6666666666666666,
              "#000017"
             ],
             [
              0.7777777777777778,
              "#000018"
             ],
             [
              0.8888888888888888,
              "#000019"
             ],
             [
              1.0,
              "#000020"
             ]
            ],
            "type": "histogram2d"
           }
          ],
          "icicle": [
           {
            "textfont": {
             "color": "white"
            },
            "type": "icicle"
           }
          ],
          "sankey": [
           {
            "textfont": {
             "color": "#000036"
            },
            "type": "sankey"
           }
          ],
          "scatter": [
           {
            "marker": {
             "line": {
              "width": 0
             }
            },
            "type": "scatter"
           }
          ],
          "table": [
           {
            "cells": {
             "fill": {
              "color": "#000038"
             },
             "font": {
              "color": "#000037"
             },
             "line": {
              "color": "#000039"
             }
            },
            "header": {
             "fill": {
              "color": "#000040"
             },
             "font": {
              "color": "#000036"
             },
             "line": {
              "color": "#000039"
             }
            },
            "type": "table"
           }
          ],
          "waterfall": [
           {
            "connector": {
             "line": {
              "color": "#000036",
              "width": 2
             }
            },
            "decreasing": {
             "marker": {
              "color": "#000033"
             }
            },
            "increasing": {
             "marker": {
              "color": "#000032"
             }
            },
            "totals": {
             "marker": {
              "color": "#000034"
             }
            },
            "type": "waterfall"
           }
          ]
         },
         "layout": {
          "coloraxis": {
           "colorscale": [
            [
             0.0,
             "#000011"
            ],
            [
             0.1111111111111111,
             "#000012"
            ],
            [
             0.2222222222222222,
             "#000013"
            ],
            [
             0.3333333333333333,
             "#000014"
            ],
            [
             0.4444444444444444,
             "#000015"
            ],
            [
             0.5555555555555556,
             "#000016"
            ],
            [
             0.6666666666666666,
             "#000017"
            ],
            [
             0.7777777777777778,
             "#000018"
            ],
            [
             0.8888888888888888,
             "#000019"
            ],
            [
             1.0,
             "#000020"
            ]
           ]
          },
          "colorscale": {
           "diverging": [
            [
             0.0,
             "#000021"
            ],
            [
             0.1,
             "#000022"
            ],
            [
             0.2,
             "#000023"
            ],
            [
             0.3,
             "#000024"
            ],
            [
             0.4,
             "#000025"
            ],
            [
             0.5,
             "#000026"
            ],
            [
             0.6,
             "#000027"
            ],
            [
             0.7,
             "#000028"
            ],
            [
             0.8,
             "#000029"
            ],
            [
             0.9,
             "#000030"
            ],
            [
             1.0,
             "#000031"
            ]
           ],
           "sequential": [
            [
             0.0,
             "#000011"
            ],
            [
             0.1111111111111111,
             "#000012"
            ],
            [
             0.2222222222222222,
             "#000013"
            ],
            [
             0.3333333333333333,
             "#000014"
            ],
            [
             0.4444444444444444,
             "#000015"
            ],
            [
             0.5555555555555556,
             "#000016"
            ],
            [
             0.6666666666666666,
             "#000017"
            ],
            [
             0.7777777777777778,
             "#000018"
            ],
            [
             0.8888888888888888,
             "#000019"
            ],
            [
             1.0,
             "#000020"
            ]
           ],
           "sequentialminus": [
            [
             0.0,
             "#000011"
            ],
            [
             0.1111111111111111,
             "#000012"
            ],
            [
             0.2222222222222222,
             "#000013"
            ],
            [
             0.3333333333333333,
             "#000014"
            ],
            [
             0.4444444444444444,
             "#000015"
            ],
            [
             0.5555555555555556,
             "#000016"
            ],
            [
             0.6666666666666666,
             "#000017"
            ],
            [
             0.7777777777777778,
             "#000018"
            ],
            [
             0.8888888888888888,
             "#000019"
            ],
            [
             1.0,
             "#000020"
            ]
           ]
          },
          "colorway": [
           "#000001",
           "#000002",
           "#000003",
           "#000004",
           "#000005",
           "#000006",
           "#000007",
           "#000008",
           "#000009",
           "#000010"
          ]
         }
        },
        "yaxis": {
         "title": {
          "text": "Marque"
         },
         "autorange": "reversed"
        },
        "title": {
         "text": "Top 10 des marques par prix moyen"
        },
        "xaxis": {
         "title": {
          "text": "Prix moyen"
         }
        }
       },
       "config": {
        "plotlyServerURL": "https://plot.ly"
       }
      },
      "text/html": "<div>                            <div id=\"764ca5cf-97b1-42db-ad0b-15a6dee38dc6\" class=\"plotly-graph-div\" style=\"height:525px; width:100%;\"></div>            <script type=\"text/javascript\">                require([\"plotly\"], function(Plotly) {                    window.PLOTLYENV=window.PLOTLYENV || {};                                    if (document.getElementById(\"764ca5cf-97b1-42db-ad0b-15a6dee38dc6\")) {                    Plotly.newPlot(                        \"764ca5cf-97b1-42db-ad0b-15a6dee38dc6\",                        [{\"marker\":{\"color\":\"blue\"},\"orientation\":\"h\",\"x\":[5150000.0,4036111.111111111,2826222.222222222,2748250.0,2716666.6666666665,2422363.5454545454,2253347.8260869565,1789227.2272727273,1783333.3333333333,1752500.0],\"y\":[\"Lexus\",\"Volvo\",\"BMW\",\"Jaguar\",\"Land\",\"Audi\",\"Mercedes-Benz\",\"Jeep\",\"MG\",\"Isuzu\"],\"type\":\"bar\"}],                        {\"template\":{\"data\":{\"candlestick\":[{\"decreasing\":{\"line\":{\"color\":\"#000033\"}},\"increasing\":{\"line\":{\"color\":\"#000032\"}},\"type\":\"candlestick\"}],\"contourcarpet\":[{\"colorscale\":[[0.0,\"#000011\"],[0.1111111111111111,\"#000012\"],[0.2222222222222222,\"#000013\"],[0.3333333333333333,\"#000014\"],[0.4444444444444444,\"#000015\"],[0.5555555555555556,\"#000016\"],[0.6666666666666666,\"#000017\"],[0.7777777777777778,\"#000018\"],[0.8888888888888888,\"#000019\"],[1.0,\"#000020\"]],\"type\":\"contourcarpet\"}],\"contour\":[{\"colorscale\":[[0.0,\"#000011\"],[0.1111111111111111,\"#000012\"],[0.2222222222222222,\"#000013\"],[0.3333333333333333,\"#000014\"],[0.4444444444444444,\"#000015\"],[0.5555555555555556,\"#000016\"],[0.6666666666666666,\"#000017\"],[0.7777777777777778,\"#000018\"],[0.8888888888888888,\"#000019\"],[1.0,\"#000020\"]],\"type\":\"contour\"}],\"heatmap\":[{\"colorscale\":[[0.0,\"#000011\"],[0.1111111111111111,\"#000012\"],[0.2222222222222222,\"#000013\"],[0.3333333333333333,\"#000014\"],[0.4444444444444444,\"#000015\"],[0.5555555555555556,\"#000016\"],[0.6666666666666666,\"#000017\"],[0.7777777777777778,\"#000018\"],[0.8888888888888888,\"#000019\"],[1.0,\"#000020\"]],\"type\":\"heatmap\"}],\"histogram2d\":[{\"colorscale\":[[0.0,\"#000011\"],[0.1111111111111111,\"#000012\"],[0.2222222222222222,\"#000013\"],[0.3333333333333333,\"#000014\"],[0.4444444444444444,\"#000015\"],[0.5555555555555556,\"#000016\"],[0.6666666666666666,\"#000017\"],[0.7777777777777778,\"#000018\"],[0.8888888888888888,\"#000019\"],[1.0,\"#000020\"]],\"type\":\"histogram2d\"}],\"icicle\":[{\"textfont\":{\"color\":\"white\"},\"type\":\"icicle\"}],\"sankey\":[{\"textfont\":{\"color\":\"#000036\"},\"type\":\"sankey\"}],\"scatter\":[{\"marker\":{\"line\":{\"width\":0}},\"type\":\"scatter\"}],\"table\":[{\"cells\":{\"fill\":{\"color\":\"#000038\"},\"font\":{\"color\":\"#000037\"},\"line\":{\"color\":\"#000039\"}},\"header\":{\"fill\":{\"color\":\"#000040\"},\"font\":{\"color\":\"#000036\"},\"line\":{\"color\":\"#000039\"}},\"type\":\"table\"}],\"waterfall\":[{\"connector\":{\"line\":{\"color\":\"#000036\",\"width\":2}},\"decreasing\":{\"marker\":{\"color\":\"#000033\"}},\"increasing\":{\"marker\":{\"color\":\"#000032\"}},\"totals\":{\"marker\":{\"color\":\"#000034\"}},\"type\":\"waterfall\"}]},\"layout\":{\"coloraxis\":{\"colorscale\":[[0.0,\"#000011\"],[0.1111111111111111,\"#000012\"],[0.2222222222222222,\"#000013\"],[0.3333333333333333,\"#000014\"],[0.4444444444444444,\"#000015\"],[0.5555555555555556,\"#000016\"],[0.6666666666666666,\"#000017\"],[0.7777777777777778,\"#000018\"],[0.8888888888888888,\"#000019\"],[1.0,\"#000020\"]]},\"colorscale\":{\"diverging\":[[0.0,\"#000021\"],[0.1,\"#000022\"],[0.2,\"#000023\"],[0.3,\"#000024\"],[0.4,\"#000025\"],[0.5,\"#000026\"],[0.6,\"#000027\"],[0.7,\"#000028\"],[0.8,\"#000029\"],[0.9,\"#000030\"],[1.0,\"#000031\"]],\"sequential\":[[0.0,\"#000011\"],[0.1111111111111111,\"#000012\"],[0.2222222222222222,\"#000013\"],[0.3333333333333333,\"#000014\"],[0.4444444444444444,\"#000015\"],[0.5555555555555556,\"#000016\"],[0.6666666666666666,\"#000017\"],[0.7777777777777778,\"#000018\"],[0.8888888888888888,\"#000019\"],[1.0,\"#000020\"]],\"sequentialminus\":[[0.0,\"#000011\"],[0.1111111111111111,\"#000012\"],[0.2222222222222222,\"#000013\"],[0.3333333333333333,\"#000014\"],[0.4444444444444444,\"#000015\"],[0.5555555555555556,\"#000016\"],[0.6666666666666666,\"#000017\"],[0.7777777777777778,\"#000018\"],[0.8888888888888888,\"#000019\"],[1.0,\"#000020\"]]},\"colorway\":[\"#000001\",\"#000002\",\"#000003\",\"#000004\",\"#000005\",\"#000006\",\"#000007\",\"#000008\",\"#000009\",\"#000010\"]}},\"yaxis\":{\"title\":{\"text\":\"Marque\"},\"autorange\":\"reversed\"},\"title\":{\"text\":\"Top 10 des marques par prix moyen\"},\"xaxis\":{\"title\":{\"text\":\"Prix moyen\"}}},                        {\"responsive\": true}                    ).then(function(){\n                            \nvar gd = document.getElementById('764ca5cf-97b1-42db-ad0b-15a6dee38dc6');\nvar x = new MutationObserver(function (mutations, observer) {{\n        var display = window.getComputedStyle(gd).display;\n        if (!display || display === 'none') {{\n            console.log([gd, 'removed!']);\n            Plotly.purge(gd);\n            observer.disconnect();\n        }}\n}});\n\n// Listen for the removal of the full notebook cells\nvar notebookContainer = gd.closest('#notebook-container');\nif (notebookContainer) {{\n    x.observe(notebookContainer, {childList: true});\n}}\n\n// Listen for the clearing of the current output cell\nvar outputEl = gd.closest('.output');\nif (outputEl) {{\n    x.observe(outputEl, {childList: true});\n}}\n\n                        })                };                });            </script>        </div>"
     },
     "metadata": {},
     "output_type": "display_data"
    }
   ],
   "source": [
    "import plotly.graph_objects as go\n",
    "\n",
    "# Créer un sous-ensemble des données avec les marques et les prix moyens\n",
    "avg_price_by_brand = df.groupby('name')['selling_price'].mean().sort_values(ascending=False)\n",
    "# Prendre les 10 premières marques\n",
    "top_10_brands = avg_price_by_brand.head(10)\n",
    "\n",
    "# Créer un graphique à barres horizontales avec Plotly\n",
    "fig = go.Figure(data=[go.Bar(\n",
    "    x=top_10_brands.values,  # CAGR\n",
    "    y=top_10_brands.index,   # Marque\n",
    "    orientation='h',\n",
    "    marker_color='blue'      # Couleur des barres\n",
    ")])\n",
    "\n",
    "# Personnalisation du graphique\n",
    "fig.update_layout(\n",
    "    title=\"Top 10 des marques par prix moyen\",\n",
    "    xaxis_title=\"Prix moyen\",\n",
    "    yaxis_title=\"Marque\",\n",
    "    yaxis=dict(autorange=\"reversed\")  # Pour afficher les marques du haut vers le bas\n",
    ")\n",
    "\n",
    "fig.show()\n"
   ],
   "metadata": {
    "collapsed": false,
    "ExecuteTime": {
     "end_time": "2024-03-29T14:47:11.773320Z",
     "start_time": "2024-03-29T14:47:11.754004Z"
    }
   },
   "id": "d48d3445cb6c2ac9",
   "execution_count": 393
  },
  {
   "cell_type": "code",
   "outputs": [
    {
     "data": {
      "text/plain": "<Figure size 1200x800 with 1 Axes>",
      "image/png": "[encoded data removed]"
     },
     "metadata": {},
     "output_type": "display_data"
    },
    {
     "data": {
      "text/plain": "<Figure size 1200x800 with 1 Axes>",
      "image/png": "[encoded data removed]"
     },
     "metadata": {},
     "output_type": "display_data"
    },
    {
     "data": {
      "text/plain": "<Figure size 1000x600 with 1 Axes>",
      "image/png": "[encoded data removed]"
     },
     "metadata": {},
     "output_type": "display_data"
    }
   ],
   "source": [
    "import matplotlib.pyplot as plt\n",
    "\n",
    "plt.figure(figsize=(10, 6))\n",
    "plt.scatter(df['km_driven'], df['selling_price'], alpha=0.5, color='blue')  # Couleur des points\n",
    "plt.xlabel('Kilométrage parcouru', fontsize=12, fontweight='bold', color='darkblue')  # Police améliorée pour l'axe x\n",
    "plt.ylabel('Prix de vente', fontsize=12, fontweight='bold', color='darkblue')  # Police améliorée pour l'axe y\n",
    "plt.title('Relation entre le kilométrage et le prix de vente', fontsize=14, fontweight='bold', color='darkgreen')  # Police améliorée pour le titre\n",
    "plt.grid(True, linestyle='--', linewidth=0.5, color='gray')  # Ajout de grille en pointillés\n",
    "plt.show()"
   ],
   "metadata": {
    "collapsed": false,
    "ExecuteTime": {
     "end_time": "2024-03-29T14:47:44.119710Z",
     "start_time": "2024-03-29T14:47:42.386521Z"
    }
   },
   "id": "4bb6a7c79c3f030",
   "execution_count": 394
  },
  {
   "cell_type": "code",
   "outputs": [
    {
     "data": {
      "text/plain": "<Figure size 1000x600 with 1 Axes>",
      "image/png": "[encoded data removed]"
     },
     "metadata": {},
     "output_type": "display_data"
    }
   ],
   "source": [
    "plt.figure(figsize=(10, 6))\n",
    "sns.boxplot(x='fuel', y='selling_price', data=df)\n",
    "plt.xlabel('Type de carburant')\n",
    "plt.ylabel('Prix de vente')\n",
    "plt.title('Répartition des prix de vente par type de carburant')\n",
    "plt.show()"
   ],
   "metadata": {
    "collapsed": false,
    "ExecuteTime": {
     "end_time": "2024-03-29T14:48:52.083274Z",
     "start_time": "2024-03-29T14:48:51.731276Z"
    }
   },
   "id": "33a0f5c7fa8819db",
   "execution_count": 395
  },
  {
   "cell_type": "code",
   "outputs": [
    {
     "name": "stderr",
     "output_type": "stream",
     "text": [
      "C:\\Users\\thek7\\AppData\\Local\\Temp\\ipykernel_2908\\1670476012.py:2: FutureWarning:\n",
      "\n",
      "\n",
      "\n",
      "Passing `palette` without assigning `hue` is deprecated and will be removed in v0.14.0. Assign the `x` variable to `hue` and set `legend=False` for the same effect.\n",
      "\n",
      "\n"
     ]
    },
    {
     "data": {
      "text/plain": "<Figure size 1000x600 with 1 Axes>",
      "image/png": "[encoded data removed]"
     },
     "metadata": {},
     "output_type": "display_data"
    },
    {
     "data": {
      "text/plain": "<Figure size 1000x600 with 1 Axes>",
      "image/png": "[encoded data removed]"
     },
     "metadata": {},
     "output_type": "display_data"
    }
   ],
   "source": [
    "plt.figure(figsize=(10, 6))\n",
    "sns.barplot(x='seller_type', y='selling_price', data=df, estimator=np.mean, palette='coolwarm')  # Couleur des barres\n",
    "plt.xlabel('Type de vendeur', fontsize=12, fontweight='bold', color='darkblue')  # Police améliorée pour l'axe x\n",
    "plt.ylabel('Prix de vente moyen', fontsize=12, fontweight='bold', color='darkblue')  # Police améliorée pour l'axe y\n",
    "plt.title('Prix de vente moyen par type de vendeur', fontsize=14, fontweight='bold', color='darkgreen')  # Police améliorée pour le titre\n",
    "plt.grid(True, linestyle='--', linewidth=0.5, color='gray')  # Ajout de grille en pointillés\n",
    "plt.show()"
   ],
   "metadata": {
    "collapsed": false,
    "ExecuteTime": {
     "end_time": "2024-03-29T14:49:59.991609Z",
     "start_time": "2024-03-29T14:49:58.892993Z"
    }
   },
   "id": "98c022ebdc8edb6",
   "execution_count": 397
  },
  {
   "cell_type": "code",
   "outputs": [
    {
     "name": "stderr",
     "output_type": "stream",
     "text": [
      "C:\\Users\\thek7\\AppData\\Local\\Temp\\ipykernel_2908\\278152337.py:5: FutureWarning:\n",
      "\n",
      "\n",
      "\n",
      "Passing `palette` without assigning `hue` is deprecated and will be removed in v0.14.0. Assign the `x` variable to `hue` and set `legend=False` for the same effect.\n",
      "\n",
      "\n"
     ]
    },
    {
     "data": {
      "text/plain": "<Figure size 1000x600 with 1 Axes>",
      "image/png": "[encoded data removed]"
     },
     "metadata": {},
     "output_type": "display_data"
    }
   ],
   "source": [
    "import seaborn as sns\n",
    "import matplotlib.pyplot as plt\n",
    "\n",
    "plt.figure(figsize=(10, 6))\n",
    "sns.barplot(x='owner', y='selling_price', data=df, palette='muted')  # Couleur des barres\n",
    "plt.xlabel('Nombre de propriétaires', fontsize=12, fontweight='bold', color='darkblue')  # Police améliorée pour l'axe x\n",
    "plt.ylabel('Prix de vente', fontsize=12, fontweight='bold', color='darkblue')  # Police améliorée pour l'axe y\n",
    "plt.title('Prix de vente des voitures en fonction du nombre de propriétaires', fontsize=14, fontweight='bold', color='darkgreen')  # Police améliorée pour le titre\n",
    "plt.grid(True, linestyle='--', linewidth=0.5, color='gray')  # Ajout de grille en pointillés\n",
    "plt.show()\n"
   ],
   "metadata": {
    "collapsed": false,
    "ExecuteTime": {
     "end_time": "2024-03-29T14:50:49.971326Z",
     "start_time": "2024-03-29T14:50:49.166529Z"
    }
   },
   "id": "1f1aa67377a3903",
   "execution_count": 398
  },
  {
   "cell_type": "code",
   "execution_count": 321,
   "id": "0f1518ab-8323-4e7c-84c0-3be087129432",
   "metadata": {
    "ExecuteTime": {
     "end_time": "2024-03-29T14:44:51.872522Z",
     "start_time": "2024-03-29T14:44:51.860776Z"
    }
   },
   "outputs": [],
   "source": [
    "#Appliquer la fonction clean_data à la colonne 'mileage' (consommation km/l)\n",
    "df['mileage'] = df['mileage'].apply(clean_data)"
   ]
  },
  {
   "cell_type": "code",
   "execution_count": 322,
   "id": "6190090c-b3ee-4ef5-a3d1-d385ed64193f",
   "metadata": {
    "ExecuteTime": {
     "end_time": "2024-03-29T14:44:53.121394Z",
     "start_time": "2024-03-29T14:44:53.108384Z"
    }
   },
   "outputs": [],
   "source": [
    "#Appliquer la fonction clean_data à la colonne 'engine' (bhp)\n",
    "df['max_power'] = df['max_power'].apply(clean_data)"
   ]
  },
  {
   "cell_type": "code",
   "execution_count": 323,
   "id": "14587e19-997b-482e-8617-b26c366dadb0",
   "metadata": {
    "ExecuteTime": {
     "end_time": "2024-03-29T14:44:53.359415Z",
     "start_time": "2024-03-29T14:44:53.347515Z"
    }
   },
   "outputs": [],
   "source": [
    "#Appliquer la fonction clean_data à la colonne 'engine' (cylindrée)\n",
    "df['engine'] = df['engine'].apply(clean_data)"
   ]
  },
  {
   "cell_type": "code",
   "execution_count": 324,
   "id": "4844037f-18f6-49ab-bffe-5f5306f53ba0",
   "metadata": {
    "ExecuteTime": {
     "end_time": "2024-03-29T14:44:53.451515Z",
     "start_time": "2024-03-29T14:44:53.422859Z"
    }
   },
   "outputs": [
    {
     "name": "stdout",
     "output_type": "stream",
     "text": [
      "Les valeures unique de la colonne :  name\n",
      "['Maruti' 'Skoda' 'Honda' 'Hyundai' 'Toyota' 'Ford' 'Renault' 'Mahindra'\n",
      " 'Tata' 'Chevrolet' 'Datsun' 'Jeep' 'Mercedes-Benz' 'Mitsubishi' 'Audi'\n",
      " 'Volkswagen' 'BMW' 'Nissan' 'Lexus' 'Jaguar' 'Land' 'MG' 'Volvo' 'Daewoo'\n",
      " 'Kia' 'Fiat' 'Force' 'Ambassador' 'Ashok' 'Isuzu' 'Opel']\n",
      "-------------------------\n",
      "Les valeures unique de la colonne :  year\n",
      "[2014 2006 2010 2007 2017 2001 2011 2013 2005 2009 2016 2012 2002 2015\n",
      " 2018 2019 2008 2020 1999 2000 2003 2004 1994 1998 1997 1995 1996]\n",
      "-------------------------\n",
      "Les valeures unique de la colonne :  selling_price\n",
      "[  450000   370000   158000   225000   130000   440000    96000    45000\n",
      "   350000   200000   500000    92000   280000   180000   400000   778000\n",
      "   150000   680000   174000   950000   525000   600000   575000   275000\n",
      "   300000   220000   254999   670000   730000   650000   330000   366000\n",
      "  1149000   425000  2100000   925000   675000   819999   390000  1500000\n",
      "   700000  1450000  1090000   850000  1650000  1750000  1590000  1689999\n",
      "  1425000   265000   190000   630000   540000   448000   745000  1025000\n",
      "   235000  1700000  1200000   610000  2500000   484999   315000   290000\n",
      "   455000   351000   535000   175000   565000   120000   725000   185000\n",
      "   615000   270000   625000   866000   375000   522000   451999   475000\n",
      "   780000   595000  1140000   360000   105000   135000   690000  3975000\n",
      "  5150000  3200000  4100000  4500000  6000000  3790000  5800000  1864999\n",
      "  2700000   795000  3400000  2650000  5850000   975000   805000  2625000\n",
      "   811000   550000   645000  2550000   599000   875000   894999   340000\n",
      "  1525000  2150000  1900000  2900000 10000000   160000   515000    40000\n",
      "   480000   487000   386000   100000   490000   345000    85000   215000\n",
      "   320000   459999    65000   720000   800000   520000   580000   420000\n",
      "  1250000   830000   335000   329000   775000   524000   245000   910000\n",
      "   900000   250000  1100000   640000   409999   165000    80000  1000000\n",
      "   110000   170000  1380000  1300000   530000   310000  1150000   380000\n",
      "   404000   114999   465000   210000  4600000   509999    90000   409000\n",
      "   395000    81000   555000   229999  1210000   325000    60000    89000\n",
      "   434999  3000000   570000  1550000    64000   140000   503000  3800000\n",
      "  2000000   740000   750000  5400000  5500000   779000  2475000   240000\n",
      "  1085000    95000  1290000   219000   260000   840000   292000   385000\n",
      "  1050000   735000   560000   585000   760000   430000   643000   285000\n",
      "   660000   268000    88000   561000   755000   125000  1600000   801000\n",
      "   317000   495000   236000  1800000   415000   217000   466000   605000\n",
      "  1350000   337000   655000   196000   299000   634000  1225000   238000\n",
      "   590000   195000   715000   168000   531000  1625000   145000   441000\n",
      "    67500   321000   298000  1075000   681000   810000   573000   101000\n",
      "  1019999   244000  1165000   241000   327000   620000   204999   576000\n",
      "   695000   231000   261000   371000   421000   710000  1040000   199000\n",
      "   305000  1745000   611000    75000    55000  1325000   885000   108000\n",
      "   272000  1125000   388000   757000   626000   793000  3750000  1400000\n",
      "  1925000   844999  2940000  1825000   890000   770000   467000   711000\n",
      "   511000   166000   392000   833000    35000   880000  1030000   521000\n",
      "   451000   472000   649000   429000  1576000   825000   470000  1560000\n",
      "  1950000   786000   731000   191000   651000   445000    93150   403000\n",
      "   144000    52000   302000   869999   155000   246000   405000    70000\n",
      "  3250000  1143000   635000  1575000   318000   152000   248000  1465000\n",
      "  1080000   678000  1460000   756000   665000  2950000   377000  1675000\n",
      "   169000   685000   749000   899000   259000   416000   773000   889000\n",
      "   118000   256000  1888000    99000  2280000    31504   295000   444000\n",
      "   860000  2450000   198000  2825000  2125000  3350000   365000   919999\n",
      "  2600000   839000  1594000   161000   423000   551000    50000   411000\n",
      "  1530000   376000  1850000    86000   822000    30000   252000   131000\n",
      "   128000   790000   604000  1175000   141000   151000   577000    83000\n",
      "   946000   356000   955000   978999   348000   399000   362000   499000\n",
      "   358000   278000   426000   211000  1270000   426999   960000  1031000\n",
      "    72000   479000   764000  2199000  3600000   184000   119000   267000\n",
      "   328000   112999    39000  2850000  2800000  3900000   221000   631000\n",
      "   308000   940000   361000   355000  7200000   930000  1670000   980000\n",
      "   486000   242000   654000   835000   408000    94500  1110000   438999\n",
      "   911999   693000   449000  1390000   698000   539000   765000   562000\n",
      "   571000   589000   227999  1151000  1295000  4090000   347000   493000\n",
      "   545000  1475000   287000  1630000   501000   181000  2711000  1035000\n",
      "   316000   813000  1190000   378000   156000   194000   754000    55599\n",
      "  1511000    78000   250999   312000    66000   369000   149000   752000\n",
      "   142000   111000   206000   567000   699000   632000   905000  1145000\n",
      "    58000   179000  1515000   178000   222000   387000  1405000   282000\n",
      "   458000   157000   497000  1227000   574000   121000  3100000    68000\n",
      "  1920000   808000   512000   671000   799000  1365000  1490000    80500\n",
      "   189000   892000    93000  1680000   667000   204000    42000   694000\n",
      "   861999   476999  5200000  2375000  2750000  1385000   785000  1275000\n",
      "  1748999   132000    33351  2064000   469000   906000   797000  6223000\n",
      "  5923000  6523000   122000   891000   346000   532000   974000   483000\n",
      "   138000   432000  1757000   412000   126000   736000   579000   187000\n",
      "  4000000  1898999   482000   401000   737000   291000   999000   957000\n",
      "   834000   297000   669000   616000   129000   115999   861000  3251000\n",
      "   911000   148000   433000   488000    67000   516000   136000    29999\n",
      "   124000  1938000   172000    59000  3500000   537000   849000   851000\n",
      "   597000   741000   556000   549000   679000   969999  1237000    31000\n",
      "   666000    54000   374000   455999   453000   258000   428000   262000\n",
      "   389000   339000   277000   578000   684000   949000   227000  5830000\n",
      "   721000   751000  2400000   990000  1282000  1147000   558000   722000\n",
      "   563000  2300000  2200000   488999   276000   434000   372000  1520000\n",
      "   202999   541000   254000   528000   102000   311000   977000  1251000\n",
      "  1445000    98000    59259   153000  1051000   591000   319000   454000\n",
      "  1160000  3300000   791000   802999  1789999  1044999   279000   944999\n",
      "  1859000  2175000   430999   803999   934000   357000   965000   341000\n",
      "    75527  1132000   352000   252999   313000   391000  2051000   212000\n",
      "  2575000  1516000   359000   209000  1220000  1180000    45957  1265000\n",
      "   382000   526000    90177    46000   307000   746000]\n",
      "-------------------------\n",
      "Les valeures unique de la colonne :  km_driven\n",
      "[ 145500  120000  140000  127000   45000  175000    5000   90000  169000\n",
      "   68000  100000   40000   70000   53000   80000   50000   72000   35000\n",
      "   28000   25000    2388   16200   10000   15000   42000   60000   76000\n",
      "   28900   86300   23300   32600   10300   77000   99000   27800   49800\n",
      "  151000   54700   64000   63000  127700   33900   59000  110000  147000\n",
      "   30000  135000    9850   78000  170000   49000   32000   38000   44000\n",
      "   12000   55500   61500  150000   37800  114000   48000   69000   13000\n",
      "   76139   65000    1303   31800   20000   17000   21000   37000   29500\n",
      "    7500   19000   41000   39000   22000   47000   72200   49900    9000\n",
      "   11000   95000   18000   46100   16000    9654   24300   42163    8000\n",
      "   71000    9500   36600   14000  120600   86000    7800   31377   75000\n",
      "   93000  125000   13500  162500   92500  158000    2000  181000  193000\n",
      "  122358   95200   33033   63063  207890    7976   16500   99361   33000\n",
      "   80100  160000   26000   29000   58000   36000  185000  162000   67000\n",
      "   52000   68089   58343   38817   56494   79328    5621   25538   69779\n",
      "   56290    8500    7032  106000  240000  214000    1000  265000  134000\n",
      "    2136  250000  130000   99500  119000   44665  123000   34000  146000\n",
      "   85000  201850   46000  190000   43000   14200   19100   54000  101500\n",
      "   55735    1500  181491   53319   40906   31711   43755   66693   59549\n",
      "   94385   73730  221889  116104  150546  148120  142000  126000   24000\n",
      "  101000  168000  165000   98500   98000   77800   51492  136000   91000\n",
      "  167000  180000    6000   91500  132478   51000  105000  137500   88000\n",
      "  156060  107000   57000  300000  200000   18945  144000  107825    1620\n",
      "  141000  108000   55000   37944   90400   96000  193623   63186  219000\n",
      "   23000   94000  140500  143000  195000  360003    8079  114368   79990\n",
      "   81632  155201  101504   90165   86017   85036  125531  206000   49700\n",
      "   74000    6550   56000   41779   31000   13534    7000   28156   63309\n",
      "  155000   11500    3000  157000   27000   26300   89100  104000  210000\n",
      "  216000   84000  161000   72113  113000   96443   51500  104500   49102\n",
      "   81000  227000  117000    8576   19723   21446   52289   52236   54470\n",
      "   25471   33928   59736   54290    2118   61379   58544   74381   63982\n",
      "   56429   19500   56832   30528   65285   20102   52380   74250   57247\n",
      "  178000   42323   42462   54723   42545   20375   43978   40200   27233\n",
      "   28832  103000  142500  115000   35500   17500   92000    4500   83000\n",
      "    6750   18500   50478    9200    2300    4295    5229    4701    6757\n",
      "   28182   11533   11688   57728   23712   70670   43381   79011   58500\n",
      "   43500   12700   49455   46815  334000  100875  118000  128000  144030\n",
      "  176000   89000   97000   12800   65100   15200   82000  116500  145000\n",
      "   73000  113226  160500  132000  217000  139000    3500   62000 1500000\n",
      "  120005   16830   93468   16589   53201   25272   53619    6001  202000\n",
      "   71717   84321  177000  205000   41800   88700  188000  225000    5500\n",
      "    4875    2700   58511   26235   26766    1600   24522   13663   58945\n",
      "  375000  156975   27620  143200  138000  189000  156000   10800   67500\n",
      "  255000   71850  112000  159000   76131   51777   64788   46951   74537\n",
      "   23500   68600   13887   66000   24400   27500   67840  380000  112880\n",
      "   61915  184000    6200   16700    7967    9656   68609   33360   14317\n",
      "   87237   62960   26634  163720   67998   20706  100581   67303   79139\n",
      "   84784  130376   33500   22053   78432  270000    7200  117500   78500\n",
      "  115717    4000   26432   46702   46706   53523   56365   49563   56432\n",
      "   52365   53512   46533   58632   65300   39395  230000   32500   64800\n",
      "  248000   66444  218463  153000   87185  137000    3564   48756   80322\n",
      "  173000  148000    6500  220000  108957   22200  260000   42108   79000\n",
      "   17100   43001  100600   92385  116000   72500   82500   50600  121000\n",
      "  101903   85568    3100  186000   59300   89322   48300   23511   22512\n",
      "   62900   52442   34156   34152   62841   38600   27654   48698   32995\n",
      "   90150   85700   25339   41232   68240   92651   88754   23700   69500\n",
      "   28050   22947    7672   36659   44500    9900  124316    6544   49600\n",
      "  198000  103994   35008   31100   42312   54891   18890   75010    4337\n",
      "   14495   83585   48406   56239   33243   15858   87847   87000  112072\n",
      "   52269   15780 2360457  108800   12500  577414  121941  152186   82246\n",
      "   89580    2789   35278    2860   78562   36088  129000  500000  133000\n",
      "   64500   24500   45500   71500   93500   60300   44391   56315   15151\n",
      "  114321   37333  330000  291000   21500  197000   40300   30030   29029\n",
      "   72072   82082   80600   58609   33003  165500    5800   68700  102996\n",
      "   96500   52412   85472   87452   66530   32331  172000   23456  136500\n",
      "  111000   42500   47200  246000    5200   10500   93331  109000    5400\n",
      "  102000   29700    7600   29340   80800   24265   56900   88200   40800\n",
      "    8588  305000  212000  101200  179150   84487  264000   51146  298000\n",
      "  149000  291977   36800   52200  248200    7720   57882  242000   55380\n",
      "   18816   33019   47747   45900   68697  147279   24700   43526   55885\n",
      "   16034  156040   93415  122000   68519   22966    2350   59872   91182\n",
      "   59500   75500  152500   69123   77524   40523   23600  290000   24177\n",
      "  121779   15381   74800  109322  475000   61000   80500   65755    2600\n",
      "   15500   50700  440000  152000  200400    7300    9750  157138  285000\n",
      "  127991   13120   87500   62200   87540  231438  239451  154000  426000\n",
      "  182000  215000   77300   61260   17601    4773   57900    8600   78010\n",
      "   83844   23999   91400  178500   66953  166000  131000  100750   48676\n",
      "   79500  200185   49025   76460   47370   45217  222300   44600   28080\n",
      "   28800   21900   28100    7673   96272   22500    7400  370000  150360\n",
      "   42130  147500   56194   54188   54043   66657   35582   54327    7949\n",
      "   59734   49185   56389   58245   36422   42535   40736   56246   55403\n",
      "  105358   49200   81500    3177   39414   30078   44588   49907   67082\n",
      "  112879   10200    1300  175802  192000   73840  320000   24857   26442\n",
      "   50800   40142    9400   12584    4300   14548   44772   48500   28782\n",
      "   28451   36500   44885  131111   58400   23400    3010  163000   77088\n",
      "  136511   36710   28180   44077   55768  123278   26500   18484    2560\n",
      "  103655   56975  187000  218000   73257   26320   38426  116700  176062\n",
      "   77500   39500   55896   30400  164000  271000   75262   91863   47552\n",
      "   14700   19700  145241   95500   53473   75958   31596   85710  129627\n",
      "   55130   22522   51856   29434   34500    6825  112011   53534  248119\n",
      "   24019   19600  376412  183000  108916   59865   68140   53190   70100\n",
      "   47725   70195   77395   74321   80235   77150   61100   82300   82050\n",
      "   29899   59235  201000   77215   48228   58559   50856   18300   59292\n",
      "   21147   61173   91567   33400   92686   67600   49500  112048   30646\n",
      "   43011  104300   73500  280000   35700   22700   21871   55425   37659\n",
      "   37500   19800   45629   68850   45775   68203   97343   82507   59400\n",
      "  125876   56800   65204    2286   15732   49523   36521   64481   49060\n",
      "   37161   60175   49957   43235   50699       1   50074   30154   26263\n",
      "   84925   46357   46737  110048  186388   20171   37151   58161   50171\n",
      "   55161    9599   16151   28161   80868  194000  191000]\n",
      "-------------------------\n",
      "Les valeures unique de la colonne :  fuel\n",
      "['Diesel' 'Petrol' 'LPG' 'CNG']\n",
      "-------------------------\n",
      "Les valeures unique de la colonne :  seller_type\n",
      "['Individual' 'Dealer' 'Trustmark Dealer']\n",
      "-------------------------\n",
      "Les valeures unique de la colonne :  transmission\n",
      "['Manual' 'Automatic']\n",
      "-------------------------\n",
      "Les valeures unique de la colonne :  owner\n",
      "['First Owner' 'Second Owner' 'Third Owner' 'Fourth & Above Owner'\n",
      " 'Test Drive Car']\n",
      "-------------------------\n",
      "Les valeures unique de la colonne :  mileage\n",
      "[23.4  21.14 17.7  23.   16.1  20.14 17.3  23.59 20.   19.01 19.3  18.9\n",
      " 18.15 24.52 19.7  22.54 21.   25.5  26.59 21.5  20.3  21.4  24.7  18.2\n",
      " 16.8  24.3  14.   18.6  33.44 23.95 17.   20.63 13.93 16.   17.8  18.5\n",
      " 12.55 12.99 14.8  13.5  26.   20.65 27.3  11.36 17.68 14.28 18.53 14.84\n",
      " 21.12 20.36 21.27 18.16 22.   25.1  20.51 21.66 25.2  22.9  16.02 20.54\n",
      " 22.77 15.71 23.1  19.02 19.81 26.2  16.47 15.04 19.1  21.79 18.8  21.21\n",
      " 15.37 11.79 19.   14.3  15.8  15.1  19.09 22.32 21.9  14.53 21.63 20.85\n",
      " 20.45 19.67 23.01 20.77 17.92 17.01 22.37 19.33  9.5  12.83 22.48 16.78\n",
      " 14.67 15.   13.96 18.   12.07 26.21 10.8  16.3  13.6  14.74 15.6  19.56\n",
      " 22.69 19.16 18.12 12.1  17.5  42.   20.4  21.1  19.44 13.   21.43 22.95\n",
      " 16.2  15.3  28.09 17.4  19.4  26.6  17.6  28.4  14.1  25.17 22.74 17.57\n",
      " 16.95 19.49 17.21 13.2  14.2  26.8  25.4  11.5  27.28 17.97 12.8  16.55\n",
      " 12.05 14.07 21.02 11.57 17.9  15.96 17.1  17.19 21.01 24.   25.6  21.38\n",
      " 23.84 23.08 14.24 20.71 15.64 14.5  16.34 27.39 11.1  13.9  20.88 20.92\n",
      " 23.8  24.4  15.29 21.19 22.5  19.6  23.65 25.32 23.5  16.6  23.9  20.8\n",
      " 27.62 12.9  25.44 17.88 22.7  17.2  15.42 19.68 18.7  15.4  19.34 22.71\n",
      " 25.8  13.7  12.2  18.49  9.    0.   13.58 10.1  20.5  25.   10.5  22.07\n",
      " 22.3  15.26 20.62 27.4  23.2  14.4  18.4  30.46 14.02 11.   20.6  22.05\n",
      " 20.2  18.1  22.1  19.87 13.01 18.06 26.1  16.52 13.55 24.2  25.83 11.2\n",
      " 17.09 21.03 17.45 21.64 21.94 13.87 19.98 20.52 23.57 11.7  17.43 18.88\n",
      " 13.68 11.18 20.89 11.8  19.62 21.7  14.9  19.5  10.91 15.7  20.73 15.85\n",
      " 20.7  14.23 16.5  17.36 12.6  16.36 14.95 16.9  19.2  16.96 22.15 18.78\n",
      " 19.61 17.71 18.3  19.12 19.72 12.   11.4  23.03 11.07 15.9  17.67 20.46\n",
      " 13.1  13.45 24.8  15.73 15.11 12.7  21.2  20.38 21.56 13.22 14.49 15.05\n",
      " 23.26 15.41 13.8  22.27 32.52 14.66 12.12 16.84 14.09 14.7  13.4  15.5\n",
      " 13.49 11.88 14.6  10.75 24.5  11.74 16.07 15.63 26.3  23.7  25.47 17.05\n",
      " 23.3  11.9  13.38 20.86 10.9  18.25 15.2  20.37 21.8  11.96 24.04 19.69\n",
      " 13.73 21.04 25.01 10.93 24.29 13.44 20.07 19.08 20.34 11.68 12.5  12.3\n",
      " 23.87 16.38 17.42 10.   18.24 10.71 19.59 16.7  19.83 21.76 16.05 20.28\n",
      " 16.25 16.73 18.48 14.99 18.76 16.4  19.64 14.94 17.11 22.8  32.26 33.\n",
      " 12.4  18.44 16.09 12.62 21.13 15.17 21.73 21.72 12.85 14.81 13.24 21.49\n",
      " 14.62 26.83 11.45 12.08 15.74 11.3  14.21 11.72 16.51]\n",
      "-------------------------\n",
      "Les valeures unique de la colonne :  engine\n",
      "[1248. 1498. 1497. 1396. 1298. 1197. 1061.  796. 1364. 1399. 1461.  993.\n",
      " 1198. 1199.  998. 1591. 2179. 1368. 2982. 2494. 2143. 2477. 1462. 2755.\n",
      " 1968. 1798. 1196. 1373. 1598. 1998. 1086. 1194. 1172. 1405. 1582.  999.\n",
      " 2487. 1999. 3604. 2987. 1995. 1451. 1969. 2967. 2497. 1797. 1991. 2362.\n",
      " 1493. 1599. 1341. 1794.  799. 1193. 2696. 1495. 1186. 1047. 2498. 2956.\n",
      " 2523. 1120.  624. 1496. 1984. 2354.  814.  793. 1799.  936. 1956. 1997.\n",
      " 1499. 1948. 2997. 2489. 2499. 2609. 2953. 1150. 1994. 1388. 1527. 2199.\n",
      "  995. 2993. 1586. 1390.  909. 2393. 3198. 1339. 2835. 2092. 1595. 2496.\n",
      " 1596. 1597. 2596. 2148. 1299. 1590. 2231. 2694. 2200. 1795. 1896. 1796.\n",
      " 1422. 1489. 2359. 2197. 2999. 1781. 2650. 1343. 2446. 3498. 2198. 2776.\n",
      " 1950.]\n",
      "-------------------------\n",
      "Les valeures unique de la colonne :  max_power\n",
      "[ 74.    103.52   78.     90.     88.2    81.86   57.5    37.     67.1\n",
      "  68.1   108.45   60.     73.9    67.     82.     88.5    46.3    88.73\n",
      "  64.1    98.6    88.8    83.81   83.1    47.3    73.8    34.2    35.\n",
      "  81.83   40.3   121.3   138.03  160.77  117.3   116.3    83.14   67.05\n",
      " 168.5   100.    120.7    98.63  175.56  103.25  171.5   100.6   174.33\n",
      " 187.74  170.     78.9    88.76   86.8   108.495 108.62   93.7   103.6\n",
      "  98.59  189.     67.04   68.05   58.2    82.85   81.8    73.    120.\n",
      "  94.68  160.     65.    155.     69.01  126.32  138.1    83.8   126.2\n",
      "  98.96   62.1    86.7   188.    214.56  177.    280.    148.31  254.79\n",
      " 190.    177.46  204.    141.    117.6   241.4   282.    150.    147.5\n",
      " 108.5   103.5   183.    181.04  157.7   164.7    91.1   400.     68.\n",
      "  75.     85.8    87.2    53.    118.    103.2    83.     84.     58.16\n",
      " 147.94   74.02   53.3    80.     88.7    97.7   121.36  162.    140.\n",
      "  94.    100.57   82.9    83.11   70.    153.86  121.    126.3    73.97\n",
      " 171.     69.     99.6   102.    105.     63.     79.4    97.9    63.1\n",
      "  66.1   110.    174.5    53.26   73.75   67.06   64.08   37.5   189.3\n",
      " 158.8    61.7    55.2    71.01   73.74  147.9    71.     77.    121.4\n",
      " 113.4    47.    130.     57.6   138.     52.8    53.64   53.5    76.8\n",
      "  82.4   113.42   76.     84.8    56.3   218.    112.     92.    105.5\n",
      " 169.     95.     72.4   115.    152.     91.2   156.     74.9    62.\n",
      " 105.3    73.94   85.    118.3    72.    147.51   58.     64.    126.24\n",
      "  76.9   194.3    99.23   89.84  123.7   118.35   99.    241.    136.\n",
      " 261.4   104.68   37.48  104.     63.12   91.7   102.5   177.6    45.\n",
      " 123.37  147.8   184.     84.48   68.07   74.96  167.6   152.87  112.2\n",
      "  83.83  197.    110.4   104.55  103.    103.3    66.    108.6   165.\n",
      " 163.7   116.9    94.93  127.    198.5   179.5   120.69  121.31  138.08\n",
      " 187.7    80.8    86.79   93.87  116.6   143.     92.7    88.     58.33\n",
      "  78.8    64.4   125.    139.01  254.8   181.    258.     55.23  270.9\n",
      " 265.    157.75  101.    186.    187.4   224.     64.9   148.     35.5\n",
      "  89.75   32.8    91.72  106.     98.97   66.6    86.     65.3    98.82\n",
      " 198.25   38.    142.    132.    174.57  178.    163.2   203.2   177.5\n",
      " 175.     57.     80.84   68.4   167.67  170.63   52.    149.5    48.21\n",
      "   0.    201.1   100.5   144.    194.4   168.7   104.5   103.26  116.4\n",
      "  98.79   80.9    58.3   272.    235.    167.62  170.3   139.46  158.\n",
      " 110.5    82.5   141.1    38.4   197.2   161.    194.    122.4   134.1\n",
      "  60.2   134.    203.    135.1  ]\n",
      "-------------------------\n",
      "Les valeures unique de la colonne :  seats\n",
      "[ 5.  4.  7.  8.  6.  9. 10. 14.  2.]\n",
      "-------------------------\n"
     ]
    }
   ],
   "source": [
    "for col in df.columns:\n",
    "    print('Les valeures unique de la colonne :  ' + col)\n",
    "    print(df[col].unique())\n",
    "    print(\"-------------------------\")"
   ]
  },
  {
   "cell_type": "code",
   "outputs": [
    {
     "data": {
      "text/plain": "      name  year  selling_price  km_driven  fuel  seller_type  transmission  \\\n0        1  2014         450000     145500     1            1             1   \n1        2  2014         370000     120000     1            1             1   \n2        3  2006         158000     140000     2            1             1   \n3        4  2010         225000     127000     1            1             1   \n4        1  2007         130000     120000     2            1             1   \n...    ...   ...            ...        ...   ...          ...           ...   \n6713     1  2013         260000      50000     2            1             1   \n6714     4  2014         475000      80000     1            1             1   \n6715     4  2013         320000     110000     2            1             1   \n6716     4  2007         135000     119000     1            1             1   \n6717     1  2009         382000     120000     1            1             1   \n\n      owner  mileage  engine  max_power  seats  \n0         1    23.40  1248.0      74.00    5.0  \n1         2    21.14  1498.0     103.52    5.0  \n2         3    17.70  1497.0      78.00    5.0  \n3         1    23.00  1396.0      90.00    5.0  \n4         1    16.10  1298.0      88.20    5.0  \n...     ...      ...     ...        ...    ...  \n6713      2    18.90   998.0      67.10    5.0  \n6714      2    22.54  1396.0      88.73    5.0  \n6715      1    18.50  1197.0      82.85    5.0  \n6716      4    16.80  1493.0     110.00    5.0  \n6717      1    19.30  1248.0      73.90    5.0  \n\n[6718 rows x 12 columns]",
      "text/html": "<div>\n<style scoped>\n    .dataframe tbody tr th:only-of-type {\n        vertical-align: middle;\n    }\n\n    .dataframe tbody tr th {\n        vertical-align: top;\n    }\n\n    .dataframe thead th {\n        text-align: right;\n    }\n</style>\n<table border=\"1\" class=\"dataframe\">\n  <thead>\n    <tr style=\"text-align: right;\">\n      <th></th>\n      <th>name</th>\n      <th>year</th>\n      <th>selling_price</th>\n      <th>km_driven</th>\n      <th>fuel</th>\n      <th>seller_type</th>\n      <th>transmission</th>\n      <th>owner</th>\n      <th>mileage</th>\n      <th>engine</th>\n      <th>max_power</th>\n      <th>seats</th>\n    </tr>\n  </thead>\n  <tbody>\n    <tr>\n      <th>0</th>\n      <td>1</td>\n      <td>2014</td>\n      <td>450000</td>\n      <td>145500</td>\n      <td>1</td>\n      <td>1</td>\n      <td>1</td>\n      <td>1</td>\n      <td>23.40</td>\n      <td>1248.0</td>\n      <td>74.00</td>\n      <td>5.0</td>\n    </tr>\n    <tr>\n      <th>1</th>\n      <td>2</td>\n      <td>2014</td>\n      <td>370000</td>\n      <td>120000</td>\n      <td>1</td>\n      <td>1</td>\n      <td>1</td>\n      <td>2</td>\n      <td>21.14</td>\n      <td>1498.0</td>\n      <td>103.52</td>\n      <td>5.0</td>\n    </tr>\n    <tr>\n      <th>2</th>\n      <td>3</td>\n      <td>2006</td>\n      <td>158000</td>\n      <td>140000</td>\n      <td>2</td>\n      <td>1</td>\n      <td>1</td>\n      <td>3</td>\n      <td>17.70</td>\n      <td>1497.0</td>\n      <td>78.00</td>\n      <td>5.0</td>\n    </tr>\n    <tr>\n      <th>3</th>\n      <td>4</td>\n      <td>2010</td>\n      <td>225000</td>\n      <td>127000</td>\n      <td>1</td>\n      <td>1</td>\n      <td>1</td>\n      <td>1</td>\n      <td>23.00</td>\n      <td>1396.0</td>\n      <td>90.00</td>\n      <td>5.0</td>\n    </tr>\n    <tr>\n      <th>4</th>\n      <td>1</td>\n      <td>2007</td>\n      <td>130000</td>\n      <td>120000</td>\n      <td>2</td>\n      <td>1</td>\n      <td>1</td>\n      <td>1</td>\n      <td>16.10</td>\n      <td>1298.0</td>\n      <td>88.20</td>\n      <td>5.0</td>\n    </tr>\n    <tr>\n      <th>...</th>\n      <td>...</td>\n      <td>...</td>\n      <td>...</td>\n      <td>...</td>\n      <td>...</td>\n      <td>...</td>\n      <td>...</td>\n      <td>...</td>\n      <td>...</td>\n      <td>...</td>\n      <td>...</td>\n      <td>...</td>\n    </tr>\n    <tr>\n      <th>6713</th>\n      <td>1</td>\n      <td>2013</td>\n      <td>260000</td>\n      <td>50000</td>\n      <td>2</td>\n      <td>1</td>\n      <td>1</td>\n      <td>2</td>\n      <td>18.90</td>\n      <td>998.0</td>\n      <td>67.10</td>\n      <td>5.0</td>\n    </tr>\n    <tr>\n      <th>6714</th>\n      <td>4</td>\n      <td>2014</td>\n      <td>475000</td>\n      <td>80000</td>\n      <td>1</td>\n      <td>1</td>\n      <td>1</td>\n      <td>2</td>\n      <td>22.54</td>\n      <td>1396.0</td>\n      <td>88.73</td>\n      <td>5.0</td>\n    </tr>\n    <tr>\n      <th>6715</th>\n      <td>4</td>\n      <td>2013</td>\n      <td>320000</td>\n      <td>110000</td>\n      <td>2</td>\n      <td>1</td>\n      <td>1</td>\n      <td>1</td>\n      <td>18.50</td>\n      <td>1197.0</td>\n      <td>82.85</td>\n      <td>5.0</td>\n    </tr>\n    <tr>\n      <th>6716</th>\n      <td>4</td>\n      <td>2007</td>\n      <td>135000</td>\n      <td>119000</td>\n      <td>1</td>\n      <td>1</td>\n      <td>1</td>\n      <td>4</td>\n      <td>16.80</td>\n      <td>1493.0</td>\n      <td>110.00</td>\n      <td>5.0</td>\n    </tr>\n    <tr>\n      <th>6717</th>\n      <td>1</td>\n      <td>2009</td>\n      <td>382000</td>\n      <td>120000</td>\n      <td>1</td>\n      <td>1</td>\n      <td>1</td>\n      <td>1</td>\n      <td>19.30</td>\n      <td>1248.0</td>\n      <td>73.90</td>\n      <td>5.0</td>\n    </tr>\n  </tbody>\n</table>\n<p>6718 rows × 12 columns</p>\n</div>"
     },
     "execution_count": 368,
     "metadata": {},
     "output_type": "execute_result"
    }
   ],
   "source": [
    "df\n"
   ],
   "metadata": {
    "collapsed": false,
    "ExecuteTime": {
     "end_time": "2024-03-29T14:45:55.996276Z",
     "start_time": "2024-03-29T14:45:55.969805Z"
    }
   },
   "id": "eaa2c3baa3d5d334",
   "execution_count": 368
  },
  {
   "cell_type": "code",
   "execution_count": 326,
   "id": "a21f1b9e-2fc2-41f5-8296-6b602cde1f11",
   "metadata": {
    "ExecuteTime": {
     "end_time": "2024-03-29T14:44:53.751650Z",
     "start_time": "2024-03-29T14:44:53.723449Z"
    }
   },
   "outputs": [],
   "source": [
    "df['name'].replace(['Maruti', 'Skoda', 'Honda', 'Hyundai', 'Toyota', 'Ford', 'Renault',\n",
    "       'Mahindra', 'Tata', 'Chevrolet', 'Datsun', 'Jeep', 'Mercedes-Benz',\n",
    "       'Mitsubishi', 'Audi', 'Volkswagen', 'BMW', 'Nissan', 'Lexus',\n",
    "       'Jaguar', 'Land', 'MG', 'Volvo', 'Daewoo', 'Kia', 'Fiat', 'Force',\n",
    "       'Ambassador', 'Ashok', 'Isuzu', 'Opel'],\n",
    "                   [1,2,3,4,5,6,7,8,9,10,11,12,13,14,15,16,17,18,19,20,21,22,23,24,25,26,27,28,29,30,31]\n",
    "                   , inplace=True)"
   ]
  },
  {
   "cell_type": "code",
   "execution_count": 327,
   "id": "e7385c57-b05a-4c51-a1ec-0ccbd16370ca",
   "metadata": {
    "ExecuteTime": {
     "end_time": "2024-03-29T14:44:53.925097Z",
     "start_time": "2024-03-29T14:44:53.915578Z"
    }
   },
   "outputs": [
    {
     "data": {
      "text/plain": "array(['Manual', 'Automatic'], dtype=object)"
     },
     "execution_count": 327,
     "metadata": {},
     "output_type": "execute_result"
    }
   ],
   "source": [
    "df['transmission'].unique()"
   ]
  },
  {
   "cell_type": "code",
   "execution_count": 328,
   "id": "b3ed8ff1-2806-4bbc-b4b8-600385d2939a",
   "metadata": {
    "ExecuteTime": {
     "end_time": "2024-03-29T14:44:54.125461Z",
     "start_time": "2024-03-29T14:44:54.115273Z"
    }
   },
   "outputs": [],
   "source": [
    "df['transmission'].replace(['Manual', 'Automatic'], [1, 2], inplace=True)"
   ]
  },
  {
   "cell_type": "code",
   "execution_count": 329,
   "id": "06eee268-5507-4a29-bb8a-d51870abe75f",
   "metadata": {
    "ExecuteTime": {
     "end_time": "2024-03-29T14:44:54.284612Z",
     "start_time": "2024-03-29T14:44:54.274054Z"
    }
   },
   "outputs": [
    {
     "data": {
      "text/plain": "array(['Individual', 'Dealer', 'Trustmark Dealer'], dtype=object)"
     },
     "execution_count": 329,
     "metadata": {},
     "output_type": "execute_result"
    }
   ],
   "source": [
    "df['seller_type'].unique()"
   ]
  },
  {
   "cell_type": "code",
   "execution_count": 330,
   "id": "95e81db1-34fc-4f0b-ac10-441abde4ffde",
   "metadata": {
    "ExecuteTime": {
     "end_time": "2024-03-29T14:44:54.645011Z",
     "start_time": "2024-03-29T14:44:54.634357Z"
    }
   },
   "outputs": [],
   "source": [
    "df['seller_type'].replace(['Individual', 'Dealer', 'Trustmark Dealer'], [1, 2, 3], inplace=True)"
   ]
  },
  {
   "cell_type": "code",
   "execution_count": 331,
   "id": "59e068f4-99c7-4a8e-bfee-34b650f9e5a4",
   "metadata": {
    "ExecuteTime": {
     "end_time": "2024-03-29T14:44:54.826978Z",
     "start_time": "2024-03-29T14:44:54.810494Z"
    }
   },
   "outputs": [
    {
     "name": "stdout",
     "output_type": "stream",
     "text": [
      "<class 'pandas.core.frame.DataFrame'>\n",
      "Index: 6718 entries, 0 to 8125\n",
      "Data columns (total 12 columns):\n",
      " #   Column         Non-Null Count  Dtype  \n",
      "---  ------         --------------  -----  \n",
      " 0   name           6718 non-null   int64  \n",
      " 1   year           6718 non-null   int64  \n",
      " 2   selling_price  6718 non-null   int64  \n",
      " 3   km_driven      6718 non-null   int64  \n",
      " 4   fuel           6718 non-null   object \n",
      " 5   seller_type    6718 non-null   int64  \n",
      " 6   transmission   6718 non-null   int64  \n",
      " 7   owner          6718 non-null   object \n",
      " 8   mileage        6718 non-null   float64\n",
      " 9   engine         6718 non-null   float64\n",
      " 10  max_power      6718 non-null   float64\n",
      " 11  seats          6718 non-null   float64\n",
      "dtypes: float64(4), int64(6), object(2)\n",
      "memory usage: 682.3+ KB\n"
     ]
    }
   ],
   "source": [
    "df.info()"
   ]
  },
  {
   "cell_type": "code",
   "outputs": [],
   "source": [
    "df_resu = df.describe()"
   ],
   "metadata": {
    "collapsed": false,
    "ExecuteTime": {
     "end_time": "2024-03-29T14:44:55.111703Z",
     "start_time": "2024-03-29T14:44:55.076105Z"
    }
   },
   "id": "f9037d5340841565",
   "execution_count": 332
  },
  {
   "cell_type": "code",
   "execution_count": 333,
   "id": "47a197d1-aa3c-4f1e-96f4-ee2be735892c",
   "metadata": {
    "ExecuteTime": {
     "end_time": "2024-03-29T14:44:55.261Z",
     "start_time": "2024-03-29T14:44:55.250413Z"
    }
   },
   "outputs": [
    {
     "data": {
      "text/plain": "array(['Diesel', 'Petrol', 'LPG', 'CNG'], dtype=object)"
     },
     "execution_count": 333,
     "metadata": {},
     "output_type": "execute_result"
    }
   ],
   "source": [
    "df['fuel'].unique()"
   ]
  },
  {
   "cell_type": "code",
   "execution_count": 335,
   "id": "32c025b0-9ee9-4638-aa1c-aad389f9ef71",
   "metadata": {
    "ExecuteTime": {
     "end_time": "2024-03-29T14:44:56.441477Z",
     "start_time": "2024-03-29T14:44:56.429527Z"
    }
   },
   "outputs": [],
   "source": [
    "df['fuel'].replace(['Diesel', 'Petrol', 'LPG', 'CNG'], [1, 2, 3, 4], inplace=True)"
   ]
  },
  {
   "cell_type": "code",
   "execution_count": 336,
   "id": "2c56c15b-1301-4e99-97ee-2765f72e336a",
   "metadata": {
    "ExecuteTime": {
     "end_time": "2024-03-29T14:44:56.458383Z",
     "start_time": "2024-03-29T14:44:56.443840Z"
    }
   },
   "outputs": [
    {
     "name": "stdout",
     "output_type": "stream",
     "text": [
      "<class 'pandas.core.frame.DataFrame'>\n",
      "Index: 6718 entries, 0 to 8125\n",
      "Data columns (total 12 columns):\n",
      " #   Column         Non-Null Count  Dtype  \n",
      "---  ------         --------------  -----  \n",
      " 0   name           6718 non-null   int64  \n",
      " 1   year           6718 non-null   int64  \n",
      " 2   selling_price  6718 non-null   int64  \n",
      " 3   km_driven      6718 non-null   int64  \n",
      " 4   fuel           6718 non-null   int64  \n",
      " 5   seller_type    6718 non-null   int64  \n",
      " 6   transmission   6718 non-null   int64  \n",
      " 7   owner          6718 non-null   object \n",
      " 8   mileage        6718 non-null   float64\n",
      " 9   engine         6718 non-null   float64\n",
      " 10  max_power      6718 non-null   float64\n",
      " 11  seats          6718 non-null   float64\n",
      "dtypes: float64(4), int64(7), object(1)\n",
      "memory usage: 682.3+ KB\n"
     ]
    }
   ],
   "source": [
    "df.info()"
   ]
  },
  {
   "cell_type": "code",
   "execution_count": 337,
   "id": "8b247c1d-0081-4096-b6e9-6cf0d1db4ba2",
   "metadata": {
    "ExecuteTime": {
     "end_time": "2024-03-29T14:44:56.469687Z",
     "start_time": "2024-03-29T14:44:56.462529Z"
    }
   },
   "outputs": [],
   "source": [
    "df.reset_index(inplace=True)"
   ]
  },
  {
   "cell_type": "code",
   "execution_count": 338,
   "id": "fb79a599-4c87-4238-8b18-b4e024a64fa1",
   "metadata": {
    "ExecuteTime": {
     "end_time": "2024-03-29T14:44:56.498969Z",
     "start_time": "2024-03-29T14:44:56.472098Z"
    }
   },
   "outputs": [
    {
     "data": {
      "text/plain": "      index  name  year  selling_price  km_driven  fuel  seller_type  \\\n0         0     1  2014         450000     145500     1            1   \n1         1     2  2014         370000     120000     1            1   \n2         2     3  2006         158000     140000     2            1   \n3         3     4  2010         225000     127000     1            1   \n4         4     1  2007         130000     120000     2            1   \n...     ...   ...   ...            ...        ...   ...          ...   \n6713   8121     1  2013         260000      50000     2            1   \n6714   8122     4  2014         475000      80000     1            1   \n6715   8123     4  2013         320000     110000     2            1   \n6716   8124     4  2007         135000     119000     1            1   \n6717   8125     1  2009         382000     120000     1            1   \n\n      transmission                 owner  mileage  engine  max_power  seats  \n0                1           First Owner    23.40  1248.0      74.00    5.0  \n1                1          Second Owner    21.14  1498.0     103.52    5.0  \n2                1           Third Owner    17.70  1497.0      78.00    5.0  \n3                1           First Owner    23.00  1396.0      90.00    5.0  \n4                1           First Owner    16.10  1298.0      88.20    5.0  \n...            ...                   ...      ...     ...        ...    ...  \n6713             1          Second Owner    18.90   998.0      67.10    5.0  \n6714             1          Second Owner    22.54  1396.0      88.73    5.0  \n6715             1           First Owner    18.50  1197.0      82.85    5.0  \n6716             1  Fourth & Above Owner    16.80  1493.0     110.00    5.0  \n6717             1           First Owner    19.30  1248.0      73.90    5.0  \n\n[6718 rows x 13 columns]",
      "text/html": "<div>\n<style scoped>\n    .dataframe tbody tr th:only-of-type {\n        vertical-align: middle;\n    }\n\n    .dataframe tbody tr th {\n        vertical-align: top;\n    }\n\n    .dataframe thead th {\n        text-align: right;\n    }\n</style>\n<table border=\"1\" class=\"dataframe\">\n  <thead>\n    <tr style=\"text-align: right;\">\n      <th></th>\n      <th>index</th>\n      <th>name</th>\n      <th>year</th>\n      <th>selling_price</th>\n      <th>km_driven</th>\n      <th>fuel</th>\n      <th>seller_type</th>\n      <th>transmission</th>\n      <th>owner</th>\n      <th>mileage</th>\n      <th>engine</th>\n      <th>max_power</th>\n      <th>seats</th>\n    </tr>\n  </thead>\n  <tbody>\n    <tr>\n      <th>0</th>\n      <td>0</td>\n      <td>1</td>\n      <td>2014</td>\n      <td>450000</td>\n      <td>145500</td>\n      <td>1</td>\n      <td>1</td>\n      <td>1</td>\n      <td>First Owner</td>\n      <td>23.40</td>\n      <td>1248.0</td>\n      <td>74.00</td>\n      <td>5.0</td>\n    </tr>\n    <tr>\n      <th>1</th>\n      <td>1</td>\n      <td>2</td>\n      <td>2014</td>\n      <td>370000</td>\n      <td>120000</td>\n      <td>1</td>\n      <td>1</td>\n      <td>1</td>\n      <td>Second Owner</td>\n      <td>21.14</td>\n      <td>1498.0</td>\n      <td>103.52</td>\n      <td>5.0</td>\n    </tr>\n    <tr>\n      <th>2</th>\n      <td>2</td>\n      <td>3</td>\n      <td>2006</td>\n      <td>158000</td>\n      <td>140000</td>\n      <td>2</td>\n      <td>1</td>\n      <td>1</td>\n      <td>Third Owner</td>\n      <td>17.70</td>\n      <td>1497.0</td>\n      <td>78.00</td>\n      <td>5.0</td>\n    </tr>\n    <tr>\n      <th>3</th>\n      <td>3</td>\n      <td>4</td>\n      <td>2010</td>\n      <td>225000</td>\n      <td>127000</td>\n      <td>1</td>\n      <td>1</td>\n      <td>1</td>\n      <td>First Owner</td>\n      <td>23.00</td>\n      <td>1396.0</td>\n      <td>90.00</td>\n      <td>5.0</td>\n    </tr>\n    <tr>\n      <th>4</th>\n      <td>4</td>\n      <td>1</td>\n      <td>2007</td>\n      <td>130000</td>\n      <td>120000</td>\n      <td>2</td>\n      <td>1</td>\n      <td>1</td>\n      <td>First Owner</td>\n      <td>16.10</td>\n      <td>1298.0</td>\n      <td>88.20</td>\n      <td>5.0</td>\n    </tr>\n    <tr>\n      <th>...</th>\n      <td>...</td>\n      <td>...</td>\n      <td>...</td>\n      <td>...</td>\n      <td>...</td>\n      <td>...</td>\n      <td>...</td>\n      <td>...</td>\n      <td>...</td>\n      <td>...</td>\n      <td>...</td>\n      <td>...</td>\n      <td>...</td>\n    </tr>\n    <tr>\n      <th>6713</th>\n      <td>8121</td>\n      <td>1</td>\n      <td>2013</td>\n      <td>260000</td>\n      <td>50000</td>\n      <td>2</td>\n      <td>1</td>\n      <td>1</td>\n      <td>Second Owner</td>\n      <td>18.90</td>\n      <td>998.0</td>\n      <td>67.10</td>\n      <td>5.0</td>\n    </tr>\n    <tr>\n      <th>6714</th>\n      <td>8122</td>\n      <td>4</td>\n      <td>2014</td>\n      <td>475000</td>\n      <td>80000</td>\n      <td>1</td>\n      <td>1</td>\n      <td>1</td>\n      <td>Second Owner</td>\n      <td>22.54</td>\n      <td>1396.0</td>\n      <td>88.73</td>\n      <td>5.0</td>\n    </tr>\n    <tr>\n      <th>6715</th>\n      <td>8123</td>\n      <td>4</td>\n      <td>2013</td>\n      <td>320000</td>\n      <td>110000</td>\n      <td>2</td>\n      <td>1</td>\n      <td>1</td>\n      <td>First Owner</td>\n      <td>18.50</td>\n      <td>1197.0</td>\n      <td>82.85</td>\n      <td>5.0</td>\n    </tr>\n    <tr>\n      <th>6716</th>\n      <td>8124</td>\n      <td>4</td>\n      <td>2007</td>\n      <td>135000</td>\n      <td>119000</td>\n      <td>1</td>\n      <td>1</td>\n      <td>1</td>\n      <td>Fourth &amp; Above Owner</td>\n      <td>16.80</td>\n      <td>1493.0</td>\n      <td>110.00</td>\n      <td>5.0</td>\n    </tr>\n    <tr>\n      <th>6717</th>\n      <td>8125</td>\n      <td>1</td>\n      <td>2009</td>\n      <td>382000</td>\n      <td>120000</td>\n      <td>1</td>\n      <td>1</td>\n      <td>1</td>\n      <td>First Owner</td>\n      <td>19.30</td>\n      <td>1248.0</td>\n      <td>73.90</td>\n      <td>5.0</td>\n    </tr>\n  </tbody>\n</table>\n<p>6718 rows × 13 columns</p>\n</div>"
     },
     "execution_count": 338,
     "metadata": {},
     "output_type": "execute_result"
    }
   ],
   "source": [
    "df"
   ]
  },
  {
   "cell_type": "code",
   "outputs": [
    {
     "data": {
      "text/plain": "(6718, 13)"
     },
     "execution_count": 339,
     "metadata": {},
     "output_type": "execute_result"
    }
   ],
   "source": [
    "df.shape"
   ],
   "metadata": {
    "collapsed": false,
    "ExecuteTime": {
     "end_time": "2024-03-29T14:44:56.510914Z",
     "start_time": "2024-03-29T14:44:56.501343Z"
    }
   },
   "id": "33f322a2e0141025",
   "execution_count": 339
  },
  {
   "cell_type": "code",
   "execution_count": 340,
   "id": "ddea6f5f-1ac8-4bd6-b190-571d2c338de4",
   "metadata": {
    "ExecuteTime": {
     "end_time": "2024-03-29T14:44:56.523701Z",
     "start_time": "2024-03-29T14:44:56.514478Z"
    }
   },
   "outputs": [
    {
     "data": {
      "text/plain": "array(['First Owner', 'Second Owner', 'Third Owner',\n       'Fourth & Above Owner', 'Test Drive Car'], dtype=object)"
     },
     "execution_count": 340,
     "metadata": {},
     "output_type": "execute_result"
    }
   ],
   "source": [
    "df['owner'].unique()"
   ]
  },
  {
   "cell_type": "code",
   "execution_count": 341,
   "id": "fdf49138-5e73-48ce-81a9-da4856cbaa40",
   "metadata": {
    "ExecuteTime": {
     "end_time": "2024-03-29T14:44:56.539219Z",
     "start_time": "2024-03-29T14:44:56.526086Z"
    }
   },
   "outputs": [],
   "source": [
    "df['owner'].replace(['First Owner', 'Second Owner', 'Third Owner',\n",
    "       'Fourth & Above Owner', 'Test Drive Car'],\n",
    "                    [1,2,3,4,5], inplace=True)"
   ]
  },
  {
   "cell_type": "code",
   "execution_count": 342,
   "id": "10c094cc-3f25-4130-9152-d25fd8badbc2",
   "metadata": {
    "ExecuteTime": {
     "end_time": "2024-03-29T14:44:56.550521Z",
     "start_time": "2024-03-29T14:44:56.541834Z"
    }
   },
   "outputs": [],
   "source": [
    "df.drop(columns=['index'], inplace=True)"
   ]
  },
  {
   "cell_type": "code",
   "execution_count": 343,
   "id": "7c180ea5-3de1-488a-9af6-3ee43a72513f",
   "metadata": {
    "ExecuteTime": {
     "end_time": "2024-03-29T14:44:56.648867Z",
     "start_time": "2024-03-29T14:44:56.625553Z"
    }
   },
   "outputs": [
    {
     "name": "stdout",
     "output_type": "stream",
     "text": [
      "------------\n",
      "name\n",
      "[ 1  2  3  4  5  6  7  8  9 10 11 12 13 14 15 16 17 18 19 20 21 22 23 24\n",
      " 25 26 27 28 29 30 31]\n",
      "------------\n",
      "year\n",
      "[2014 2006 2010 2007 2017 2001 2011 2013 2005 2009 2016 2012 2002 2015\n",
      " 2018 2019 2008 2020 1999 2000 2003 2004 1994 1998 1997 1995 1996]\n",
      "------------\n",
      "selling_price\n",
      "[  450000   370000   158000   225000   130000   440000    96000    45000\n",
      "   350000   200000   500000    92000   280000   180000   400000   778000\n",
      "   150000   680000   174000   950000   525000   600000   575000   275000\n",
      "   300000   220000   254999   670000   730000   650000   330000   366000\n",
      "  1149000   425000  2100000   925000   675000   819999   390000  1500000\n",
      "   700000  1450000  1090000   850000  1650000  1750000  1590000  1689999\n",
      "  1425000   265000   190000   630000   540000   448000   745000  1025000\n",
      "   235000  1700000  1200000   610000  2500000   484999   315000   290000\n",
      "   455000   351000   535000   175000   565000   120000   725000   185000\n",
      "   615000   270000   625000   866000   375000   522000   451999   475000\n",
      "   780000   595000  1140000   360000   105000   135000   690000  3975000\n",
      "  5150000  3200000  4100000  4500000  6000000  3790000  5800000  1864999\n",
      "  2700000   795000  3400000  2650000  5850000   975000   805000  2625000\n",
      "   811000   550000   645000  2550000   599000   875000   894999   340000\n",
      "  1525000  2150000  1900000  2900000 10000000   160000   515000    40000\n",
      "   480000   487000   386000   100000   490000   345000    85000   215000\n",
      "   320000   459999    65000   720000   800000   520000   580000   420000\n",
      "  1250000   830000   335000   329000   775000   524000   245000   910000\n",
      "   900000   250000  1100000   640000   409999   165000    80000  1000000\n",
      "   110000   170000  1380000  1300000   530000   310000  1150000   380000\n",
      "   404000   114999   465000   210000  4600000   509999    90000   409000\n",
      "   395000    81000   555000   229999  1210000   325000    60000    89000\n",
      "   434999  3000000   570000  1550000    64000   140000   503000  3800000\n",
      "  2000000   740000   750000  5400000  5500000   779000  2475000   240000\n",
      "  1085000    95000  1290000   219000   260000   840000   292000   385000\n",
      "  1050000   735000   560000   585000   760000   430000   643000   285000\n",
      "   660000   268000    88000   561000   755000   125000  1600000   801000\n",
      "   317000   495000   236000  1800000   415000   217000   466000   605000\n",
      "  1350000   337000   655000   196000   299000   634000  1225000   238000\n",
      "   590000   195000   715000   168000   531000  1625000   145000   441000\n",
      "    67500   321000   298000  1075000   681000   810000   573000   101000\n",
      "  1019999   244000  1165000   241000   327000   620000   204999   576000\n",
      "   695000   231000   261000   371000   421000   710000  1040000   199000\n",
      "   305000  1745000   611000    75000    55000  1325000   885000   108000\n",
      "   272000  1125000   388000   757000   626000   793000  3750000  1400000\n",
      "  1925000   844999  2940000  1825000   890000   770000   467000   711000\n",
      "   511000   166000   392000   833000    35000   880000  1030000   521000\n",
      "   451000   472000   649000   429000  1576000   825000   470000  1560000\n",
      "  1950000   786000   731000   191000   651000   445000    93150   403000\n",
      "   144000    52000   302000   869999   155000   246000   405000    70000\n",
      "  3250000  1143000   635000  1575000   318000   152000   248000  1465000\n",
      "  1080000   678000  1460000   756000   665000  2950000   377000  1675000\n",
      "   169000   685000   749000   899000   259000   416000   773000   889000\n",
      "   118000   256000  1888000    99000  2280000    31504   295000   444000\n",
      "   860000  2450000   198000  2825000  2125000  3350000   365000   919999\n",
      "  2600000   839000  1594000   161000   423000   551000    50000   411000\n",
      "  1530000   376000  1850000    86000   822000    30000   252000   131000\n",
      "   128000   790000   604000  1175000   141000   151000   577000    83000\n",
      "   946000   356000   955000   978999   348000   399000   362000   499000\n",
      "   358000   278000   426000   211000  1270000   426999   960000  1031000\n",
      "    72000   479000   764000  2199000  3600000   184000   119000   267000\n",
      "   328000   112999    39000  2850000  2800000  3900000   221000   631000\n",
      "   308000   940000   361000   355000  7200000   930000  1670000   980000\n",
      "   486000   242000   654000   835000   408000    94500  1110000   438999\n",
      "   911999   693000   449000  1390000   698000   539000   765000   562000\n",
      "   571000   589000   227999  1151000  1295000  4090000   347000   493000\n",
      "   545000  1475000   287000  1630000   501000   181000  2711000  1035000\n",
      "   316000   813000  1190000   378000   156000   194000   754000    55599\n",
      "  1511000    78000   250999   312000    66000   369000   149000   752000\n",
      "   142000   111000   206000   567000   699000   632000   905000  1145000\n",
      "    58000   179000  1515000   178000   222000   387000  1405000   282000\n",
      "   458000   157000   497000  1227000   574000   121000  3100000    68000\n",
      "  1920000   808000   512000   671000   799000  1365000  1490000    80500\n",
      "   189000   892000    93000  1680000   667000   204000    42000   694000\n",
      "   861999   476999  5200000  2375000  2750000  1385000   785000  1275000\n",
      "  1748999   132000    33351  2064000   469000   906000   797000  6223000\n",
      "  5923000  6523000   122000   891000   346000   532000   974000   483000\n",
      "   138000   432000  1757000   412000   126000   736000   579000   187000\n",
      "  4000000  1898999   482000   401000   737000   291000   999000   957000\n",
      "   834000   297000   669000   616000   129000   115999   861000  3251000\n",
      "   911000   148000   433000   488000    67000   516000   136000    29999\n",
      "   124000  1938000   172000    59000  3500000   537000   849000   851000\n",
      "   597000   741000   556000   549000   679000   969999  1237000    31000\n",
      "   666000    54000   374000   455999   453000   258000   428000   262000\n",
      "   389000   339000   277000   578000   684000   949000   227000  5830000\n",
      "   721000   751000  2400000   990000  1282000  1147000   558000   722000\n",
      "   563000  2300000  2200000   488999   276000   434000   372000  1520000\n",
      "   202999   541000   254000   528000   102000   311000   977000  1251000\n",
      "  1445000    98000    59259   153000  1051000   591000   319000   454000\n",
      "  1160000  3300000   791000   802999  1789999  1044999   279000   944999\n",
      "  1859000  2175000   430999   803999   934000   357000   965000   341000\n",
      "    75527  1132000   352000   252999   313000   391000  2051000   212000\n",
      "  2575000  1516000   359000   209000  1220000  1180000    45957  1265000\n",
      "   382000   526000    90177    46000   307000   746000]\n",
      "------------\n",
      "km_driven\n",
      "[ 145500  120000  140000  127000   45000  175000    5000   90000  169000\n",
      "   68000  100000   40000   70000   53000   80000   50000   72000   35000\n",
      "   28000   25000    2388   16200   10000   15000   42000   60000   76000\n",
      "   28900   86300   23300   32600   10300   77000   99000   27800   49800\n",
      "  151000   54700   64000   63000  127700   33900   59000  110000  147000\n",
      "   30000  135000    9850   78000  170000   49000   32000   38000   44000\n",
      "   12000   55500   61500  150000   37800  114000   48000   69000   13000\n",
      "   76139   65000    1303   31800   20000   17000   21000   37000   29500\n",
      "    7500   19000   41000   39000   22000   47000   72200   49900    9000\n",
      "   11000   95000   18000   46100   16000    9654   24300   42163    8000\n",
      "   71000    9500   36600   14000  120600   86000    7800   31377   75000\n",
      "   93000  125000   13500  162500   92500  158000    2000  181000  193000\n",
      "  122358   95200   33033   63063  207890    7976   16500   99361   33000\n",
      "   80100  160000   26000   29000   58000   36000  185000  162000   67000\n",
      "   52000   68089   58343   38817   56494   79328    5621   25538   69779\n",
      "   56290    8500    7032  106000  240000  214000    1000  265000  134000\n",
      "    2136  250000  130000   99500  119000   44665  123000   34000  146000\n",
      "   85000  201850   46000  190000   43000   14200   19100   54000  101500\n",
      "   55735    1500  181491   53319   40906   31711   43755   66693   59549\n",
      "   94385   73730  221889  116104  150546  148120  142000  126000   24000\n",
      "  101000  168000  165000   98500   98000   77800   51492  136000   91000\n",
      "  167000  180000    6000   91500  132478   51000  105000  137500   88000\n",
      "  156060  107000   57000  300000  200000   18945  144000  107825    1620\n",
      "  141000  108000   55000   37944   90400   96000  193623   63186  219000\n",
      "   23000   94000  140500  143000  195000  360003    8079  114368   79990\n",
      "   81632  155201  101504   90165   86017   85036  125531  206000   49700\n",
      "   74000    6550   56000   41779   31000   13534    7000   28156   63309\n",
      "  155000   11500    3000  157000   27000   26300   89100  104000  210000\n",
      "  216000   84000  161000   72113  113000   96443   51500  104500   49102\n",
      "   81000  227000  117000    8576   19723   21446   52289   52236   54470\n",
      "   25471   33928   59736   54290    2118   61379   58544   74381   63982\n",
      "   56429   19500   56832   30528   65285   20102   52380   74250   57247\n",
      "  178000   42323   42462   54723   42545   20375   43978   40200   27233\n",
      "   28832  103000  142500  115000   35500   17500   92000    4500   83000\n",
      "    6750   18500   50478    9200    2300    4295    5229    4701    6757\n",
      "   28182   11533   11688   57728   23712   70670   43381   79011   58500\n",
      "   43500   12700   49455   46815  334000  100875  118000  128000  144030\n",
      "  176000   89000   97000   12800   65100   15200   82000  116500  145000\n",
      "   73000  113226  160500  132000  217000  139000    3500   62000 1500000\n",
      "  120005   16830   93468   16589   53201   25272   53619    6001  202000\n",
      "   71717   84321  177000  205000   41800   88700  188000  225000    5500\n",
      "    4875    2700   58511   26235   26766    1600   24522   13663   58945\n",
      "  375000  156975   27620  143200  138000  189000  156000   10800   67500\n",
      "  255000   71850  112000  159000   76131   51777   64788   46951   74537\n",
      "   23500   68600   13887   66000   24400   27500   67840  380000  112880\n",
      "   61915  184000    6200   16700    7967    9656   68609   33360   14317\n",
      "   87237   62960   26634  163720   67998   20706  100581   67303   79139\n",
      "   84784  130376   33500   22053   78432  270000    7200  117500   78500\n",
      "  115717    4000   26432   46702   46706   53523   56365   49563   56432\n",
      "   52365   53512   46533   58632   65300   39395  230000   32500   64800\n",
      "  248000   66444  218463  153000   87185  137000    3564   48756   80322\n",
      "  173000  148000    6500  220000  108957   22200  260000   42108   79000\n",
      "   17100   43001  100600   92385  116000   72500   82500   50600  121000\n",
      "  101903   85568    3100  186000   59300   89322   48300   23511   22512\n",
      "   62900   52442   34156   34152   62841   38600   27654   48698   32995\n",
      "   90150   85700   25339   41232   68240   92651   88754   23700   69500\n",
      "   28050   22947    7672   36659   44500    9900  124316    6544   49600\n",
      "  198000  103994   35008   31100   42312   54891   18890   75010    4337\n",
      "   14495   83585   48406   56239   33243   15858   87847   87000  112072\n",
      "   52269   15780 2360457  108800   12500  577414  121941  152186   82246\n",
      "   89580    2789   35278    2860   78562   36088  129000  500000  133000\n",
      "   64500   24500   45500   71500   93500   60300   44391   56315   15151\n",
      "  114321   37333  330000  291000   21500  197000   40300   30030   29029\n",
      "   72072   82082   80600   58609   33003  165500    5800   68700  102996\n",
      "   96500   52412   85472   87452   66530   32331  172000   23456  136500\n",
      "  111000   42500   47200  246000    5200   10500   93331  109000    5400\n",
      "  102000   29700    7600   29340   80800   24265   56900   88200   40800\n",
      "    8588  305000  212000  101200  179150   84487  264000   51146  298000\n",
      "  149000  291977   36800   52200  248200    7720   57882  242000   55380\n",
      "   18816   33019   47747   45900   68697  147279   24700   43526   55885\n",
      "   16034  156040   93415  122000   68519   22966    2350   59872   91182\n",
      "   59500   75500  152500   69123   77524   40523   23600  290000   24177\n",
      "  121779   15381   74800  109322  475000   61000   80500   65755    2600\n",
      "   15500   50700  440000  152000  200400    7300    9750  157138  285000\n",
      "  127991   13120   87500   62200   87540  231438  239451  154000  426000\n",
      "  182000  215000   77300   61260   17601    4773   57900    8600   78010\n",
      "   83844   23999   91400  178500   66953  166000  131000  100750   48676\n",
      "   79500  200185   49025   76460   47370   45217  222300   44600   28080\n",
      "   28800   21900   28100    7673   96272   22500    7400  370000  150360\n",
      "   42130  147500   56194   54188   54043   66657   35582   54327    7949\n",
      "   59734   49185   56389   58245   36422   42535   40736   56246   55403\n",
      "  105358   49200   81500    3177   39414   30078   44588   49907   67082\n",
      "  112879   10200    1300  175802  192000   73840  320000   24857   26442\n",
      "   50800   40142    9400   12584    4300   14548   44772   48500   28782\n",
      "   28451   36500   44885  131111   58400   23400    3010  163000   77088\n",
      "  136511   36710   28180   44077   55768  123278   26500   18484    2560\n",
      "  103655   56975  187000  218000   73257   26320   38426  116700  176062\n",
      "   77500   39500   55896   30400  164000  271000   75262   91863   47552\n",
      "   14700   19700  145241   95500   53473   75958   31596   85710  129627\n",
      "   55130   22522   51856   29434   34500    6825  112011   53534  248119\n",
      "   24019   19600  376412  183000  108916   59865   68140   53190   70100\n",
      "   47725   70195   77395   74321   80235   77150   61100   82300   82050\n",
      "   29899   59235  201000   77215   48228   58559   50856   18300   59292\n",
      "   21147   61173   91567   33400   92686   67600   49500  112048   30646\n",
      "   43011  104300   73500  280000   35700   22700   21871   55425   37659\n",
      "   37500   19800   45629   68850   45775   68203   97343   82507   59400\n",
      "  125876   56800   65204    2286   15732   49523   36521   64481   49060\n",
      "   37161   60175   49957   43235   50699       1   50074   30154   26263\n",
      "   84925   46357   46737  110048  186388   20171   37151   58161   50171\n",
      "   55161    9599   16151   28161   80868  194000  191000]\n",
      "------------\n",
      "fuel\n",
      "[1 2 3 4]\n",
      "------------\n",
      "seller_type\n",
      "[1 2 3]\n",
      "------------\n",
      "transmission\n",
      "[1 2]\n",
      "------------\n",
      "owner\n",
      "[1 2 3 4 5]\n",
      "------------\n",
      "mileage\n",
      "[23.4  21.14 17.7  23.   16.1  20.14 17.3  23.59 20.   19.01 19.3  18.9\n",
      " 18.15 24.52 19.7  22.54 21.   25.5  26.59 21.5  20.3  21.4  24.7  18.2\n",
      " 16.8  24.3  14.   18.6  33.44 23.95 17.   20.63 13.93 16.   17.8  18.5\n",
      " 12.55 12.99 14.8  13.5  26.   20.65 27.3  11.36 17.68 14.28 18.53 14.84\n",
      " 21.12 20.36 21.27 18.16 22.   25.1  20.51 21.66 25.2  22.9  16.02 20.54\n",
      " 22.77 15.71 23.1  19.02 19.81 26.2  16.47 15.04 19.1  21.79 18.8  21.21\n",
      " 15.37 11.79 19.   14.3  15.8  15.1  19.09 22.32 21.9  14.53 21.63 20.85\n",
      " 20.45 19.67 23.01 20.77 17.92 17.01 22.37 19.33  9.5  12.83 22.48 16.78\n",
      " 14.67 15.   13.96 18.   12.07 26.21 10.8  16.3  13.6  14.74 15.6  19.56\n",
      " 22.69 19.16 18.12 12.1  17.5  42.   20.4  21.1  19.44 13.   21.43 22.95\n",
      " 16.2  15.3  28.09 17.4  19.4  26.6  17.6  28.4  14.1  25.17 22.74 17.57\n",
      " 16.95 19.49 17.21 13.2  14.2  26.8  25.4  11.5  27.28 17.97 12.8  16.55\n",
      " 12.05 14.07 21.02 11.57 17.9  15.96 17.1  17.19 21.01 24.   25.6  21.38\n",
      " 23.84 23.08 14.24 20.71 15.64 14.5  16.34 27.39 11.1  13.9  20.88 20.92\n",
      " 23.8  24.4  15.29 21.19 22.5  19.6  23.65 25.32 23.5  16.6  23.9  20.8\n",
      " 27.62 12.9  25.44 17.88 22.7  17.2  15.42 19.68 18.7  15.4  19.34 22.71\n",
      " 25.8  13.7  12.2  18.49  9.    0.   13.58 10.1  20.5  25.   10.5  22.07\n",
      " 22.3  15.26 20.62 27.4  23.2  14.4  18.4  30.46 14.02 11.   20.6  22.05\n",
      " 20.2  18.1  22.1  19.87 13.01 18.06 26.1  16.52 13.55 24.2  25.83 11.2\n",
      " 17.09 21.03 17.45 21.64 21.94 13.87 19.98 20.52 23.57 11.7  17.43 18.88\n",
      " 13.68 11.18 20.89 11.8  19.62 21.7  14.9  19.5  10.91 15.7  20.73 15.85\n",
      " 20.7  14.23 16.5  17.36 12.6  16.36 14.95 16.9  19.2  16.96 22.15 18.78\n",
      " 19.61 17.71 18.3  19.12 19.72 12.   11.4  23.03 11.07 15.9  17.67 20.46\n",
      " 13.1  13.45 24.8  15.73 15.11 12.7  21.2  20.38 21.56 13.22 14.49 15.05\n",
      " 23.26 15.41 13.8  22.27 32.52 14.66 12.12 16.84 14.09 14.7  13.4  15.5\n",
      " 13.49 11.88 14.6  10.75 24.5  11.74 16.07 15.63 26.3  23.7  25.47 17.05\n",
      " 23.3  11.9  13.38 20.86 10.9  18.25 15.2  20.37 21.8  11.96 24.04 19.69\n",
      " 13.73 21.04 25.01 10.93 24.29 13.44 20.07 19.08 20.34 11.68 12.5  12.3\n",
      " 23.87 16.38 17.42 10.   18.24 10.71 19.59 16.7  19.83 21.76 16.05 20.28\n",
      " 16.25 16.73 18.48 14.99 18.76 16.4  19.64 14.94 17.11 22.8  32.26 33.\n",
      " 12.4  18.44 16.09 12.62 21.13 15.17 21.73 21.72 12.85 14.81 13.24 21.49\n",
      " 14.62 26.83 11.45 12.08 15.74 11.3  14.21 11.72 16.51]\n",
      "------------\n",
      "engine\n",
      "[1248. 1498. 1497. 1396. 1298. 1197. 1061.  796. 1364. 1399. 1461.  993.\n",
      " 1198. 1199.  998. 1591. 2179. 1368. 2982. 2494. 2143. 2477. 1462. 2755.\n",
      " 1968. 1798. 1196. 1373. 1598. 1998. 1086. 1194. 1172. 1405. 1582.  999.\n",
      " 2487. 1999. 3604. 2987. 1995. 1451. 1969. 2967. 2497. 1797. 1991. 2362.\n",
      " 1493. 1599. 1341. 1794.  799. 1193. 2696. 1495. 1186. 1047. 2498. 2956.\n",
      " 2523. 1120.  624. 1496. 1984. 2354.  814.  793. 1799.  936. 1956. 1997.\n",
      " 1499. 1948. 2997. 2489. 2499. 2609. 2953. 1150. 1994. 1388. 1527. 2199.\n",
      "  995. 2993. 1586. 1390.  909. 2393. 3198. 1339. 2835. 2092. 1595. 2496.\n",
      " 1596. 1597. 2596. 2148. 1299. 1590. 2231. 2694. 2200. 1795. 1896. 1796.\n",
      " 1422. 1489. 2359. 2197. 2999. 1781. 2650. 1343. 2446. 3498. 2198. 2776.\n",
      " 1950.]\n",
      "------------\n",
      "max_power\n",
      "[ 74.    103.52   78.     90.     88.2    81.86   57.5    37.     67.1\n",
      "  68.1   108.45   60.     73.9    67.     82.     88.5    46.3    88.73\n",
      "  64.1    98.6    88.8    83.81   83.1    47.3    73.8    34.2    35.\n",
      "  81.83   40.3   121.3   138.03  160.77  117.3   116.3    83.14   67.05\n",
      " 168.5   100.    120.7    98.63  175.56  103.25  171.5   100.6   174.33\n",
      " 187.74  170.     78.9    88.76   86.8   108.495 108.62   93.7   103.6\n",
      "  98.59  189.     67.04   68.05   58.2    82.85   81.8    73.    120.\n",
      "  94.68  160.     65.    155.     69.01  126.32  138.1    83.8   126.2\n",
      "  98.96   62.1    86.7   188.    214.56  177.    280.    148.31  254.79\n",
      " 190.    177.46  204.    141.    117.6   241.4   282.    150.    147.5\n",
      " 108.5   103.5   183.    181.04  157.7   164.7    91.1   400.     68.\n",
      "  75.     85.8    87.2    53.    118.    103.2    83.     84.     58.16\n",
      " 147.94   74.02   53.3    80.     88.7    97.7   121.36  162.    140.\n",
      "  94.    100.57   82.9    83.11   70.    153.86  121.    126.3    73.97\n",
      " 171.     69.     99.6   102.    105.     63.     79.4    97.9    63.1\n",
      "  66.1   110.    174.5    53.26   73.75   67.06   64.08   37.5   189.3\n",
      " 158.8    61.7    55.2    71.01   73.74  147.9    71.     77.    121.4\n",
      " 113.4    47.    130.     57.6   138.     52.8    53.64   53.5    76.8\n",
      "  82.4   113.42   76.     84.8    56.3   218.    112.     92.    105.5\n",
      " 169.     95.     72.4   115.    152.     91.2   156.     74.9    62.\n",
      " 105.3    73.94   85.    118.3    72.    147.51   58.     64.    126.24\n",
      "  76.9   194.3    99.23   89.84  123.7   118.35   99.    241.    136.\n",
      " 261.4   104.68   37.48  104.     63.12   91.7   102.5   177.6    45.\n",
      " 123.37  147.8   184.     84.48   68.07   74.96  167.6   152.87  112.2\n",
      "  83.83  197.    110.4   104.55  103.    103.3    66.    108.6   165.\n",
      " 163.7   116.9    94.93  127.    198.5   179.5   120.69  121.31  138.08\n",
      " 187.7    80.8    86.79   93.87  116.6   143.     92.7    88.     58.33\n",
      "  78.8    64.4   125.    139.01  254.8   181.    258.     55.23  270.9\n",
      " 265.    157.75  101.    186.    187.4   224.     64.9   148.     35.5\n",
      "  89.75   32.8    91.72  106.     98.97   66.6    86.     65.3    98.82\n",
      " 198.25   38.    142.    132.    174.57  178.    163.2   203.2   177.5\n",
      " 175.     57.     80.84   68.4   167.67  170.63   52.    149.5    48.21\n",
      "   0.    201.1   100.5   144.    194.4   168.7   104.5   103.26  116.4\n",
      "  98.79   80.9    58.3   272.    235.    167.62  170.3   139.46  158.\n",
      " 110.5    82.5   141.1    38.4   197.2   161.    194.    122.4   134.1\n",
      "  60.2   134.    203.    135.1  ]\n",
      "------------\n",
      "seats\n",
      "[ 5.  4.  7.  8.  6.  9. 10. 14.  2.]\n"
     ]
    }
   ],
   "source": [
    "for col in df.columns:\n",
    "    print('------------')\n",
    "    print(col)\n",
    "    print(df[col].unique())"
   ]
  },
  {
   "cell_type": "code",
   "execution_count": 344,
   "id": "692e2db0-62bd-4c2c-9d48-843ef3bd6d13",
   "metadata": {
    "ExecuteTime": {
     "end_time": "2024-03-29T14:44:56.713188Z",
     "start_time": "2024-03-29T14:44:56.700112Z"
    }
   },
   "outputs": [
    {
     "data": {
      "text/plain": "name             0\nyear             0\nselling_price    0\nkm_driven        0\nfuel             0\nseller_type      0\ntransmission     0\nowner            0\nmileage          0\nengine           0\nmax_power        0\nseats            0\ndtype: int64"
     },
     "execution_count": 344,
     "metadata": {},
     "output_type": "execute_result"
    }
   ],
   "source": [
    "df.isnull().sum()"
   ]
  },
  {
   "cell_type": "code",
   "execution_count": 345,
   "id": "30a6958e-ec21-4591-aa7b-70940ee65902",
   "metadata": {
    "ExecuteTime": {
     "end_time": "2024-03-29T14:44:57.269727Z",
     "start_time": "2024-03-29T14:44:57.261002Z"
    }
   },
   "outputs": [],
   "source": [
    "input_data = df.drop(columns=['selling_price'])\n",
    "output_data =df['selling_price']"
   ]
  },
  {
   "cell_type": "code",
   "outputs": [
    {
     "data": {
      "text/plain": "0       450000\n1       370000\n2       158000\n3       225000\n4       130000\n         ...  \n6713    260000\n6714    475000\n6715    320000\n6716    135000\n6717    382000\nName: selling_price, Length: 6718, dtype: int64"
     },
     "execution_count": 346,
     "metadata": {},
     "output_type": "execute_result"
    }
   ],
   "source": [
    "output_data"
   ],
   "metadata": {
    "collapsed": false,
    "ExecuteTime": {
     "end_time": "2024-03-29T14:44:57.447646Z",
     "start_time": "2024-03-29T14:44:57.437058Z"
    }
   },
   "id": "1a106e0f6d9a155a",
   "execution_count": 346
  },
  {
   "cell_type": "code",
   "outputs": [],
   "source": [
    "import seaborn as sns\n",
    "import matplotlib.pyplot as plt\n",
    "import streamlit as st\n",
    "\n",
    "# Calcul du prix moyen par année de fabrication\n",
    "avg_price_by_year = df.groupby('year')['selling_price'].mean()\n",
    "\n",
    "plt.figure(figsize=(12, 8))\n",
    "avg_price_by_year.plot(kind='line', marker='o', color='royalblue', linewidth=2)\n",
    "\n",
    "plt.title('Prix moyen par année de fabrication', fontsize=18, color='navy', fontweight='bold')\n",
    "plt.xlabel('Année de fabrication', fontsize=14, color='navy')\n",
    "plt.ylabel('Prix moyen (en €)', fontsize=14, color='navy')\n",
    "\n",
    "plt.xticks(fontsize=12, color='navy')\n",
    "plt.yticks(fontsize=12, color='navy')\n",
    "\n",
    "plt.grid(True, linestyle='--', alpha=0.5)\n",
    "\n",
    "plt.tight_layout()\n",
    "plt.show()\n"
   ],
   "metadata": {
    "collapsed": false,
    "ExecuteTime": {
     "end_time": "2024-03-29T14:44:58.231028Z",
     "start_time": "2024-03-29T14:44:58.230958Z"
    }
   },
   "id": "759f9c0a6998b1c9",
   "execution_count": null
  },
  {
   "cell_type": "code",
   "outputs": [],
   "source": [
    "from turtle import st  # Afficher les graphiques\n",
    "import matplotlib.pyplot as plt\n",
    "import seaborn as sns\n",
    "\n",
    "plt.figure(figsize=(10, 6))\n",
    "plt.hist(df['selling_price'], bins=20, color='skyblue', edgecolor='black')  # Histogramme principal\n",
    "plt.xlabel('Prix de vente')\n",
    "plt.ylabel('Fréquence')\n",
    "plt.title('Distribution des prix de vente des voitures')\n",
    "\n",
    "# Ajout de couleurs pour les barres de l'histogramme\n",
    "colors = ['lightblue', 'lightgreen', 'lightcoral', 'lightsalmon', 'lightpink', \n",
    "          'lightsteelblue', 'lightseagreen', 'lightgrey', 'lightcyan', 'lightyellow',\n",
    "          'lightgoldenrodyellow', 'lightblue', 'lightgreen', 'lightcoral', 'lightsalmon',\n",
    "          'lightpink', 'lightsteelblue', 'lightseagreen', 'lightgrey', 'lightcyan']\n",
    "\n",
    "for i, patch in enumerate(plt.gca().patches):\n",
    "    patch.set_facecolor(colors[i % len(colors)])\n",
    "\n",
    "plt.show()\n"
   ],
   "metadata": {
    "collapsed": false,
    "ExecuteTime": {
     "start_time": "2024-03-29T14:44:58.233652Z"
    }
   },
   "id": "f7eb3677679c2315",
   "execution_count": null
  },
  {
   "cell_type": "code",
   "outputs": [],
   "source": [
    "plt.figure(figsize=(10, 6))\n",
    "sns.boxplot(x='fuel', y='selling_price', data=df, hue='fuel', palette=palette, dodge=False, legend=False)\n",
    "\n",
    "plt.xlabel('Type de carburant')\n",
    "plt.ylabel('Prix de vente')\n",
    "plt.title('Répartition des prix de vente par type de carburant')\n",
    "plt.show()\n"
   ],
   "metadata": {
    "collapsed": false
   },
   "id": "f5d96a282f310318",
   "execution_count": null
  },
  {
   "cell_type": "code",
   "execution_count": 352,
   "id": "00029783-7276-4690-8591-976f7a91439e",
   "metadata": {
    "ExecuteTime": {
     "end_time": "2024-03-29T14:45:00.855089Z",
     "start_time": "2024-03-29T14:45:00.777936Z"
    }
   },
   "outputs": [],
   "source": [
    "x_train, x_test, y_train, y_test = train_test_split(input_data, output_data, test_size=0.2) "
   ]
  },
  {
   "cell_type": "code",
   "outputs": [
    {
     "data": {
      "text/plain": "3431     550000\n3492    2100000\n423     1050000\n2977     650000\n3895     500000\n         ...   \n2097     450000\n1156     472000\n2196    1125000\n4850     551000\n2311     960000\nName: selling_price, Length: 5374, dtype: int64"
     },
     "execution_count": 353,
     "metadata": {},
     "output_type": "execute_result"
    }
   ],
   "source": [
    "y_train"
   ],
   "metadata": {
    "collapsed": false,
    "ExecuteTime": {
     "end_time": "2024-03-29T14:45:00.867838Z",
     "start_time": "2024-03-29T14:45:00.857504Z"
    }
   },
   "id": "878cdf52e2f146ec",
   "execution_count": 353
  },
  {
   "cell_type": "code",
   "execution_count": 354,
   "id": "2839c4e9-2cc7-4f30-a720-fb78c483d817",
   "metadata": {
    "ExecuteTime": {
     "end_time": "2024-03-29T14:45:00.875940Z",
     "start_time": "2024-03-29T14:45:00.870520Z"
    }
   },
   "outputs": [],
   "source": [
    "#model Creation"
   ]
  },
  {
   "cell_type": "code",
   "execution_count": 355,
   "id": "65eabbf0-9093-4f20-91cb-01a922a01eb4",
   "metadata": {
    "ExecuteTime": {
     "end_time": "2024-03-29T14:45:00.885555Z",
     "start_time": "2024-03-29T14:45:00.878456Z"
    }
   },
   "outputs": [],
   "source": [
    "model = LinearRegression()"
   ]
  },
  {
   "cell_type": "code",
   "execution_count": 356,
   "id": "bbac90ef-12ee-4068-ab30-4203f208150a",
   "metadata": {
    "ExecuteTime": {
     "end_time": "2024-03-29T14:45:00.895033Z",
     "start_time": "2024-03-29T14:45:00.889178Z"
    }
   },
   "outputs": [],
   "source": [
    "#Train MOdel"
   ]
  },
  {
   "cell_type": "code",
   "execution_count": 357,
   "id": "c2f10200-383c-4052-ac9f-f5ab8bf6d8da",
   "metadata": {
    "ExecuteTime": {
     "end_time": "2024-03-29T14:45:00.917201Z",
     "start_time": "2024-03-29T14:45:00.899711Z"
    }
   },
   "outputs": [
    {
     "data": {
      "text/plain": "LinearRegression()",
      "text/html": "<style>#sk-container-id-2 {\n  /* Definition of color scheme common for light and dark mode */\n  --sklearn-color-text: black;\n  --sklearn-color-line: gray;\n  /* Definition of color scheme for unfitted estimators */\n  --sklearn-color-unfitted-level-0: #fff5e6;\n  --sklearn-color-unfitted-level-1: #f6e4d2;\n  --sklearn-color-unfitted-level-2: #ffe0b3;\n  --sklearn-color-unfitted-level-3: chocolate;\n  /* Definition of color scheme for fitted estimators */\n  --sklearn-color-fitted-level-0: #f0f8ff;\n  --sklearn-color-fitted-level-1: #d4ebff;\n  --sklearn-color-fitted-level-2: #b3dbfd;\n  --sklearn-color-fitted-level-3: cornflowerblue;\n\n  /* Specific color for light theme */\n  --sklearn-color-text-on-default-background: var(--sg-text-color, var(--theme-code-foreground, var(--jp-content-font-color1, black)));\n  --sklearn-color-background: var(--sg-background-color, var(--theme-background, var(--jp-layout-color0, white)));\n  --sklearn-color-border-box: var(--sg-text-color, var(--theme-code-foreground, var(--jp-content-font-color1, black)));\n  --sklearn-color-icon: #696969;\n\n  @media (prefers-color-scheme: dark) {\n    /* Redefinition of color scheme for dark theme */\n    --sklearn-color-text-on-default-background: var(--sg-text-color, var(--theme-code-foreground, var(--jp-content-font-color1, white)));\n    --sklearn-color-background: var(--sg-background-color, var(--theme-background, var(--jp-layout-color0, #111)));\n    --sklearn-color-border-box: var(--sg-text-color, var(--theme-code-foreground, var(--jp-content-font-color1, white)));\n    --sklearn-color-icon: #878787;\n  }\n}\n\n#sk-container-id-2 {\n  color: var(--sklearn-color-text);\n}\n\n#sk-container-id-2 pre {\n  padding: 0;\n}\n\n#sk-container-id-2 input.sk-hidden--visually {\n  border: 0;\n  clip: rect(1px 1px 1px 1px);\n  clip: rect(1px, 1px, 1px, 1px);\n  height: 1px;\n  margin: -1px;\n  overflow: hidden;\n  padding: 0;\n  position: absolute;\n  width: 1px;\n}\n\n#sk-container-id-2 div.sk-dashed-wrapped {\n  border: 1px dashed var(--sklearn-color-line);\n  margin: 0 0.4em 0.5em 0.4em;\n  box-sizing: border-box;\n  padding-bottom: 0.4em;\n  background-color: var(--sklearn-color-background);\n}\n\n#sk-container-id-2 div.sk-container {\n  /* jupyter's `normalize.less` sets `[hidden] { display: none; }`\n     but bootstrap.min.css set `[hidden] { display: none !important; }`\n     so we also need the `!important` here to be able to override the\n     default hidden behavior on the sphinx rendered scikit-learn.org.\n     See: https://github.com/scikit-learn/scikit-learn/issues/21755 */\n  display: inline-block !important;\n  position: relative;\n}\n\n#sk-container-id-2 div.sk-text-repr-fallback {\n  display: none;\n}\n\ndiv.sk-parallel-item,\ndiv.sk-serial,\ndiv.sk-item {\n  /* draw centered vertical line to link estimators */\n  background-image: linear-gradient(var(--sklearn-color-text-on-default-background), var(--sklearn-color-text-on-default-background));\n  background-size: 2px 100%;\n  background-repeat: no-repeat;\n  background-position: center center;\n}\n\n/* Parallel-specific style estimator block */\n\n#sk-container-id-2 div.sk-parallel-item::after {\n  content: \"\";\n  width: 100%;\n  border-bottom: 2px solid var(--sklearn-color-text-on-default-background);\n  flex-grow: 1;\n}\n\n#sk-container-id-2 div.sk-parallel {\n  display: flex;\n  align-items: stretch;\n  justify-content: center;\n  background-color: var(--sklearn-color-background);\n  position: relative;\n}\n\n#sk-container-id-2 div.sk-parallel-item {\n  display: flex;\n  flex-direction: column;\n}\n\n#sk-container-id-2 div.sk-parallel-item:first-child::after {\n  align-self: flex-end;\n  width: 50%;\n}\n\n#sk-container-id-2 div.sk-parallel-item:last-child::after {\n  align-self: flex-start;\n  width: 50%;\n}\n\n#sk-container-id-2 div.sk-parallel-item:only-child::after {\n  width: 0;\n}\n\n/* Serial-specific style estimator block */\n\n#sk-container-id-2 div.sk-serial {\n  display: flex;\n  flex-direction: column;\n  align-items: center;\n  background-color: var(--sklearn-color-background);\n  padding-right: 1em;\n  padding-left: 1em;\n}\n\n\n/* Toggleable style: style used for estimator/Pipeline/ColumnTransformer box that is\nclickable and can be expanded/collapsed.\n- Pipeline and ColumnTransformer use this feature and define the default style\n- Estimators will overwrite some part of the style using the `sk-estimator` class\n*/\n\n/* Pipeline and ColumnTransformer style (default) */\n\n#sk-container-id-2 div.sk-toggleable {\n  /* Default theme specific background. It is overwritten whether we have a\n  specific estimator or a Pipeline/ColumnTransformer */\n  background-color: var(--sklearn-color-background);\n}\n\n/* Toggleable label */\n#sk-container-id-2 label.sk-toggleable__label {\n  cursor: pointer;\n  display: block;\n  width: 100%;\n  margin-bottom: 0;\n  padding: 0.5em;\n  box-sizing: border-box;\n  text-align: center;\n}\n\n#sk-container-id-2 label.sk-toggleable__label-arrow:before {\n  /* Arrow on the left of the label */\n  content: \"▸\";\n  float: left;\n  margin-right: 0.25em;\n  color: var(--sklearn-color-icon);\n}\n\n#sk-container-id-2 label.sk-toggleable__label-arrow:hover:before {\n  color: var(--sklearn-color-text);\n}\n\n/* Toggleable content - dropdown */\n\n#sk-container-id-2 div.sk-toggleable__content {\n  max-height: 0;\n  max-width: 0;\n  overflow: hidden;\n  text-align: left;\n  /* unfitted */\n  background-color: var(--sklearn-color-unfitted-level-0);\n}\n\n#sk-container-id-2 div.sk-toggleable__content.fitted {\n  /* fitted */\n  background-color: var(--sklearn-color-fitted-level-0);\n}\n\n#sk-container-id-2 div.sk-toggleable__content pre {\n  margin: 0.2em;\n  border-radius: 0.25em;\n  color: var(--sklearn-color-text);\n  /* unfitted */\n  background-color: var(--sklearn-color-unfitted-level-0);\n}\n\n#sk-container-id-2 div.sk-toggleable__content.fitted pre {\n  /* unfitted */\n  background-color: var(--sklearn-color-fitted-level-0);\n}\n\n#sk-container-id-2 input.sk-toggleable__control:checked~div.sk-toggleable__content {\n  /* Expand drop-down */\n  max-height: 200px;\n  max-width: 100%;\n  overflow: auto;\n}\n\n#sk-container-id-2 input.sk-toggleable__control:checked~label.sk-toggleable__label-arrow:before {\n  content: \"▾\";\n}\n\n/* Pipeline/ColumnTransformer-specific style */\n\n#sk-container-id-2 div.sk-label input.sk-toggleable__control:checked~label.sk-toggleable__label {\n  color: var(--sklearn-color-text);\n  background-color: var(--sklearn-color-unfitted-level-2);\n}\n\n#sk-container-id-2 div.sk-label.fitted input.sk-toggleable__control:checked~label.sk-toggleable__label {\n  background-color: var(--sklearn-color-fitted-level-2);\n}\n\n/* Estimator-specific style */\n\n/* Colorize estimator box */\n#sk-container-id-2 div.sk-estimator input.sk-toggleable__control:checked~label.sk-toggleable__label {\n  /* unfitted */\n  background-color: var(--sklearn-color-unfitted-level-2);\n}\n\n#sk-container-id-2 div.sk-estimator.fitted input.sk-toggleable__control:checked~label.sk-toggleable__label {\n  /* fitted */\n  background-color: var(--sklearn-color-fitted-level-2);\n}\n\n#sk-container-id-2 div.sk-label label.sk-toggleable__label,\n#sk-container-id-2 div.sk-label label {\n  /* The background is the default theme color */\n  color: var(--sklearn-color-text-on-default-background);\n}\n\n/* On hover, darken the color of the background */\n#sk-container-id-2 div.sk-label:hover label.sk-toggleable__label {\n  color: var(--sklearn-color-text);\n  background-color: var(--sklearn-color-unfitted-level-2);\n}\n\n/* Label box, darken color on hover, fitted */\n#sk-container-id-2 div.sk-label.fitted:hover label.sk-toggleable__label.fitted {\n  color: var(--sklearn-color-text);\n  background-color: var(--sklearn-color-fitted-level-2);\n}\n\n/* Estimator label */\n\n#sk-container-id-2 div.sk-label label {\n  font-family: monospace;\n  font-weight: bold;\n  display: inline-block;\n  line-height: 1.2em;\n}\n\n#sk-container-id-2 div.sk-label-container {\n  text-align: center;\n}\n\n/* Estimator-specific */\n#sk-container-id-2 div.sk-estimator {\n  font-family: monospace;\n  border: 1px dotted var(--sklearn-color-border-box);\n  border-radius: 0.25em;\n  box-sizing: border-box;\n  margin-bottom: 0.5em;\n  /* unfitted */\n  background-color: var(--sklearn-color-unfitted-level-0);\n}\n\n#sk-container-id-2 div.sk-estimator.fitted {\n  /* fitted */\n  background-color: var(--sklearn-color-fitted-level-0);\n}\n\n/* on hover */\n#sk-container-id-2 div.sk-estimator:hover {\n  /* unfitted */\n  background-color: var(--sklearn-color-unfitted-level-2);\n}\n\n#sk-container-id-2 div.sk-estimator.fitted:hover {\n  /* fitted */\n  background-color: var(--sklearn-color-fitted-level-2);\n}\n\n/* Specification for estimator info (e.g. \"i\" and \"?\") */\n\n/* Common style for \"i\" and \"?\" */\n\n.sk-estimator-doc-link,\na:link.sk-estimator-doc-link,\na:visited.sk-estimator-doc-link {\n  float: right;\n  font-size: smaller;\n  line-height: 1em;\n  font-family: monospace;\n  background-color: var(--sklearn-color-background);\n  border-radius: 1em;\n  height: 1em;\n  width: 1em;\n  text-decoration: none !important;\n  margin-left: 1ex;\n  /* unfitted */\n  border: var(--sklearn-color-unfitted-level-1) 1pt solid;\n  color: var(--sklearn-color-unfitted-level-1);\n}\n\n.sk-estimator-doc-link.fitted,\na:link.sk-estimator-doc-link.fitted,\na:visited.sk-estimator-doc-link.fitted {\n  /* fitted */\n  border: var(--sklearn-color-fitted-level-1) 1pt solid;\n  color: var(--sklearn-color-fitted-level-1);\n}\n\n/* On hover */\ndiv.sk-estimator:hover .sk-estimator-doc-link:hover,\n.sk-estimator-doc-link:hover,\ndiv.sk-label-container:hover .sk-estimator-doc-link:hover,\n.sk-estimator-doc-link:hover {\n  /* unfitted */\n  background-color: var(--sklearn-color-unfitted-level-3);\n  color: var(--sklearn-color-background);\n  text-decoration: none;\n}\n\ndiv.sk-estimator.fitted:hover .sk-estimator-doc-link.fitted:hover,\n.sk-estimator-doc-link.fitted:hover,\ndiv.sk-label-container:hover .sk-estimator-doc-link.fitted:hover,\n.sk-estimator-doc-link.fitted:hover {\n  /* fitted */\n  background-color: var(--sklearn-color-fitted-level-3);\n  color: var(--sklearn-color-background);\n  text-decoration: none;\n}\n\n/* Span, style for the box shown on hovering the info icon */\n.sk-estimator-doc-link span {\n  display: none;\n  z-index: 9999;\n  position: relative;\n  font-weight: normal;\n  right: .2ex;\n  padding: .5ex;\n  margin: .5ex;\n  width: min-content;\n  min-width: 20ex;\n  max-width: 50ex;\n  color: var(--sklearn-color-text);\n  box-shadow: 2pt 2pt 4pt #999;\n  /* unfitted */\n  background: var(--sklearn-color-unfitted-level-0);\n  border: .5pt solid var(--sklearn-color-unfitted-level-3);\n}\n\n.sk-estimator-doc-link.fitted span {\n  /* fitted */\n  background: var(--sklearn-color-fitted-level-0);\n  border: var(--sklearn-color-fitted-level-3);\n}\n\n.sk-estimator-doc-link:hover span {\n  display: block;\n}\n\n/* \"?\"-specific style due to the `<a>` HTML tag */\n\n#sk-container-id-2 a.estimator_doc_link {\n  float: right;\n  font-size: 1rem;\n  line-height: 1em;\n  font-family: monospace;\n  background-color: var(--sklearn-color-background);\n  border-radius: 1rem;\n  height: 1rem;\n  width: 1rem;\n  text-decoration: none;\n  /* unfitted */\n  color: var(--sklearn-color-unfitted-level-1);\n  border: var(--sklearn-color-unfitted-level-1) 1pt solid;\n}\n\n#sk-container-id-2 a.estimator_doc_link.fitted {\n  /* fitted */\n  border: var(--sklearn-color-fitted-level-1) 1pt solid;\n  color: var(--sklearn-color-fitted-level-1);\n}\n\n/* On hover */\n#sk-container-id-2 a.estimator_doc_link:hover {\n  /* unfitted */\n  background-color: var(--sklearn-color-unfitted-level-3);\n  color: var(--sklearn-color-background);\n  text-decoration: none;\n}\n\n#sk-container-id-2 a.estimator_doc_link.fitted:hover {\n  /* fitted */\n  background-color: var(--sklearn-color-fitted-level-3);\n}\n</style><div id=\"sk-container-id-2\" class=\"sk-top-container\"><div class=\"sk-text-repr-fallback\"><pre>LinearRegression()</pre><b>In a Jupyter environment, please rerun this cell to show the HTML representation or trust the notebook. <br />On GitHub, the HTML representation is unable to render, please try loading this page with nbviewer.org.</b></div><div class=\"sk-container\" hidden><div class=\"sk-item\"><div class=\"sk-estimator fitted sk-toggleable\"><input class=\"sk-toggleable__control sk-hidden--visually\" id=\"sk-estimator-id-2\" type=\"checkbox\" checked><label for=\"sk-estimator-id-2\" class=\"sk-toggleable__label fitted sk-toggleable__label-arrow fitted\">&nbsp;&nbsp;LinearRegression<a class=\"sk-estimator-doc-link fitted\" rel=\"noreferrer\" target=\"_blank\" href=\"https://scikit-learn.org/1.4/modules/generated/sklearn.linear_model.LinearRegression.html\">?<span>Documentation for LinearRegression</span></a><span class=\"sk-estimator-doc-link fitted\">i<span>Fitted</span></span></label><div class=\"sk-toggleable__content fitted\"><pre>LinearRegression()</pre></div> </div></div></div></div>"
     },
     "execution_count": 357,
     "metadata": {},
     "output_type": "execute_result"
    }
   ],
   "source": [
    "model.fit(x_train, y_train)"
   ]
  },
  {
   "cell_type": "code",
   "execution_count": 358,
   "id": "fa0c78e7-5573-40b1-b236-b626a7cb1a2f",
   "metadata": {
    "ExecuteTime": {
     "end_time": "2024-03-29T14:45:00.928707Z",
     "start_time": "2024-03-29T14:45:00.919012Z"
    }
   },
   "outputs": [],
   "source": [
    "predict = model.predict(x_test)"
   ]
  },
  {
   "cell_type": "code",
   "execution_count": 359,
   "id": "ae93ffff-7bab-41c7-851e-b3664519cb1d",
   "metadata": {
    "ExecuteTime": {
     "end_time": "2024-03-29T14:45:00.941216Z",
     "start_time": "2024-03-29T14:45:00.931670Z"
    }
   },
   "outputs": [
    {
     "data": {
      "text/plain": "array([ 684461.10054854, 1332494.59221777,  513639.03283915, ...,\n        239930.49207006,  368297.07476519,   32493.07166931])"
     },
     "execution_count": 359,
     "metadata": {},
     "output_type": "execute_result"
    }
   ],
   "source": [
    "predict"
   ]
  },
  {
   "cell_type": "code",
   "execution_count": 360,
   "id": "95abe4a5-5320-40ae-b5a1-bdabb319d8aa",
   "metadata": {
    "ExecuteTime": {
     "end_time": "2024-03-29T14:45:00.961160Z",
     "start_time": "2024-03-29T14:45:00.943549Z"
    }
   },
   "outputs": [
    {
     "data": {
      "text/plain": "      name  year  km_driven  fuel  seller_type  transmission  owner  mileage  \\\n3431     1  2016      50000     1            1             1      1     25.2   \n\n      engine  max_power  seats  \n3431  1248.0       74.0    5.0  ",
      "text/html": "<div>\n<style scoped>\n    .dataframe tbody tr th:only-of-type {\n        vertical-align: middle;\n    }\n\n    .dataframe tbody tr th {\n        vertical-align: top;\n    }\n\n    .dataframe thead th {\n        text-align: right;\n    }\n</style>\n<table border=\"1\" class=\"dataframe\">\n  <thead>\n    <tr style=\"text-align: right;\">\n      <th></th>\n      <th>name</th>\n      <th>year</th>\n      <th>km_driven</th>\n      <th>fuel</th>\n      <th>seller_type</th>\n      <th>transmission</th>\n      <th>owner</th>\n      <th>mileage</th>\n      <th>engine</th>\n      <th>max_power</th>\n      <th>seats</th>\n    </tr>\n  </thead>\n  <tbody>\n    <tr>\n      <th>3431</th>\n      <td>1</td>\n      <td>2016</td>\n      <td>50000</td>\n      <td>1</td>\n      <td>1</td>\n      <td>1</td>\n      <td>1</td>\n      <td>25.2</td>\n      <td>1248.0</td>\n      <td>74.0</td>\n      <td>5.0</td>\n    </tr>\n  </tbody>\n</table>\n</div>"
     },
     "execution_count": 360,
     "metadata": {},
     "output_type": "execute_result"
    }
   ],
   "source": [
    "x_train.head(1)"
   ]
  },
  {
   "cell_type": "code",
   "execution_count": 361,
   "id": "5fe11fba-6100-4756-859b-90aa1fa3bde1",
   "metadata": {
    "ExecuteTime": {
     "end_time": "2024-03-29T14:45:00.971898Z",
     "start_time": "2024-03-29T14:45:00.963546Z"
    }
   },
   "outputs": [],
   "source": [
    "input_data_model = pd.DataFrame(\n",
    "    [[5,2022,12000,1,1,1,1,12.99,2494.0,100.6,5.0]],\n",
    "    columns=['name','year','km_driven','fuel','seller_type','transmission','owner','mileage','engine','max_power','seats'])"
   ]
  },
  {
   "cell_type": "code",
   "execution_count": 362,
   "id": "1e8d15d4-d0fb-4b97-83a8-d972306542c6",
   "metadata": {
    "ExecuteTime": {
     "end_time": "2024-03-29T14:45:00.990337Z",
     "start_time": "2024-03-29T14:45:00.973960Z"
    }
   },
   "outputs": [
    {
     "data": {
      "text/plain": "   name  year  km_driven  fuel  seller_type  transmission  owner  mileage  \\\n0     5  2022      12000     1            1             1      1    12.99   \n\n   engine  max_power  seats  \n0  2494.0      100.6    5.0  ",
      "text/html": "<div>\n<style scoped>\n    .dataframe tbody tr th:only-of-type {\n        vertical-align: middle;\n    }\n\n    .dataframe tbody tr th {\n        vertical-align: top;\n    }\n\n    .dataframe thead th {\n        text-align: right;\n    }\n</style>\n<table border=\"1\" class=\"dataframe\">\n  <thead>\n    <tr style=\"text-align: right;\">\n      <th></th>\n      <th>name</th>\n      <th>year</th>\n      <th>km_driven</th>\n      <th>fuel</th>\n      <th>seller_type</th>\n      <th>transmission</th>\n      <th>owner</th>\n      <th>mileage</th>\n      <th>engine</th>\n      <th>max_power</th>\n      <th>seats</th>\n    </tr>\n  </thead>\n  <tbody>\n    <tr>\n      <th>0</th>\n      <td>5</td>\n      <td>2022</td>\n      <td>12000</td>\n      <td>1</td>\n      <td>1</td>\n      <td>1</td>\n      <td>1</td>\n      <td>12.99</td>\n      <td>2494.0</td>\n      <td>100.6</td>\n      <td>5.0</td>\n    </tr>\n  </tbody>\n</table>\n</div>"
     },
     "execution_count": 362,
     "metadata": {},
     "output_type": "execute_result"
    }
   ],
   "source": [
    "input_data_model"
   ]
  },
  {
   "cell_type": "code",
   "execution_count": 363,
   "id": "4428a163-f09e-4e2e-a463-7f697295dc05",
   "metadata": {
    "ExecuteTime": {
     "end_time": "2024-03-29T14:45:01.004933Z",
     "start_time": "2024-03-29T14:45:00.992797Z"
    }
   },
   "outputs": [
    {
     "data": {
      "text/plain": "array([1015881.82703359])"
     },
     "execution_count": 363,
     "metadata": {},
     "output_type": "execute_result"
    }
   ],
   "source": [
    "model.predict(input_data_model)"
   ]
  },
  {
   "cell_type": "code",
   "execution_count": 364,
   "id": "16725c90-ce92-4376-bd84-998c310357a1",
   "metadata": {
    "ExecuteTime": {
     "end_time": "2024-03-29T14:45:01.013508Z",
     "start_time": "2024-03-29T14:45:01.007198Z"
    }
   },
   "outputs": [],
   "source": [
    "import pickle as pk"
   ]
  },
  {
   "cell_type": "code",
   "execution_count": 365,
   "id": "e97851e3-db46-43fb-9758-19c473ce9709",
   "metadata": {
    "ExecuteTime": {
     "end_time": "2024-03-29T14:45:01.024352Z",
     "start_time": "2024-03-29T14:45:01.015931Z"
    }
   },
   "outputs": [],
   "source": [
    "pk.dump(model,open('model.pkl','wb'))"
   ]
  },
  {
   "cell_type": "code",
   "execution_count": 366,
   "id": "bada309e-3978-4645-acd8-5fcc358f0d97",
   "metadata": {
    "ExecuteTime": {
     "end_time": "2024-03-29T14:45:01.051492Z",
     "start_time": "2024-03-29T14:45:01.026879Z"
    }
   },
   "outputs": [
    {
     "data": {
      "text/plain": "      name  year  km_driven  fuel  seller_type  transmission  owner  mileage  \\\n0        1  2014     145500     1            1             1      1    23.40   \n1        2  2014     120000     1            1             1      2    21.14   \n2        3  2006     140000     2            1             1      3    17.70   \n3        4  2010     127000     1            1             1      1    23.00   \n4        1  2007     120000     2            1             1      1    16.10   \n...    ...   ...        ...   ...          ...           ...    ...      ...   \n6713     1  2013      50000     2            1             1      2    18.90   \n6714     4  2014      80000     1            1             1      2    22.54   \n6715     4  2013     110000     2            1             1      1    18.50   \n6716     4  2007     119000     1            1             1      4    16.80   \n6717     1  2009     120000     1            1             1      1    19.30   \n\n      engine  max_power  seats  \n0     1248.0      74.00    5.0  \n1     1498.0     103.52    5.0  \n2     1497.0      78.00    5.0  \n3     1396.0      90.00    5.0  \n4     1298.0      88.20    5.0  \n...      ...        ...    ...  \n6713   998.0      67.10    5.0  \n6714  1396.0      88.73    5.0  \n6715  1197.0      82.85    5.0  \n6716  1493.0     110.00    5.0  \n6717  1248.0      73.90    5.0  \n\n[6718 rows x 11 columns]",
      "text/html": "<div>\n<style scoped>\n    .dataframe tbody tr th:only-of-type {\n        vertical-align: middle;\n    }\n\n    .dataframe tbody tr th {\n        vertical-align: top;\n    }\n\n    .dataframe thead th {\n        text-align: right;\n    }\n</style>\n<table border=\"1\" class=\"dataframe\">\n  <thead>\n    <tr style=\"text-align: right;\">\n      <th></th>\n      <th>name</th>\n      <th>year</th>\n      <th>km_driven</th>\n      <th>fuel</th>\n      <th>seller_type</th>\n      <th>transmission</th>\n      <th>owner</th>\n      <th>mileage</th>\n      <th>engine</th>\n      <th>max_power</th>\n      <th>seats</th>\n    </tr>\n  </thead>\n  <tbody>\n    <tr>\n      <th>0</th>\n      <td>1</td>\n      <td>2014</td>\n      <td>145500</td>\n      <td>1</td>\n      <td>1</td>\n      <td>1</td>\n      <td>1</td>\n      <td>23.40</td>\n      <td>1248.0</td>\n      <td>74.00</td>\n      <td>5.0</td>\n    </tr>\n    <tr>\n      <th>1</th>\n      <td>2</td>\n      <td>2014</td>\n      <td>120000</td>\n      <td>1</td>\n      <td>1</td>\n      <td>1</td>\n      <td>2</td>\n      <td>21.14</td>\n      <td>1498.0</td>\n      <td>103.52</td>\n      <td>5.0</td>\n    </tr>\n    <tr>\n      <th>2</th>\n      <td>3</td>\n      <td>2006</td>\n      <td>140000</td>\n      <td>2</td>\n      <td>1</td>\n      <td>1</td>\n      <td>3</td>\n      <td>17.70</td>\n      <td>1497.0</td>\n      <td>78.00</td>\n      <td>5.0</td>\n    </tr>\n    <tr>\n      <th>3</th>\n      <td>4</td>\n      <td>2010</td>\n      <td>127000</td>\n      <td>1</td>\n      <td>1</td>\n      <td>1</td>\n      <td>1</td>\n      <td>23.00</td>\n      <td>1396.0</td>\n      <td>90.00</td>\n      <td>5.0</td>\n    </tr>\n    <tr>\n      <th>4</th>\n      <td>1</td>\n      <td>2007</td>\n      <td>120000</td>\n      <td>2</td>\n      <td>1</td>\n      <td>1</td>\n      <td>1</td>\n      <td>16.10</td>\n      <td>1298.0</td>\n      <td>88.20</td>\n      <td>5.0</td>\n    </tr>\n    <tr>\n      <th>...</th>\n      <td>...</td>\n      <td>...</td>\n      <td>...</td>\n      <td>...</td>\n      <td>...</td>\n      <td>...</td>\n      <td>...</td>\n      <td>...</td>\n      <td>...</td>\n      <td>...</td>\n      <td>...</td>\n    </tr>\n    <tr>\n      <th>6713</th>\n      <td>1</td>\n      <td>2013</td>\n      <td>50000</td>\n      <td>2</td>\n      <td>1</td>\n      <td>1</td>\n      <td>2</td>\n      <td>18.90</td>\n      <td>998.0</td>\n      <td>67.10</td>\n      <td>5.0</td>\n    </tr>\n    <tr>\n      <th>6714</th>\n      <td>4</td>\n      <td>2014</td>\n      <td>80000</td>\n      <td>1</td>\n      <td>1</td>\n      <td>1</td>\n      <td>2</td>\n      <td>22.54</td>\n      <td>1396.0</td>\n      <td>88.73</td>\n      <td>5.0</td>\n    </tr>\n    <tr>\n      <th>6715</th>\n      <td>4</td>\n      <td>2013</td>\n      <td>110000</td>\n      <td>2</td>\n      <td>1</td>\n      <td>1</td>\n      <td>1</td>\n      <td>18.50</td>\n      <td>1197.0</td>\n      <td>82.85</td>\n      <td>5.0</td>\n    </tr>\n    <tr>\n      <th>6716</th>\n      <td>4</td>\n      <td>2007</td>\n      <td>119000</td>\n      <td>1</td>\n      <td>1</td>\n      <td>1</td>\n      <td>4</td>\n      <td>16.80</td>\n      <td>1493.0</td>\n      <td>110.00</td>\n      <td>5.0</td>\n    </tr>\n    <tr>\n      <th>6717</th>\n      <td>1</td>\n      <td>2009</td>\n      <td>120000</td>\n      <td>1</td>\n      <td>1</td>\n      <td>1</td>\n      <td>1</td>\n      <td>19.30</td>\n      <td>1248.0</td>\n      <td>73.90</td>\n      <td>5.0</td>\n    </tr>\n  </tbody>\n</table>\n<p>6718 rows × 11 columns</p>\n</div>"
     },
     "execution_count": 366,
     "metadata": {},
     "output_type": "execute_result"
    }
   ],
   "source": [
    "input_data"
   ]
  },
  {
   "cell_type": "code",
   "outputs": [],
   "source": [],
   "metadata": {
    "collapsed": false,
    "ExecuteTime": {
     "end_time": "2024-03-29T14:45:01.057734Z",
     "start_time": "2024-03-29T14:45:01.053657Z"
    }
   },
   "id": "1028deffaa3505c8",
   "execution_count": 366
  }
 ],
 "metadata": {
  "kernelspec": {
   "display_name": "Python 3 (ipykernel)",
   "language": "python",
   "name": "python3"
  },
  "language_info": {
   "codemirror_mode": {
    "name": "ipython",
    "version": 3
   },
   "file_extension": ".py",
   "mimetype": "text/x-python",
   "name": "python",
   "nbconvert_exporter": "python",
   "pygments_lexer": "ipython3",
   "version": "3.11.7"
  }
 },
 "nbformat": 4,
 "nbformat_minor": 5
}
