{
 "cells": [
  {
   "cell_type": "code",
   "execution_count": 9,
   "id": "initial_id",
   "metadata": {
    "collapsed": true,
    "ExecuteTime": {
     "end_time": "2024-03-28T21:55:16.095369Z",
     "start_time": "2024-03-28T21:55:16.048370Z"
    }
   },
   "outputs": [],
   "source": [
    "import pandas as pd\n",
    "data = pd.read_csv('Cardetails.csv')"
   ]
  },
  {
   "cell_type": "code",
   "outputs": [
    {
     "data": {
      "text/plain": "                              name  year  selling_price  km_driven    fuel  \\\n0           Maruti Swift Dzire VDI  2014         450000     145500  Diesel   \n1     Skoda Rapid 1.5 TDI Ambition  2014         370000     120000  Diesel   \n2         Honda City 2017-2020 EXi  2006         158000     140000  Petrol   \n3        Hyundai i20 Sportz Diesel  2010         225000     127000  Diesel   \n4           Maruti Swift VXI BSIII  2007         130000     120000  Petrol   \n...                            ...   ...            ...        ...     ...   \n8123             Hyundai i20 Magna  2013         320000     110000  Petrol   \n8124         Hyundai Verna CRDi SX  2007         135000     119000  Diesel   \n8125        Maruti Swift Dzire ZDi  2009         382000     120000  Diesel   \n8126               Tata Indigo CR4  2013         290000      25000  Diesel   \n8127               Tata Indigo CR4  2013         290000      25000  Diesel   \n\n     seller_type transmission                 owner     mileage   engine  \\\n0     Individual       Manual           First Owner   23.4 kmpl  1248 CC   \n1     Individual       Manual          Second Owner  21.14 kmpl  1498 CC   \n2     Individual       Manual           Third Owner   17.7 kmpl  1497 CC   \n3     Individual       Manual           First Owner   23.0 kmpl  1396 CC   \n4     Individual       Manual           First Owner   16.1 kmpl  1298 CC   \n...          ...          ...                   ...         ...      ...   \n8123  Individual       Manual           First Owner   18.5 kmpl  1197 CC   \n8124  Individual       Manual  Fourth & Above Owner   16.8 kmpl  1493 CC   \n8125  Individual       Manual           First Owner   19.3 kmpl  1248 CC   \n8126  Individual       Manual           First Owner  23.57 kmpl  1396 CC   \n8127  Individual       Manual           First Owner  23.57 kmpl  1396 CC   \n\n       max_power                     torque  seats  \n0         74 bhp             190Nm@ 2000rpm    5.0  \n1     103.52 bhp        250Nm@ 1500-2500rpm    5.0  \n2         78 bhp      12.7@ 2,700(kgm@ rpm)    5.0  \n3         90 bhp   22.4 kgm at 1750-2750rpm    5.0  \n4       88.2 bhp      11.5@ 4,500(kgm@ rpm)    5.0  \n...          ...                        ...    ...  \n8123   82.85 bhp           113.7Nm@ 4000rpm    5.0  \n8124     110 bhp  24@ 1,900-2,750(kgm@ rpm)    5.0  \n8125    73.9 bhp             190Nm@ 2000rpm    5.0  \n8126      70 bhp        140Nm@ 1800-3000rpm    5.0  \n8127      70 bhp        140Nm@ 1800-3000rpm    5.0  \n\n[8128 rows x 13 columns]",
      "text/html": "<div>\n<style scoped>\n    .dataframe tbody tr th:only-of-type {\n        vertical-align: middle;\n    }\n\n    .dataframe tbody tr th {\n        vertical-align: top;\n    }\n\n    .dataframe thead th {\n        text-align: right;\n    }\n</style>\n<table border=\"1\" class=\"dataframe\">\n  <thead>\n    <tr style=\"text-align: right;\">\n      <th></th>\n      <th>name</th>\n      <th>year</th>\n      <th>selling_price</th>\n      <th>km_driven</th>\n      <th>fuel</th>\n      <th>seller_type</th>\n      <th>transmission</th>\n      <th>owner</th>\n      <th>mileage</th>\n      <th>engine</th>\n      <th>max_power</th>\n      <th>torque</th>\n      <th>seats</th>\n    </tr>\n  </thead>\n  <tbody>\n    <tr>\n      <th>0</th>\n      <td>Maruti Swift Dzire VDI</td>\n      <td>2014</td>\n      <td>450000</td>\n      <td>145500</td>\n      <td>Diesel</td>\n      <td>Individual</td>\n      <td>Manual</td>\n      <td>First Owner</td>\n      <td>23.4 kmpl</td>\n      <td>1248 CC</td>\n      <td>74 bhp</td>\n      <td>190Nm@ 2000rpm</td>\n      <td>5.0</td>\n    </tr>\n    <tr>\n      <th>1</th>\n      <td>Skoda Rapid 1.5 TDI Ambition</td>\n      <td>2014</td>\n      <td>370000</td>\n      <td>120000</td>\n      <td>Diesel</td>\n      <td>Individual</td>\n      <td>Manual</td>\n      <td>Second Owner</td>\n      <td>21.14 kmpl</td>\n      <td>1498 CC</td>\n      <td>103.52 bhp</td>\n      <td>250Nm@ 1500-2500rpm</td>\n      <td>5.0</td>\n    </tr>\n    <tr>\n      <th>2</th>\n      <td>Honda City 2017-2020 EXi</td>\n      <td>2006</td>\n      <td>158000</td>\n      <td>140000</td>\n      <td>Petrol</td>\n      <td>Individual</td>\n      <td>Manual</td>\n      <td>Third Owner</td>\n      <td>17.7 kmpl</td>\n      <td>1497 CC</td>\n      <td>78 bhp</td>\n      <td>12.7@ 2,700(kgm@ rpm)</td>\n      <td>5.0</td>\n    </tr>\n    <tr>\n      <th>3</th>\n      <td>Hyundai i20 Sportz Diesel</td>\n      <td>2010</td>\n      <td>225000</td>\n      <td>127000</td>\n      <td>Diesel</td>\n      <td>Individual</td>\n      <td>Manual</td>\n      <td>First Owner</td>\n      <td>23.0 kmpl</td>\n      <td>1396 CC</td>\n      <td>90 bhp</td>\n      <td>22.4 kgm at 1750-2750rpm</td>\n      <td>5.0</td>\n    </tr>\n    <tr>\n      <th>4</th>\n      <td>Maruti Swift VXI BSIII</td>\n      <td>2007</td>\n      <td>130000</td>\n      <td>120000</td>\n      <td>Petrol</td>\n      <td>Individual</td>\n      <td>Manual</td>\n      <td>First Owner</td>\n      <td>16.1 kmpl</td>\n      <td>1298 CC</td>\n      <td>88.2 bhp</td>\n      <td>11.5@ 4,500(kgm@ rpm)</td>\n      <td>5.0</td>\n    </tr>\n    <tr>\n      <th>...</th>\n      <td>...</td>\n      <td>...</td>\n      <td>...</td>\n      <td>...</td>\n      <td>...</td>\n      <td>...</td>\n      <td>...</td>\n      <td>...</td>\n      <td>...</td>\n      <td>...</td>\n      <td>...</td>\n      <td>...</td>\n      <td>...</td>\n    </tr>\n    <tr>\n      <th>8123</th>\n      <td>Hyundai i20 Magna</td>\n      <td>2013</td>\n      <td>320000</td>\n      <td>110000</td>\n      <td>Petrol</td>\n      <td>Individual</td>\n      <td>Manual</td>\n      <td>First Owner</td>\n      <td>18.5 kmpl</td>\n      <td>1197 CC</td>\n      <td>82.85 bhp</td>\n      <td>113.7Nm@ 4000rpm</td>\n      <td>5.0</td>\n    </tr>\n    <tr>\n      <th>8124</th>\n      <td>Hyundai Verna CRDi SX</td>\n      <td>2007</td>\n      <td>135000</td>\n      <td>119000</td>\n      <td>Diesel</td>\n      <td>Individual</td>\n      <td>Manual</td>\n      <td>Fourth &amp; Above Owner</td>\n      <td>16.8 kmpl</td>\n      <td>1493 CC</td>\n      <td>110 bhp</td>\n      <td>24@ 1,900-2,750(kgm@ rpm)</td>\n      <td>5.0</td>\n    </tr>\n    <tr>\n      <th>8125</th>\n      <td>Maruti Swift Dzire ZDi</td>\n      <td>2009</td>\n      <td>382000</td>\n      <td>120000</td>\n      <td>Diesel</td>\n      <td>Individual</td>\n      <td>Manual</td>\n      <td>First Owner</td>\n      <td>19.3 kmpl</td>\n      <td>1248 CC</td>\n      <td>73.9 bhp</td>\n      <td>190Nm@ 2000rpm</td>\n      <td>5.0</td>\n    </tr>\n    <tr>\n      <th>8126</th>\n      <td>Tata Indigo CR4</td>\n      <td>2013</td>\n      <td>290000</td>\n      <td>25000</td>\n      <td>Diesel</td>\n      <td>Individual</td>\n      <td>Manual</td>\n      <td>First Owner</td>\n      <td>23.57 kmpl</td>\n      <td>1396 CC</td>\n      <td>70 bhp</td>\n      <td>140Nm@ 1800-3000rpm</td>\n      <td>5.0</td>\n    </tr>\n    <tr>\n      <th>8127</th>\n      <td>Tata Indigo CR4</td>\n      <td>2013</td>\n      <td>290000</td>\n      <td>25000</td>\n      <td>Diesel</td>\n      <td>Individual</td>\n      <td>Manual</td>\n      <td>First Owner</td>\n      <td>23.57 kmpl</td>\n      <td>1396 CC</td>\n      <td>70 bhp</td>\n      <td>140Nm@ 1800-3000rpm</td>\n      <td>5.0</td>\n    </tr>\n  </tbody>\n</table>\n<p>8128 rows × 13 columns</p>\n</div>"
     },
     "execution_count": 11,
     "metadata": {},
     "output_type": "execute_result"
    }
   ],
   "source": [
    "data"
   ],
   "metadata": {
    "collapsed": false,
    "ExecuteTime": {
     "end_time": "2024-03-28T21:55:39.753476Z",
     "start_time": "2024-03-28T21:55:39.722394Z"
    }
   },
   "id": "ffa779766366423a",
   "execution_count": 11
  },
  {
   "cell_type": "code",
   "outputs": [],
   "source": [],
   "metadata": {
    "collapsed": false
   },
   "id": "541ba370bfd5626a"
  }
 ],
 "metadata": {
  "kernelspec": {
   "display_name": "Python 3",
   "language": "python",
   "name": "python3"
  },
  "language_info": {
   "codemirror_mode": {
    "name": "ipython",
    "version": 2
   },
   "file_extension": ".py",
   "mimetype": "text/x-python",
   "name": "python",
   "nbconvert_exporter": "python",
   "pygments_lexer": "ipython2",
   "version": "2.7.6"
  }
 },
 "nbformat": 4,
 "nbformat_minor": 5
}
